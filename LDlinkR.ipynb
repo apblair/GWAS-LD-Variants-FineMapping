{
 "cells": [
  {
   "cell_type": "markdown",
   "id": "715eaf81-8ce2-45e7-bc15-0595ad2d18ec",
   "metadata": {},
   "source": [
    "# Fine Mapping LD variants in the 1K Genomes Project Phase 3 European Cohort using Human Genetic Atrial Fibrillation Lead Index Variants from GWAS Summary Statistics Reported in Neilsen et al., 2018\n",
    "\n",
    "**Authors**: Andrew Blair\n",
    "\n",
    "**Maintainer(s)**: Andrew Blair\n",
    "\n",
    "**Email**: apblair.lab@gmail.com\n",
    "\n",
    "## Purpose\n",
    "The purpose of this study is to fine-map linkage disequilibrium (LD) variants in the European cohort of the 1000 Genomes Project Phase 3, using lead index variants for atrial fibrillation (AF) identified in a genome-wide association study (GWAS) by Nielsen et al., 2018. This analysis aims to identify credible sets of candidate causal variants to further understand the genetic architecture and biology of AF.\n",
    "\n",
    "## Materials & Methods- Data Analysis\n",
    "\n",
    "We obtained published AF GWAS summary statistics and index variants for 111 disease-associated loci (Nielsen et al., 2018). To construct credible sets of variants for each locus, we first extracted all variants in LD (r^2 > 0.1 using the EUR (European) subset of 1000 Genomes phase 3) in a large window (±1 Mb) around each index variant. We next calculated approximate Bayes factors (ABF) for each variant using effect size and SE estimates. We then calculated posterior probability of association (PPA) for each variant by dividing its ABF by the sum of ABF for all variants within the locus. For each locus, we then defined 99% credible sets by sorting variants by descending PPA and retaining variants that added up to a cumulative PPA of >0.99. This resulted in an output of 456 candidate causal variants.\n",
    "\n",
    "## Models\n",
    "\n",
    "\n",
    "| Models    | Description |\n",
    "| -------- | ------- |\n",
    "|  Approximate Bayes Factor | A statistical model that estimates the strength of association between genetic variants and the trait of interest, accounting for effect size and standard error.  |\n",
    "|  Prior Probability Association | A model that calculates the probability that a variant is causally associated with the trait, based on the ABF and the sum of ABFs for all variants within a locus.    |\n",
    "\n",
    "## Databases\n",
    "\n",
    "| Genomic Database Reference    | Description |\n",
    "| -------- | ------- |\n",
    "| Linkage Disequilibrium Variants  | Variants that are inherited together more often than would be expected by chance, indicating a non-random association in a population. |\n",
    "| Reference Genome | The standard DNA sequence to which other sequences are compared; in this case, the European subset of the 1000 Genomes Project Phase 3.\n",
    " |\n",
    "| GWAS Lead Index Variant Set | A collection of top-associated genetic variants from GWAS that serve as proxies for mapping additional linked variants.\n",
    " |\n",
    "| SNP Database | A repository of single nucleotide polymorphisms, including information about their genetic location, alleles, and associated traits.|\n",
    "\n",
    "## Resources\n",
    "[LDlink](https://ldlink.nih.gov/?tab=home): A suite of web-based applications designed to easily and efficiently interrogate linkage disequilibrium in population groups\n",
    "\n",
    "[LDlinkR](https://cran.r-project.org/web/packages/LDlinkR/vignettes/LDlinkR.html): An R Package for Rapidly Calculating Linkage Disequilibrium Statistics in Diverse Populations\n",
    "\n",
    "[LDexpress](https://bmcbioinformatics.biomedcentral.com/articles/10.1186/s12859-021-04531-8): An online tool for integrating population-specific linkage disequilibrium patterns with tissue-specific expression data\n",
    "\n",
    "## References\n",
    "\n",
    "1. Nielsen, J. B. et al. Biobank-driven genomic discovery yields new insight into atrial fibrillation biology. Nat. Genet. 50, 1234–1239 (2018).\n",
    "\n",
    "2. Lin, S.-H., Thakur, R. & Machiela, M. J. LDexpress: an online tool for integrating population-specific linkage disequilibrium patterns with tissue-specific expression data. BMC Bioinform. 22, 608 (2021).\n",
    "\n",
    "3. 1000 Genomes Project Consortium, A. Auton, L. D. Brooks, R. M. Durbin, E. P. Garrison, H. M. Kang, J. O. Korbel, J. L. Marchini, S. M. Carthy, G. A. McVean, G. R. Abecasis, A global reference for human genetic variation. Nature 526, 68–74 (2015)."
   ]
  },
  {
   "cell_type": "markdown",
   "id": "3b9bee62-83a0-4d15-a8c7-477ccd14bd7a",
   "metadata": {},
   "source": [
    "# Import Libraries and LDlinkR Token"
   ]
  },
  {
   "cell_type": "code",
   "execution_count": 4,
   "id": "029bf24e-e6a2-4386-9fd7-9d4625e65610",
   "metadata": {
    "vscode": {
     "languageId": "r"
    }
   },
   "outputs": [],
   "source": [
    "# Import libraries\n",
    "library(LDlinkR) \n",
    "library(biomaRt)\n",
    "library(BSgenome.Hsapiens.UCSC.hg38)\n",
    "library(SNPlocs.Hsapiens.dbSNP155.GRCh38)"
   ]
  },
  {
   "cell_type": "code",
   "execution_count": 5,
   "id": "2ea9536a-8173-4a00-a3c2-b8fb06c85e89",
   "metadata": {
    "vscode": {
     "languageId": "r"
    }
   },
   "outputs": [],
   "source": [
    "ldlink_token <- Sys.getenv(\"LDLINK_TOKEN\")"
   ]
  },
  {
   "cell_type": "markdown",
   "id": "d09ff229-e2ea-453b-a302-9379d8ec6cc2",
   "metadata": {},
   "source": [
    "# Define Recipe Functions"
   ]
  },
  {
   "cell_type": "markdown",
   "id": "640b88cb-0e8f-4e81-96dc-41b3184dbb76",
   "metadata": {},
   "source": [
    "## Convert pvalue to Standard Error"
   ]
  },
  {
   "cell_type": "code",
   "execution_count": 6,
   "id": "64d2de4c-d9ee-4b2f-97dc-56cf19c1b8a9",
   "metadata": {
    "vscode": {
     "languageId": "r"
    }
   },
   "outputs": [],
   "source": [
    "# Function to convert p-values to Z-scores and calculate SEs for a list of p-values and effect sizes\n",
    "convert_pvalue_to_SE <- function(p_values, effect_sizes) {\n",
    "  # Ensure p_values and effect_sizes are vectors\n",
    "  if (!is.vector(p_values) || !is.vector(effect_sizes)) {\n",
    "    stop(\"Both p_values and effect_sizes need to be vectors.\")\n",
    "  }\n",
    "  \n",
    "  # Check if the length of p_values and effect_sizes matches\n",
    "  if (length(p_values) != length(effect_sizes)) {\n",
    "    stop(\"The length of p_values and effect_sizes must be the same.\")\n",
    "  }\n",
    "  \n",
    "  # Convert p-values to Z-scores using vectorized operations\n",
    "  z_scores <- qnorm(1 - p_values / 2)\n",
    "  \n",
    "  # Calculate Standard Errors (SEs) using the Z-scores and effect sizes (vectorized operation)\n",
    "  ses <- abs(effect_sizes / z_scores)\n",
    "  \n",
    "  # Return the Standard Errors\n",
    "  return(ses)\n",
    "}"
   ]
  },
  {
   "cell_type": "markdown",
   "id": "faf407af-57be-4637-9bd8-c8308e8c7f6d",
   "metadata": {},
   "source": [
    "## Caclulate Approximate Bayes Factor (ABF)\n",
    "\n",
    "The ABF quantifies the strength of evidence in favor of association between a variant and the trait, relative to the null hypothesis of no association."
   ]
  },
  {
   "cell_type": "code",
   "execution_count": 7,
   "id": "ff7ace7a-e1fb-4feb-b459-d7b40628412c",
   "metadata": {
    "vscode": {
     "languageId": "r"
    }
   },
   "outputs": [],
   "source": [
    "\n",
    "calculate_abf_vectorized <- function(effect_sizes, standard_errors, sigma2_prior) {\n",
    "  if (length(effect_sizes) != length(standard_errors)) {\n",
    "    stop(\"effect_sizes and standard_errors must be vectors of the same length.\")\n",
    "  }\n",
    "  \n",
    "  abf_values <- numeric(length = length(effect_sizes))\n",
    "  \n",
    "  for (i in 1:length(effect_sizes)) {\n",
    "    beta <- effect_sizes[i]\n",
    "    se <- standard_errors[i]\n",
    "    variance_ratio <- sqrt(se^2 + sigma2_prior) / se\n",
    "    exponent_term <- exp(-beta^2 / (2 * (se^2 + sigma2_prior)))\n",
    "    abf <- variance_ratio * exponent_term\n",
    "    abf_values[i] <- abf\n",
    "  }\n",
    "  \n",
    "  return(abf_values)\n",
    "}"
   ]
  },
  {
   "cell_type": "markdown",
   "id": "35c1847f-035b-49d4-aca2-33d72df69f72",
   "metadata": {},
   "source": [
    "## Simulation Example for Approximate Bayes Factor "
   ]
  },
  {
   "cell_type": "code",
   "execution_count": 8,
   "id": "521d67be-5ce6-4f85-97b1-fda65f8a3f5a",
   "metadata": {
    "vscode": {
     "languageId": "r"
    }
   },
   "outputs": [
    {
     "data": {
      "text/html": [
       "<table class=\"dataframe\">\n",
       "<caption>A data.frame: 3 x 3</caption>\n",
       "<thead>\n",
       "\t<tr><th></th><th scope=col>Variant_ID</th><th scope=col>Effect_Size</th><th scope=col>Standard_Error</th></tr>\n",
       "\t<tr><th></th><th scope=col>&lt;chr&gt;</th><th scope=col>&lt;dbl&gt;</th><th scope=col>&lt;dbl&gt;</th></tr>\n",
       "</thead>\n",
       "<tbody>\n",
       "\t<tr><th scope=row>1</th><td>Variant_1</td><td>0.20</td><td>0.05</td></tr>\n",
       "\t<tr><th scope=row>2</th><td>Variant_2</td><td>0.15</td><td>0.06</td></tr>\n",
       "\t<tr><th scope=row>3</th><td>Variant_3</td><td>0.25</td><td>0.04</td></tr>\n",
       "</tbody>\n",
       "</table>\n"
      ],
      "text/latex": [
       "A data.frame: 3 x 3\n",
       "\\begin{tabular}{r|lll}\n",
       "  & Variant\\_ID & Effect\\_Size & Standard\\_Error\\\\\n",
       "  & <chr> & <dbl> & <dbl>\\\\\n",
       "\\hline\n",
       "\t1 & Variant\\_1 & 0.20 & 0.05\\\\\n",
       "\t2 & Variant\\_2 & 0.15 & 0.06\\\\\n",
       "\t3 & Variant\\_3 & 0.25 & 0.04\\\\\n",
       "\\end{tabular}\n"
      ],
      "text/markdown": [
       "\n",
       "A data.frame: 3 x 3\n",
       "\n",
       "| <!--/--> | Variant_ID &lt;chr&gt; | Effect_Size &lt;dbl&gt; | Standard_Error &lt;dbl&gt; |\n",
       "|---|---|---|---|\n",
       "| 1 | Variant_1 | 0.20 | 0.05 |\n",
       "| 2 | Variant_2 | 0.15 | 0.06 |\n",
       "| 3 | Variant_3 | 0.25 | 0.04 |\n",
       "\n"
      ],
      "text/plain": [
       "  Variant_ID Effect_Size Standard_Error\n",
       "1 Variant_1  0.20        0.05          \n",
       "2 Variant_2  0.15        0.06          \n",
       "3 Variant_3  0.25        0.04          "
      ]
     },
     "metadata": {},
     "output_type": "display_data"
    }
   ],
   "source": [
    "# Assuming the dataframe credible_sets_df exists\n",
    "# For demonstration, create a simplified version of the dataframe\n",
    "credible_sets_df <- data.frame(\n",
    "  Variant_ID = c('Variant_1', 'Variant_2', 'Variant_3'),\n",
    "  Effect_Size = c(0.2, 0.15, 0.25),\n",
    "  Standard_Error = c(0.05, 0.06, 0.04)\n",
    ")\n",
    "\n",
    "head(credible_sets_df)"
   ]
  },
  {
   "cell_type": "code",
   "execution_count": 9,
   "id": "63cf22c6-6217-4646-a9a6-55da24a6b0e5",
   "metadata": {
    "vscode": {
     "languageId": "r"
    }
   },
   "outputs": [],
   "source": [
    "# Instantiate ABF model parameters\n",
    "sigma2_prior_example <- 0.04 # Assumed prior variance\n",
    "effect_sizes <- credible_sets_df$Effect_Size\n",
    "standard_errors <- credible_sets_df$Standard_Error"
   ]
  },
  {
   "cell_type": "code",
   "execution_count": 10,
   "id": "4ee631a2-3951-47cb-8109-73d88b39905c",
   "metadata": {
    "vscode": {
     "languageId": "r"
    }
   },
   "outputs": [
    {
     "name": "stdout",
     "output_type": "stream",
     "text": [
      "  Variant_ID Effect_Size Standard_Error      ABF\n",
      "1  Variant_1        0.20           0.05 2.575435\n",
      "2  Variant_2        0.15           0.06 2.688636\n",
      "3  Variant_3        0.25           0.04 2.405713\n"
     ]
    }
   ],
   "source": [
    "# Calculate the ABF for each variant in the dataframe\n",
    "abf_values <- calculate_abf_vectorized(effect_sizes, standard_errors, sigma2_prior_example)\n",
    "\n",
    "# Add the ABF values to the dataframe\n",
    "credible_sets_df$ABF <- abf_values\n",
    "\n",
    "print(credible_sets_df)"
   ]
  },
  {
   "cell_type": "markdown",
   "id": "5c648b40-4bd4-48f4-8837-4bdd5f830336",
   "metadata": {},
   "source": [
    "# Instantiate Reference Genome HG38 and dbSNP155 "
   ]
  },
  {
   "cell_type": "code",
   "execution_count": 14,
   "id": "fc0be1e8-7bb5-4dc1-bc4a-5f53762bec35",
   "metadata": {
    "vscode": {
     "languageId": "r"
    }
   },
   "outputs": [],
   "source": [
    "# Integrate reference genome and alternate reference with SNPs\n",
    "reference_genome <- BSgenome.Hsapiens.UCSC.hg38\n",
    "alt_genome <- injectSNPs(reference_genome, \"SNPlocs.Hsapiens.dbSNP155.GRCh38\")"
   ]
  },
  {
   "cell_type": "code",
   "execution_count": 12,
   "id": "df0fc1d8-5b49-464c-8ea4-e64fc08deab7",
   "metadata": {
    "vscode": {
     "languageId": "r"
    }
   },
   "outputs": [],
   "source": [
    "# Human SNP locations and alleles extracted from dbSNP Build 155 and placed on the hg38 assembly\n",
    "snps <- SNPlocs.Hsapiens.dbSNP155.GRCh38"
   ]
  },
  {
   "cell_type": "markdown",
   "id": "af33a8f9-b0eb-4848-bc36-c01f4e0a8187",
   "metadata": {},
   "source": [
    "# Import AFib GWAS Lead Index Variants"
   ]
  },
  {
   "cell_type": "code",
   "execution_count": 15,
   "id": "4b04afca",
   "metadata": {
    "vscode": {
     "languageId": "r"
    }
   },
   "outputs": [],
   "source": [
    "# Import GWAS lead index variants reported by Nielsen et al., 2018\n",
    "gwas_AF <- read.table('41588_2018_171_MOESM3_ESM.tsv', sep='\\t', header=TRUE)"
   ]
  },
  {
   "cell_type": "code",
   "execution_count": 16,
   "id": "0c639161",
   "metadata": {
    "vscode": {
     "languageId": "r"
    }
   },
   "outputs": [
    {
     "data": {
      "text/html": [
       "<table class=\"dataframe\">\n",
       "<caption>A data.frame: 6 x 12</caption>\n",
       "<thead>\n",
       "\t<tr><th></th><th scope=col>rsID</th><th scope=col>Position..hg19.</th><th scope=col>Risk.reference.allele</th><th scope=col>RAF</th><th scope=col>OR..95..CI.</th><th scope=col>P.value</th><th scope=col>P.value.heterogeneity</th><th scope=col>Novelty.of.locus</th><th scope=col>Annotation</th><th scope=col>No..additional.independent.risk.variants</th><th scope=col>No..prioritized.genes</th><th scope=col>Prioritized.genes</th></tr>\n",
       "\t<tr><th></th><th scope=col>&lt;chr&gt;</th><th scope=col>&lt;chr&gt;</th><th scope=col>&lt;chr&gt;</th><th scope=col>&lt;dbl&gt;</th><th scope=col>&lt;chr&gt;</th><th scope=col>&lt;dbl&gt;</th><th scope=col>&lt;dbl&gt;</th><th scope=col>&lt;chr&gt;</th><th scope=col>&lt;chr&gt;</th><th scope=col>&lt;int&gt;</th><th scope=col>&lt;int&gt;</th><th scope=col>&lt;chr&gt;</th></tr>\n",
       "</thead>\n",
       "<tbody>\n",
       "\t<tr><th scope=row>1</th><td>rs284277   </td><td>chr1:10790797 </td><td>C/A</td><td>0.383</td><td>1.04 [1.03-1.06]</td><td>1.245e-09</td><td>0.72720</td><td>novel</td><td>intronic/CASZ1</td><td>0</td><td>1</td><td>CASZ1  </td></tr>\n",
       "\t<tr><th scope=row>2</th><td>rs7529220  </td><td>chr1:22282619 </td><td>C/T</td><td>0.847</td><td>1.06 [1.04-1.08]</td><td>1.983e-10</td><td>0.51700</td><td>novel</td><td>intergenic/.  </td><td>0</td><td>1</td><td>HSPG2  </td></tr>\n",
       "\t<tr><th scope=row>3</th><td>rs2885697  </td><td>chr1:41544279 </td><td>G/T</td><td>0.352</td><td>1.04 [1.03-1.06]</td><td>2.884e-10</td><td>0.90840</td><td>novel</td><td>intronic/SCMH1</td><td>0</td><td>1</td><td>SCMH1  </td></tr>\n",
       "\t<tr><th scope=row>4</th><td>rs11590635 </td><td>chr1:49309764 </td><td>A/G</td><td>0.024</td><td>1.16 [1.10-1.21]</td><td>4.123e-09</td><td>0.04013</td><td>novel</td><td>intronic/AGBL4</td><td>0</td><td>1</td><td>AGBL4  </td></tr>\n",
       "\t<tr><th scope=row>5</th><td>rs146518726</td><td>chr1:51535039 </td><td>A/G</td><td>0.033</td><td>1.17 [1.13-1.22]</td><td>8.270e-15</td><td>0.09511</td><td>known</td><td>intergenic/.  </td><td>0</td><td>1</td><td>MIR6500</td></tr>\n",
       "\t<tr><th scope=row>6</th><td>rs1545300  </td><td>chr1:112464004</td><td>C/T</td><td>0.691</td><td>1.06 [1.04-1.07]</td><td>1.481e-14</td><td>0.16600</td><td>known</td><td>intronic/KCND3</td><td>0</td><td>1</td><td>KCND3  </td></tr>\n",
       "</tbody>\n",
       "</table>\n"
      ],
      "text/latex": [
       "A data.frame: 6 x 12\n",
       "\\begin{tabular}{r|llllllllllll}\n",
       "  & rsID & Position..hg19. & Risk.reference.allele & RAF & OR..95..CI. & P.value & P.value.heterogeneity & Novelty.of.locus & Annotation & No..additional.independent.risk.variants & No..prioritized.genes & Prioritized.genes\\\\\n",
       "  & <chr> & <chr> & <chr> & <dbl> & <chr> & <dbl> & <dbl> & <chr> & <chr> & <int> & <int> & <chr>\\\\\n",
       "\\hline\n",
       "\t1 & rs284277    & chr1:10790797  & C/A & 0.383 & 1.04 {[}1.03-1.06{]} & 1.245e-09 & 0.72720 & novel & intronic/CASZ1 & 0 & 1 & CASZ1  \\\\\n",
       "\t2 & rs7529220   & chr1:22282619  & C/T & 0.847 & 1.06 {[}1.04-1.08{]} & 1.983e-10 & 0.51700 & novel & intergenic/.   & 0 & 1 & HSPG2  \\\\\n",
       "\t3 & rs2885697   & chr1:41544279  & G/T & 0.352 & 1.04 {[}1.03-1.06{]} & 2.884e-10 & 0.90840 & novel & intronic/SCMH1 & 0 & 1 & SCMH1  \\\\\n",
       "\t4 & rs11590635  & chr1:49309764  & A/G & 0.024 & 1.16 {[}1.10-1.21{]} & 4.123e-09 & 0.04013 & novel & intronic/AGBL4 & 0 & 1 & AGBL4  \\\\\n",
       "\t5 & rs146518726 & chr1:51535039  & A/G & 0.033 & 1.17 {[}1.13-1.22{]} & 8.270e-15 & 0.09511 & known & intergenic/.   & 0 & 1 & MIR6500\\\\\n",
       "\t6 & rs1545300   & chr1:112464004 & C/T & 0.691 & 1.06 {[}1.04-1.07{]} & 1.481e-14 & 0.16600 & known & intronic/KCND3 & 0 & 1 & KCND3  \\\\\n",
       "\\end{tabular}\n"
      ],
      "text/markdown": [
       "\n",
       "A data.frame: 6 x 12\n",
       "\n",
       "| <!--/--> | rsID &lt;chr&gt; | Position..hg19. &lt;chr&gt; | Risk.reference.allele &lt;chr&gt; | RAF &lt;dbl&gt; | OR..95..CI. &lt;chr&gt; | P.value &lt;dbl&gt; | P.value.heterogeneity &lt;dbl&gt; | Novelty.of.locus &lt;chr&gt; | Annotation &lt;chr&gt; | No..additional.independent.risk.variants &lt;int&gt; | No..prioritized.genes &lt;int&gt; | Prioritized.genes &lt;chr&gt; |\n",
       "|---|---|---|---|---|---|---|---|---|---|---|---|---|\n",
       "| 1 | rs284277    | chr1:10790797  | C/A | 0.383 | 1.04 [1.03-1.06] | 1.245e-09 | 0.72720 | novel | intronic/CASZ1 | 0 | 1 | CASZ1   |\n",
       "| 2 | rs7529220   | chr1:22282619  | C/T | 0.847 | 1.06 [1.04-1.08] | 1.983e-10 | 0.51700 | novel | intergenic/.   | 0 | 1 | HSPG2   |\n",
       "| 3 | rs2885697   | chr1:41544279  | G/T | 0.352 | 1.04 [1.03-1.06] | 2.884e-10 | 0.90840 | novel | intronic/SCMH1 | 0 | 1 | SCMH1   |\n",
       "| 4 | rs11590635  | chr1:49309764  | A/G | 0.024 | 1.16 [1.10-1.21] | 4.123e-09 | 0.04013 | novel | intronic/AGBL4 | 0 | 1 | AGBL4   |\n",
       "| 5 | rs146518726 | chr1:51535039  | A/G | 0.033 | 1.17 [1.13-1.22] | 8.270e-15 | 0.09511 | known | intergenic/.   | 0 | 1 | MIR6500 |\n",
       "| 6 | rs1545300   | chr1:112464004 | C/T | 0.691 | 1.06 [1.04-1.07] | 1.481e-14 | 0.16600 | known | intronic/KCND3 | 0 | 1 | KCND3   |\n",
       "\n"
      ],
      "text/plain": [
       "  rsID        Position..hg19. Risk.reference.allele RAF   OR..95..CI.     \n",
       "1 rs284277    chr1:10790797   C/A                   0.383 1.04 [1.03-1.06]\n",
       "2 rs7529220   chr1:22282619   C/T                   0.847 1.06 [1.04-1.08]\n",
       "3 rs2885697   chr1:41544279   G/T                   0.352 1.04 [1.03-1.06]\n",
       "4 rs11590635  chr1:49309764   A/G                   0.024 1.16 [1.10-1.21]\n",
       "5 rs146518726 chr1:51535039   A/G                   0.033 1.17 [1.13-1.22]\n",
       "6 rs1545300   chr1:112464004  C/T                   0.691 1.06 [1.04-1.07]\n",
       "  P.value   P.value.heterogeneity Novelty.of.locus Annotation    \n",
       "1 1.245e-09 0.72720               novel            intronic/CASZ1\n",
       "2 1.983e-10 0.51700               novel            intergenic/.  \n",
       "3 2.884e-10 0.90840               novel            intronic/SCMH1\n",
       "4 4.123e-09 0.04013               novel            intronic/AGBL4\n",
       "5 8.270e-15 0.09511               known            intergenic/.  \n",
       "6 1.481e-14 0.16600               known            intronic/KCND3\n",
       "  No..additional.independent.risk.variants No..prioritized.genes\n",
       "1 0                                        1                    \n",
       "2 0                                        1                    \n",
       "3 0                                        1                    \n",
       "4 0                                        1                    \n",
       "5 0                                        1                    \n",
       "6 0                                        1                    \n",
       "  Prioritized.genes\n",
       "1 CASZ1            \n",
       "2 HSPG2            \n",
       "3 SCMH1            \n",
       "4 AGBL4            \n",
       "5 MIR6500          \n",
       "6 KCND3            "
      ]
     },
     "metadata": {},
     "output_type": "display_data"
    }
   ],
   "source": [
    "head(gwas_AF)"
   ]
  },
  {
   "cell_type": "code",
   "execution_count": 17,
   "id": "985d0a06-f1a8-4f15-a38b-270f186322e2",
   "metadata": {
    "vscode": {
     "languageId": "r"
    }
   },
   "outputs": [],
   "source": [
    "# # Import GWAS lead index variants reported by Nielsen et al., 2018\n",
    "# gwas_AF <- read.table('GWAS-SummaryStatistics-AtrialFibrillation.tsv', sep='\\t', header=TRUE)"
   ]
  },
  {
   "cell_type": "markdown",
   "id": "5c9cfca4-6347-4d91-af91-5f4365a0050a",
   "metadata": {},
   "source": [
    "# rsID to Reference Genome HG38 Coordinates"
   ]
  },
  {
   "cell_type": "code",
   "execution_count": 19,
   "id": "d15ae6a0-869d-4c0b-a4b4-6b05a19ec844",
   "metadata": {
    "vscode": {
     "languageId": "r"
    }
   },
   "outputs": [],
   "source": [
    "# Extract SNP information for a set of rsIDs\n",
    "AF_snps <- snpsById(snps, head(gwas_AF$rsID, n=10))\n",
    "# Translate IUPAC ambiguity codes used to reprsent the alleles into nucleotides\n",
    "map_alleles_nucleotides <- IUPAC_CODE_MAP[mcols(AF_snps)$alleles_as_ambig]\n",
    "\n",
    "# Map GWAS rsID to hg37 genomic coordinates\n",
    "ensembl <- useEnsembl(\"snp\",dataset = \"hsapiens_snp\",GRCh = \"38\")\n",
    "rsID_chr_mapping <- getBM(attributes=c(\"refsnp_id\",\n",
    "                                       \"chr_name\",\n",
    "                                       \"chrom_start\",\n",
    "                                       \"chrom_end\"),\n",
    "                          filters =\"snp_filter\",\n",
    "                          values =gwas_AF$rsID,\n",
    "                          mart = ensembl, uniqueRows=TRUE)"
   ]
  },
  {
   "cell_type": "code",
   "execution_count": 20,
   "id": "a036f7d1-f80b-46f9-91ee-12d842849cdc",
   "metadata": {
    "vscode": {
     "languageId": "r"
    }
   },
   "outputs": [],
   "source": [
    "# head(AF_snps)"
   ]
  },
  {
   "cell_type": "markdown",
   "id": "afcfacaa-55f3-44f8-babf-7062a0655e02",
   "metadata": {},
   "source": [
    "# Calculate Variance of the AFib Lead Variant's Effect Size Estimate"
   ]
  },
  {
   "cell_type": "code",
   "execution_count": 21,
   "id": "f6985e6a-2faf-45d3-bf89-c1a60dc4f45a",
   "metadata": {
    "vscode": {
     "languageId": "r"
    }
   },
   "outputs": [],
   "source": [
    "parse_odds_ratio_ci <- function(odds_ratio_ci) {\n",
    "  # Initialize vectors to store the extracted values\n",
    "  odds_ratios <- numeric(length = length(odds_ratio_ci))\n",
    "  lower_bounds <- numeric(length = length(odds_ratio_ci))\n",
    "  upper_bounds <- numeric(length = length(odds_ratio_ci))\n",
    "  \n",
    "  # Iterate over the list and extract the odds ratio and CI bounds using regular expressions\n",
    "  for (i in 1:length(odds_ratio_ci)) {\n",
    "    # Extract the full match including odds ratio and CI bounds\n",
    "    matches <- regmatches(odds_ratio_ci[i], gregexpr(\"\\\\d+\\\\.\\\\d+\", odds_ratio_ci[i]))\n",
    "    \n",
    "    # Convert matches to numeric and assign to vectors\n",
    "    nums <- as.numeric(matches[[1]])\n",
    "    odds_ratios[i] <- nums[1]\n",
    "    lower_bounds[i] <- nums[2]\n",
    "    upper_bounds[i] <- nums[3]\n",
    "  }\n",
    "  \n",
    "  # Create a dataframe to hold the results with specified column names\n",
    "  results_df <- data.frame(`odds-ratio` = odds_ratios,\n",
    "                           `lower-bound` = lower_bounds,\n",
    "                           `upper-bound` = upper_bounds)\n",
    "  \n",
    "  return(results_df)\n",
    "}\n",
    "\n",
    "summary_stats_df <- parse_odds_ratio_ci(gwas_AF$OR..95..CI.)"
   ]
  },
  {
   "cell_type": "code",
   "execution_count": 22,
   "id": "a7c56bbb-1daa-4f6c-a853-68e1f30eee53",
   "metadata": {
    "vscode": {
     "languageId": "r"
    }
   },
   "outputs": [],
   "source": [
    "z <- qnorm(0.975)\n",
    "\n",
    "# Calculate SE and sigma^2 for each row\n",
    "summary_stats_df$SE <- with(summary_stats_df, (log(upper.bound) - log(lower.bound)) / (2 * z))\n",
    "summary_stats_df$sigma2 <- summary_stats_df$SE^2\n",
    "\n",
    "summary_stats_df$rsID <- gwas_AF$rsID"
   ]
  },
  {
   "cell_type": "code",
   "execution_count": 23,
   "id": "f5b471a6",
   "metadata": {
    "vscode": {
     "languageId": "r"
    }
   },
   "outputs": [
    {
     "data": {
      "text/html": [
       "<table class=\"dataframe\">\n",
       "<caption>A data.frame: 10 x 6</caption>\n",
       "<thead>\n",
       "\t<tr><th></th><th scope=col>odds.ratio</th><th scope=col>lower.bound</th><th scope=col>upper.bound</th><th scope=col>SE</th><th scope=col>sigma2</th><th scope=col>rsID</th></tr>\n",
       "\t<tr><th></th><th scope=col>&lt;dbl&gt;</th><th scope=col>&lt;dbl&gt;</th><th scope=col>&lt;dbl&gt;</th><th scope=col>&lt;dbl&gt;</th><th scope=col>&lt;dbl&gt;</th><th scope=col>&lt;chr&gt;</th></tr>\n",
       "</thead>\n",
       "<tbody>\n",
       "\t<tr><th scope=row>1</th><td>1.04</td><td>1.03</td><td>1.06</td><td>0.007324141</td><td>5.364304e-05</td><td>rs284277   </td></tr>\n",
       "\t<tr><th scope=row>2</th><td>1.06</td><td>1.04</td><td>1.08</td><td>0.009627812</td><td>9.269476e-05</td><td>rs7529220  </td></tr>\n",
       "\t<tr><th scope=row>3</th><td>1.04</td><td>1.03</td><td>1.06</td><td>0.007324141</td><td>5.364304e-05</td><td>rs2885697  </td></tr>\n",
       "\t<tr><th scope=row>4</th><td>1.16</td><td>1.10</td><td>1.21</td><td>0.024314268</td><td>5.911836e-04</td><td>rs11590635 </td></tr>\n",
       "\t<tr><th scope=row>5</th><td>1.17</td><td>1.13</td><td>1.22</td><td>0.019549652</td><td>3.821889e-04</td><td>rs146518726</td></tr>\n",
       "\t<tr><th scope=row>6</th><td>1.06</td><td>1.04</td><td>1.07</td><td>0.007254709</td><td>5.263080e-05</td><td>rs1545300  </td></tr>\n",
       "\t<tr><th scope=row>7</th><td>1.05</td><td>1.04</td><td>1.06</td><td>0.004859323</td><td>2.361302e-05</td><td>rs4073778  </td></tr>\n",
       "\t<tr><th scope=row>8</th><td>1.12</td><td>1.09</td><td>1.16</td><td>0.015878432</td><td>2.521246e-04</td><td>rs79187193 </td></tr>\n",
       "\t<tr><th scope=row>9</th><td>1.14</td><td>1.13</td><td>1.16</td><td>0.006684401</td><td>4.468122e-05</td><td>rs11264280 </td></tr>\n",
       "\t<tr><th scope=row>10</th><td>1.22</td><td>1.19</td><td>1.26</td><td>0.014581496</td><td>2.126200e-04</td><td>rs72700114 </td></tr>\n",
       "</tbody>\n",
       "</table>\n"
      ],
      "text/latex": [
       "A data.frame: 10 x 6\n",
       "\\begin{tabular}{r|llllll}\n",
       "  & odds.ratio & lower.bound & upper.bound & SE & sigma2 & rsID\\\\\n",
       "  & <dbl> & <dbl> & <dbl> & <dbl> & <dbl> & <chr>\\\\\n",
       "\\hline\n",
       "\t1 & 1.04 & 1.03 & 1.06 & 0.007324141 & 5.364304e-05 & rs284277   \\\\\n",
       "\t2 & 1.06 & 1.04 & 1.08 & 0.009627812 & 9.269476e-05 & rs7529220  \\\\\n",
       "\t3 & 1.04 & 1.03 & 1.06 & 0.007324141 & 5.364304e-05 & rs2885697  \\\\\n",
       "\t4 & 1.16 & 1.10 & 1.21 & 0.024314268 & 5.911836e-04 & rs11590635 \\\\\n",
       "\t5 & 1.17 & 1.13 & 1.22 & 0.019549652 & 3.821889e-04 & rs146518726\\\\\n",
       "\t6 & 1.06 & 1.04 & 1.07 & 0.007254709 & 5.263080e-05 & rs1545300  \\\\\n",
       "\t7 & 1.05 & 1.04 & 1.06 & 0.004859323 & 2.361302e-05 & rs4073778  \\\\\n",
       "\t8 & 1.12 & 1.09 & 1.16 & 0.015878432 & 2.521246e-04 & rs79187193 \\\\\n",
       "\t9 & 1.14 & 1.13 & 1.16 & 0.006684401 & 4.468122e-05 & rs11264280 \\\\\n",
       "\t10 & 1.22 & 1.19 & 1.26 & 0.014581496 & 2.126200e-04 & rs72700114 \\\\\n",
       "\\end{tabular}\n"
      ],
      "text/markdown": [
       "\n",
       "A data.frame: 10 x 6\n",
       "\n",
       "| <!--/--> | odds.ratio &lt;dbl&gt; | lower.bound &lt;dbl&gt; | upper.bound &lt;dbl&gt; | SE &lt;dbl&gt; | sigma2 &lt;dbl&gt; | rsID &lt;chr&gt; |\n",
       "|---|---|---|---|---|---|---|\n",
       "| 1 | 1.04 | 1.03 | 1.06 | 0.007324141 | 5.364304e-05 | rs284277    |\n",
       "| 2 | 1.06 | 1.04 | 1.08 | 0.009627812 | 9.269476e-05 | rs7529220   |\n",
       "| 3 | 1.04 | 1.03 | 1.06 | 0.007324141 | 5.364304e-05 | rs2885697   |\n",
       "| 4 | 1.16 | 1.10 | 1.21 | 0.024314268 | 5.911836e-04 | rs11590635  |\n",
       "| 5 | 1.17 | 1.13 | 1.22 | 0.019549652 | 3.821889e-04 | rs146518726 |\n",
       "| 6 | 1.06 | 1.04 | 1.07 | 0.007254709 | 5.263080e-05 | rs1545300   |\n",
       "| 7 | 1.05 | 1.04 | 1.06 | 0.004859323 | 2.361302e-05 | rs4073778   |\n",
       "| 8 | 1.12 | 1.09 | 1.16 | 0.015878432 | 2.521246e-04 | rs79187193  |\n",
       "| 9 | 1.14 | 1.13 | 1.16 | 0.006684401 | 4.468122e-05 | rs11264280  |\n",
       "| 10 | 1.22 | 1.19 | 1.26 | 0.014581496 | 2.126200e-04 | rs72700114  |\n",
       "\n"
      ],
      "text/plain": [
       "   odds.ratio lower.bound upper.bound SE          sigma2       rsID       \n",
       "1  1.04       1.03        1.06        0.007324141 5.364304e-05 rs284277   \n",
       "2  1.06       1.04        1.08        0.009627812 9.269476e-05 rs7529220  \n",
       "3  1.04       1.03        1.06        0.007324141 5.364304e-05 rs2885697  \n",
       "4  1.16       1.10        1.21        0.024314268 5.911836e-04 rs11590635 \n",
       "5  1.17       1.13        1.22        0.019549652 3.821889e-04 rs146518726\n",
       "6  1.06       1.04        1.07        0.007254709 5.263080e-05 rs1545300  \n",
       "7  1.05       1.04        1.06        0.004859323 2.361302e-05 rs4073778  \n",
       "8  1.12       1.09        1.16        0.015878432 2.521246e-04 rs79187193 \n",
       "9  1.14       1.13        1.16        0.006684401 4.468122e-05 rs11264280 \n",
       "10 1.22       1.19        1.26        0.014581496 2.126200e-04 rs72700114 "
      ]
     },
     "metadata": {},
     "output_type": "display_data"
    }
   ],
   "source": [
    "head(summary_stats_df, n=10)"
   ]
  },
  {
   "cell_type": "markdown",
   "id": "cfa2914b-a103-4e73-ab02-dfe36cfa6d6a",
   "metadata": {},
   "source": [
    "# LDexpress"
   ]
  },
  {
   "cell_type": "code",
   "execution_count": 25,
   "id": "e802e773-4d00-4052-aa61-31f3aea935cd",
   "metadata": {
    "vscode": {
     "languageId": "r"
    }
   },
   "outputs": [
    {
     "name": "stderr",
     "output_type": "stream",
     "text": [
      "\n",
      "LDlink server is working...\n",
      "\n",
      "\n"
     ]
    }
   ],
   "source": [
    "# limit querying 11 snps at a time\n",
    "# TODO: Iterate over variants\n",
    "credible_variant_sets <- LDexpress(snps = head(gwas_AF$rsID, n=10), \n",
    "                                   pop = \"EUR\", \n",
    "                                   tissue = \"ALL\",\n",
    "                                   r2d = \"r2\",\n",
    "                                   r2d_threshold = 0.1, \n",
    "                                   p_threshold = 0.1,\n",
    "                                   win_size = 1000000,\n",
    "                                   genome_build = \"grch38\",\n",
    "                                   token =ldlink_token,\n",
    "                                   file = FALSE)"
   ]
  },
  {
   "cell_type": "markdown",
   "id": "0f7ca23d-f511-4073-b718-7109543f155b",
   "metadata": {},
   "source": [
    "# Calculate LD Credible Set's Standard Error Using P-Value and Effect Size"
   ]
  },
  {
   "cell_type": "code",
   "execution_count": 26,
   "id": "cb2da0b2-abbe-492d-9e86-60d902acd5ed",
   "metadata": {
    "vscode": {
     "languageId": "r"
    }
   },
   "outputs": [],
   "source": [
    "credible_variant_sets$Effect_Size <- as.numeric(credible_variant_sets$Effect_Size)\n",
    "credible_variant_sets$P_value <- as.numeric(credible_variant_sets$P_value)\n",
    "\n",
    "credible_variant_sets_SE <- convert_pvalue_to_SE(credible_variant_sets$P_value, \n",
    "                                                 credible_variant_sets$Effect_Size)\n",
    "\n",
    "credible_variant_sets$Standard_Error <- credible_variant_sets_SE"
   ]
  },
  {
   "cell_type": "code",
   "execution_count": 27,
   "id": "db0d6e69-bac2-47a4-934f-e8172f99deb3",
   "metadata": {
    "vscode": {
     "languageId": "r"
    }
   },
   "outputs": [],
   "source": [
    "subset_credible_variant_set <- credible_variant_sets[credible_variant_sets$Query == 'rs7529220',]"
   ]
  },
  {
   "cell_type": "code",
   "execution_count": 33,
   "id": "fe6c2f7d-e77d-49bd-b722-9294814ea017",
   "metadata": {
    "vscode": {
     "languageId": "r"
    }
   },
   "outputs": [
    {
     "data": {
      "text/html": [
       "<style>\n",
       ".list-inline {list-style: none; margin:0; padding: 0}\n",
       ".list-inline>li {display: inline-block}\n",
       ".list-inline>li:not(:last-child)::after {content: \"\\00b7\"; padding: 0 .5ex}\n",
       "</style>\n",
       "<ol class=list-inline><li>1089</li><li>13</li></ol>\n"
      ],
      "text/latex": [
       "\\begin{enumerate*}\n",
       "\\item 1089\n",
       "\\item 13\n",
       "\\end{enumerate*}\n"
      ],
      "text/markdown": [
       "1. 1089\n",
       "2. 13\n",
       "\n",
       "\n"
      ],
      "text/plain": [
       "[1] 1089   13"
      ]
     },
     "metadata": {},
     "output_type": "display_data"
    }
   ],
   "source": [
    "dim(subset_credible_variant_set)"
   ]
  },
  {
   "cell_type": "code",
   "execution_count": 29,
   "id": "5f926d4c-8fb9-41d1-a4d0-c8edb8fbec7a",
   "metadata": {
    "vscode": {
     "languageId": "r"
    }
   },
   "outputs": [
    {
     "data": {
      "text/html": [
       "<table class=\"dataframe\">\n",
       "<caption>A data.frame: 6 x 13</caption>\n",
       "<thead>\n",
       "\t<tr><th></th><th scope=col>Query</th><th scope=col>RS_ID</th><th scope=col>Position_grch38</th><th scope=col>R2</th><th scope=col>D'</th><th scope=col>Gene_Symbol</th><th scope=col>Gencode_ID</th><th scope=col>Tissue</th><th scope=col>Non_effect_Allele_Freq</th><th scope=col>Effect_Allele_Freq</th><th scope=col>Effect_Size</th><th scope=col>P_value</th><th scope=col>Standard_Error</th></tr>\n",
       "\t<tr><th></th><th scope=col>&lt;chr&gt;</th><th scope=col>&lt;chr&gt;</th><th scope=col>&lt;chr&gt;</th><th scope=col>&lt;chr&gt;</th><th scope=col>&lt;chr&gt;</th><th scope=col>&lt;chr&gt;</th><th scope=col>&lt;chr&gt;</th><th scope=col>&lt;chr&gt;</th><th scope=col>&lt;chr&gt;</th><th scope=col>&lt;chr&gt;</th><th scope=col>&lt;dbl&gt;</th><th scope=col>&lt;dbl&gt;</th><th scope=col>&lt;dbl&gt;</th></tr>\n",
       "</thead>\n",
       "<tbody>\n",
       "\t<tr><th scope=row>6</th><td>rs7529220</td><td>rs113029877</td><td>chr1:21856457</td><td>0.128229538121059</td><td>0.59869829939114 </td><td>ECE1 </td><td>ENSG00000117298.14</td><td>Heart - Atrial Appendage           </td><td>A=0.945</td><td>G=0.055</td><td>-0.326773</td><td>8.09240e-05</td><td>0.08290265</td></tr>\n",
       "\t<tr><th scope=row>7</th><td>rs7529220</td><td>rs2290497  </td><td>chr1:21872462</td><td>0.132183444920385</td><td>0.522604321553988</td><td>C1QC </td><td>ENSG00000159189.11</td><td>Esophagus - Mucosa                 </td><td>G=0.927</td><td>A=0.073</td><td>-0.179315</td><td>5.91353e-05</td><td>0.04464754</td></tr>\n",
       "\t<tr><th scope=row>8</th><td>rs7529220</td><td>rs2290497  </td><td>chr1:21872462</td><td>0.132183444920385</td><td>0.522604321553988</td><td>C1QA </td><td>ENSG00000173372.16</td><td>Esophagus - Mucosa                 </td><td>G=0.927</td><td>A=0.073</td><td>-0.194500</td><td>3.49603e-05</td><td>0.04699785</td></tr>\n",
       "\t<tr><th scope=row>9</th><td>rs7529220</td><td>rs59420797 </td><td>chr1:21873328</td><td>0.120191178039954</td><td>0.348131656337747</td><td>HSPG2</td><td>ENSG00000142798.17</td><td>Esophagus - Muscularis             </td><td>G=0.138</td><td>A=0.862</td><td>-0.129096</td><td>1.82241e-05</td><td>0.03012315</td></tr>\n",
       "\t<tr><th scope=row>10</th><td>rs7529220</td><td>rs59420797 </td><td>chr1:21873328</td><td>0.120191178039954</td><td>0.348131656337747</td><td>HSPG2</td><td>ENSG00000142798.17</td><td>Skin - Not Sun Exposed (Suprapubic)</td><td>G=0.138</td><td>A=0.862</td><td>-0.133889</td><td>1.10671e-04</td><td>0.03463315</td></tr>\n",
       "\t<tr><th scope=row>11</th><td>rs7529220</td><td>rs59420797 </td><td>chr1:21873328</td><td>0.120191178039954</td><td>0.348131656337747</td><td>HSPG2</td><td>ENSG00000142798.17</td><td>Nerve - Tibial                     </td><td>G=0.138</td><td>A=0.862</td><td>-0.212789</td><td>2.79692e-07</td><td>0.04142571</td></tr>\n",
       "</tbody>\n",
       "</table>\n"
      ],
      "text/latex": [
       "A data.frame: 6 x 13\n",
       "\\begin{tabular}{r|lllllllllllll}\n",
       "  & Query & RS\\_ID & Position\\_grch38 & R2 & D' & Gene\\_Symbol & Gencode\\_ID & Tissue & Non\\_effect\\_Allele\\_Freq & Effect\\_Allele\\_Freq & Effect\\_Size & P\\_value & Standard\\_Error\\\\\n",
       "  & <chr> & <chr> & <chr> & <chr> & <chr> & <chr> & <chr> & <chr> & <chr> & <chr> & <dbl> & <dbl> & <dbl>\\\\\n",
       "\\hline\n",
       "\t6 & rs7529220 & rs113029877 & chr1:21856457 & 0.128229538121059 & 0.59869829939114  & ECE1  & ENSG00000117298.14 & Heart - Atrial Appendage            & A=0.945 & G=0.055 & -0.326773 & 8.09240e-05 & 0.08290265\\\\\n",
       "\t7 & rs7529220 & rs2290497   & chr1:21872462 & 0.132183444920385 & 0.522604321553988 & C1QC  & ENSG00000159189.11 & Esophagus - Mucosa                  & G=0.927 & A=0.073 & -0.179315 & 5.91353e-05 & 0.04464754\\\\\n",
       "\t8 & rs7529220 & rs2290497   & chr1:21872462 & 0.132183444920385 & 0.522604321553988 & C1QA  & ENSG00000173372.16 & Esophagus - Mucosa                  & G=0.927 & A=0.073 & -0.194500 & 3.49603e-05 & 0.04699785\\\\\n",
       "\t9 & rs7529220 & rs59420797  & chr1:21873328 & 0.120191178039954 & 0.348131656337747 & HSPG2 & ENSG00000142798.17 & Esophagus - Muscularis              & G=0.138 & A=0.862 & -0.129096 & 1.82241e-05 & 0.03012315\\\\\n",
       "\t10 & rs7529220 & rs59420797  & chr1:21873328 & 0.120191178039954 & 0.348131656337747 & HSPG2 & ENSG00000142798.17 & Skin - Not Sun Exposed (Suprapubic) & G=0.138 & A=0.862 & -0.133889 & 1.10671e-04 & 0.03463315\\\\\n",
       "\t11 & rs7529220 & rs59420797  & chr1:21873328 & 0.120191178039954 & 0.348131656337747 & HSPG2 & ENSG00000142798.17 & Nerve - Tibial                      & G=0.138 & A=0.862 & -0.212789 & 2.79692e-07 & 0.04142571\\\\\n",
       "\\end{tabular}\n"
      ],
      "text/markdown": [
       "\n",
       "A data.frame: 6 x 13\n",
       "\n",
       "| <!--/--> | Query &lt;chr&gt; | RS_ID &lt;chr&gt; | Position_grch38 &lt;chr&gt; | R2 &lt;chr&gt; | D' &lt;chr&gt; | Gene_Symbol &lt;chr&gt; | Gencode_ID &lt;chr&gt; | Tissue &lt;chr&gt; | Non_effect_Allele_Freq &lt;chr&gt; | Effect_Allele_Freq &lt;chr&gt; | Effect_Size &lt;dbl&gt; | P_value &lt;dbl&gt; | Standard_Error &lt;dbl&gt; |\n",
       "|---|---|---|---|---|---|---|---|---|---|---|---|---|---|\n",
       "| 6 | rs7529220 | rs113029877 | chr1:21856457 | 0.128229538121059 | 0.59869829939114  | ECE1  | ENSG00000117298.14 | Heart - Atrial Appendage            | A=0.945 | G=0.055 | -0.326773 | 8.09240e-05 | 0.08290265 |\n",
       "| 7 | rs7529220 | rs2290497   | chr1:21872462 | 0.132183444920385 | 0.522604321553988 | C1QC  | ENSG00000159189.11 | Esophagus - Mucosa                  | G=0.927 | A=0.073 | -0.179315 | 5.91353e-05 | 0.04464754 |\n",
       "| 8 | rs7529220 | rs2290497   | chr1:21872462 | 0.132183444920385 | 0.522604321553988 | C1QA  | ENSG00000173372.16 | Esophagus - Mucosa                  | G=0.927 | A=0.073 | -0.194500 | 3.49603e-05 | 0.04699785 |\n",
       "| 9 | rs7529220 | rs59420797  | chr1:21873328 | 0.120191178039954 | 0.348131656337747 | HSPG2 | ENSG00000142798.17 | Esophagus - Muscularis              | G=0.138 | A=0.862 | -0.129096 | 1.82241e-05 | 0.03012315 |\n",
       "| 10 | rs7529220 | rs59420797  | chr1:21873328 | 0.120191178039954 | 0.348131656337747 | HSPG2 | ENSG00000142798.17 | Skin - Not Sun Exposed (Suprapubic) | G=0.138 | A=0.862 | -0.133889 | 1.10671e-04 | 0.03463315 |\n",
       "| 11 | rs7529220 | rs59420797  | chr1:21873328 | 0.120191178039954 | 0.348131656337747 | HSPG2 | ENSG00000142798.17 | Nerve - Tibial                      | G=0.138 | A=0.862 | -0.212789 | 2.79692e-07 | 0.04142571 |\n",
       "\n"
      ],
      "text/plain": [
       "   Query     RS_ID       Position_grch38 R2                D'               \n",
       "6  rs7529220 rs113029877 chr1:21856457   0.128229538121059 0.59869829939114 \n",
       "7  rs7529220 rs2290497   chr1:21872462   0.132183444920385 0.522604321553988\n",
       "8  rs7529220 rs2290497   chr1:21872462   0.132183444920385 0.522604321553988\n",
       "9  rs7529220 rs59420797  chr1:21873328   0.120191178039954 0.348131656337747\n",
       "10 rs7529220 rs59420797  chr1:21873328   0.120191178039954 0.348131656337747\n",
       "11 rs7529220 rs59420797  chr1:21873328   0.120191178039954 0.348131656337747\n",
       "   Gene_Symbol Gencode_ID         Tissue                             \n",
       "6  ECE1        ENSG00000117298.14 Heart - Atrial Appendage           \n",
       "7  C1QC        ENSG00000159189.11 Esophagus - Mucosa                 \n",
       "8  C1QA        ENSG00000173372.16 Esophagus - Mucosa                 \n",
       "9  HSPG2       ENSG00000142798.17 Esophagus - Muscularis             \n",
       "10 HSPG2       ENSG00000142798.17 Skin - Not Sun Exposed (Suprapubic)\n",
       "11 HSPG2       ENSG00000142798.17 Nerve - Tibial                     \n",
       "   Non_effect_Allele_Freq Effect_Allele_Freq Effect_Size P_value    \n",
       "6  A=0.945                G=0.055            -0.326773   8.09240e-05\n",
       "7  G=0.927                A=0.073            -0.179315   5.91353e-05\n",
       "8  G=0.927                A=0.073            -0.194500   3.49603e-05\n",
       "9  G=0.138                A=0.862            -0.129096   1.82241e-05\n",
       "10 G=0.138                A=0.862            -0.133889   1.10671e-04\n",
       "11 G=0.138                A=0.862            -0.212789   2.79692e-07\n",
       "   Standard_Error\n",
       "6  0.08290265    \n",
       "7  0.04464754    \n",
       "8  0.04699785    \n",
       "9  0.03012315    \n",
       "10 0.03463315    \n",
       "11 0.04142571    "
      ]
     },
     "metadata": {},
     "output_type": "display_data"
    }
   ],
   "source": [
    "head(subset_credible_variant_set)"
   ]
  },
  {
   "cell_type": "code",
   "execution_count": 33,
   "id": "fb613e96-6a61-4981-8967-ee5b597eb847",
   "metadata": {
    "vscode": {
     "languageId": "r"
    }
   },
   "outputs": [
    {
     "data": {
      "text/html": [
       "<style>\n",
       ".list-inline {list-style: none; margin:0; padding: 0}\n",
       ".list-inline>li {display: inline-block}\n",
       ".list-inline>li:not(:last-child)::after {content: \"\\00b7\"; padding: 0 .5ex}\n",
       "</style>\n",
       "<ol class=list-inline><li>'ECE1'</li><li>'C1QC'</li><li>'C1QA'</li><li>'HSPG2'</li><li>'LINC00339'</li><li>'CELA3B'</li><li>'USP48'</li><li>'RN7SL386P'</li><li>'CDC42'</li><li>'RNU6-1022P'</li><li>'RP11-26H16.4'</li><li>'CELA3A'</li><li>'WNT4'</li><li>'LINC01635'</li><li>'RN7SL186P'</li><li>'ALPL'</li><li>'HS6ST1P1'</li><li>'RNU6-776P'</li><li>'RP11-63N8.3'</li></ol>\n"
      ],
      "text/latex": [
       "\\begin{enumerate*}\n",
       "\\item 'ECE1'\n",
       "\\item 'C1QC'\n",
       "\\item 'C1QA'\n",
       "\\item 'HSPG2'\n",
       "\\item 'LINC00339'\n",
       "\\item 'CELA3B'\n",
       "\\item 'USP48'\n",
       "\\item 'RN7SL386P'\n",
       "\\item 'CDC42'\n",
       "\\item 'RNU6-1022P'\n",
       "\\item 'RP11-26H16.4'\n",
       "\\item 'CELA3A'\n",
       "\\item 'WNT4'\n",
       "\\item 'LINC01635'\n",
       "\\item 'RN7SL186P'\n",
       "\\item 'ALPL'\n",
       "\\item 'HS6ST1P1'\n",
       "\\item 'RNU6-776P'\n",
       "\\item 'RP11-63N8.3'\n",
       "\\end{enumerate*}\n"
      ],
      "text/markdown": [
       "1. 'ECE1'\n",
       "2. 'C1QC'\n",
       "3. 'C1QA'\n",
       "4. 'HSPG2'\n",
       "5. 'LINC00339'\n",
       "6. 'CELA3B'\n",
       "7. 'USP48'\n",
       "8. 'RN7SL386P'\n",
       "9. 'CDC42'\n",
       "10. 'RNU6-1022P'\n",
       "11. 'RP11-26H16.4'\n",
       "12. 'CELA3A'\n",
       "13. 'WNT4'\n",
       "14. 'LINC01635'\n",
       "15. 'RN7SL186P'\n",
       "16. 'ALPL'\n",
       "17. 'HS6ST1P1'\n",
       "18. 'RNU6-776P'\n",
       "19. 'RP11-63N8.3'\n",
       "\n",
       "\n"
      ],
      "text/plain": [
       " [1] \"ECE1\"         \"C1QC\"         \"C1QA\"         \"HSPG2\"        \"LINC00339\"   \n",
       " [6] \"CELA3B\"       \"USP48\"        \"RN7SL386P\"    \"CDC42\"        \"RNU6-1022P\"  \n",
       "[11] \"RP11-26H16.4\" \"CELA3A\"       \"WNT4\"         \"LINC01635\"    \"RN7SL186P\"   \n",
       "[16] \"ALPL\"         \"HS6ST1P1\"     \"RNU6-776P\"    \"RP11-63N8.3\" "
      ]
     },
     "metadata": {},
     "output_type": "display_data"
    },
    {
     "name": "stdout",
     "output_type": "stream",
     "text": [
      "[1] 19\n"
     ]
    }
   ],
   "source": [
    "unique(subset_credible_variant_set$Gene_Symbol)\n",
    "print(length(unique(subset_credible_variant_set$Gene_Symbol)))"
   ]
  },
  {
   "cell_type": "code",
   "execution_count": 32,
   "id": "8f542370-b6ac-480e-bfa1-cda5a0ae66b8",
   "metadata": {
    "vscode": {
     "languageId": "r"
    }
   },
   "outputs": [
    {
     "data": {
      "text/html": [
       "<style>\n",
       ".list-inline {list-style: none; margin:0; padding: 0}\n",
       ".list-inline>li {display: inline-block}\n",
       ".list-inline>li:not(:last-child)::after {content: \"\\00b7\"; padding: 0 .5ex}\n",
       "</style>\n",
       "<ol class=list-inline><li>'Heart - Atrial Appendage'</li><li>'Esophagus - Mucosa'</li><li>'Esophagus - Muscularis'</li><li>'Skin - Not Sun Exposed (Suprapubic)'</li><li>'Nerve - Tibial'</li><li>'Skin - Sun Exposed (Lower leg)'</li><li>'Artery - Tibial'</li><li>'Pancreas'</li><li>'Whole Blood'</li><li>'Colon - Sigmoid'</li><li>'Pituitary'</li><li>'Stomach'</li><li>'Adipose - Visceral (Omentum)'</li><li>'Small Intestine - Terminal Ileum'</li><li>'Thyroid'</li><li>'Lung'</li><li>'Muscle - Skeletal'</li><li>'Artery - Coronary'</li><li>'Brain - Cerebellar Hemisphere'</li><li>'Breast - Mammary Tissue'</li></ol>\n"
      ],
      "text/latex": [
       "\\begin{enumerate*}\n",
       "\\item 'Heart - Atrial Appendage'\n",
       "\\item 'Esophagus - Mucosa'\n",
       "\\item 'Esophagus - Muscularis'\n",
       "\\item 'Skin - Not Sun Exposed (Suprapubic)'\n",
       "\\item 'Nerve - Tibial'\n",
       "\\item 'Skin - Sun Exposed (Lower leg)'\n",
       "\\item 'Artery - Tibial'\n",
       "\\item 'Pancreas'\n",
       "\\item 'Whole Blood'\n",
       "\\item 'Colon - Sigmoid'\n",
       "\\item 'Pituitary'\n",
       "\\item 'Stomach'\n",
       "\\item 'Adipose - Visceral (Omentum)'\n",
       "\\item 'Small Intestine - Terminal Ileum'\n",
       "\\item 'Thyroid'\n",
       "\\item 'Lung'\n",
       "\\item 'Muscle - Skeletal'\n",
       "\\item 'Artery - Coronary'\n",
       "\\item 'Brain - Cerebellar Hemisphere'\n",
       "\\item 'Breast - Mammary Tissue'\n",
       "\\end{enumerate*}\n"
      ],
      "text/markdown": [
       "1. 'Heart - Atrial Appendage'\n",
       "2. 'Esophagus - Mucosa'\n",
       "3. 'Esophagus - Muscularis'\n",
       "4. 'Skin - Not Sun Exposed (Suprapubic)'\n",
       "5. 'Nerve - Tibial'\n",
       "6. 'Skin - Sun Exposed (Lower leg)'\n",
       "7. 'Artery - Tibial'\n",
       "8. 'Pancreas'\n",
       "9. 'Whole Blood'\n",
       "10. 'Colon - Sigmoid'\n",
       "11. 'Pituitary'\n",
       "12. 'Stomach'\n",
       "13. 'Adipose - Visceral (Omentum)'\n",
       "14. 'Small Intestine - Terminal Ileum'\n",
       "15. 'Thyroid'\n",
       "16. 'Lung'\n",
       "17. 'Muscle - Skeletal'\n",
       "18. 'Artery - Coronary'\n",
       "19. 'Brain - Cerebellar Hemisphere'\n",
       "20. 'Breast - Mammary Tissue'\n",
       "\n",
       "\n"
      ],
      "text/plain": [
       " [1] \"Heart - Atrial Appendage\"            \"Esophagus - Mucosa\"                 \n",
       " [3] \"Esophagus - Muscularis\"              \"Skin - Not Sun Exposed (Suprapubic)\"\n",
       " [5] \"Nerve - Tibial\"                      \"Skin - Sun Exposed (Lower leg)\"     \n",
       " [7] \"Artery - Tibial\"                     \"Pancreas\"                           \n",
       " [9] \"Whole Blood\"                         \"Colon - Sigmoid\"                    \n",
       "[11] \"Pituitary\"                           \"Stomach\"                            \n",
       "[13] \"Adipose - Visceral (Omentum)\"        \"Small Intestine - Terminal Ileum\"   \n",
       "[15] \"Thyroid\"                             \"Lung\"                               \n",
       "[17] \"Muscle - Skeletal\"                   \"Artery - Coronary\"                  \n",
       "[19] \"Brain - Cerebellar Hemisphere\"       \"Breast - Mammary Tissue\"            "
      ]
     },
     "metadata": {},
     "output_type": "display_data"
    },
    {
     "name": "stdout",
     "output_type": "stream",
     "text": [
      "[1] 20\n"
     ]
    }
   ],
   "source": [
    "unique(subset_credible_variant_set$Tissue)\n",
    "print(length(unique(subset_credible_variant_set$Tissue)))"
   ]
  },
  {
   "cell_type": "markdown",
   "id": "c3aa6027-3572-41c9-acc9-b081df4fb5d3",
   "metadata": {},
   "source": [
    "# Calculate the Approximate Bayes Factor for each LD-associated variant using Effect Size and SE with the prior set as the GWAS AFib sigma2"
   ]
  },
  {
   "cell_type": "code",
   "execution_count": 31,
   "id": "0c6fe7d5-cb0b-4feb-aba0-e53025816452",
   "metadata": {
    "vscode": {
     "languageId": "r"
    }
   },
   "outputs": [
    {
     "data": {
      "text/html": [
       "<table class=\"dataframe\">\n",
       "<caption>A data.frame: 1 x 6</caption>\n",
       "<thead>\n",
       "\t<tr><th></th><th scope=col>odds.ratio</th><th scope=col>lower.bound</th><th scope=col>upper.bound</th><th scope=col>SE</th><th scope=col>sigma2</th><th scope=col>rsID</th></tr>\n",
       "\t<tr><th></th><th scope=col>&lt;dbl&gt;</th><th scope=col>&lt;dbl&gt;</th><th scope=col>&lt;dbl&gt;</th><th scope=col>&lt;dbl&gt;</th><th scope=col>&lt;dbl&gt;</th><th scope=col>&lt;chr&gt;</th></tr>\n",
       "</thead>\n",
       "<tbody>\n",
       "\t<tr><th scope=row>2</th><td>1.06</td><td>1.04</td><td>1.08</td><td>0.009627812</td><td>9.269476e-05</td><td>rs7529220</td></tr>\n",
       "</tbody>\n",
       "</table>\n"
      ],
      "text/latex": [
       "A data.frame: 1 x 6\n",
       "\\begin{tabular}{r|llllll}\n",
       "  & odds.ratio & lower.bound & upper.bound & SE & sigma2 & rsID\\\\\n",
       "  & <dbl> & <dbl> & <dbl> & <dbl> & <dbl> & <chr>\\\\\n",
       "\\hline\n",
       "\t2 & 1.06 & 1.04 & 1.08 & 0.009627812 & 9.269476e-05 & rs7529220\\\\\n",
       "\\end{tabular}\n"
      ],
      "text/markdown": [
       "\n",
       "A data.frame: 1 x 6\n",
       "\n",
       "| <!--/--> | odds.ratio &lt;dbl&gt; | lower.bound &lt;dbl&gt; | upper.bound &lt;dbl&gt; | SE &lt;dbl&gt; | sigma2 &lt;dbl&gt; | rsID &lt;chr&gt; |\n",
       "|---|---|---|---|---|---|---|\n",
       "| 2 | 1.06 | 1.04 | 1.08 | 0.009627812 | 9.269476e-05 | rs7529220 |\n",
       "\n"
      ],
      "text/plain": [
       "  odds.ratio lower.bound upper.bound SE          sigma2       rsID     \n",
       "2 1.06       1.04        1.08        0.009627812 9.269476e-05 rs7529220"
      ]
     },
     "metadata": {},
     "output_type": "display_data"
    }
   ],
   "source": [
    "summary_stats_df[summary_stats_df$rsID == 'rs7529220',]"
   ]
  },
  {
   "cell_type": "code",
   "execution_count": 34,
   "id": "3cd04db8-07c6-4755-a848-d3de703bcd4e",
   "metadata": {
    "vscode": {
     "languageId": "r"
    }
   },
   "outputs": [
    {
     "data": {
      "text/html": [
       "<table class=\"dataframe\">\n",
       "<caption>A data.frame: 6 x 13</caption>\n",
       "<thead>\n",
       "\t<tr><th></th><th scope=col>Query</th><th scope=col>RS_ID</th><th scope=col>Position_grch38</th><th scope=col>R2</th><th scope=col>D'</th><th scope=col>Gene_Symbol</th><th scope=col>Gencode_ID</th><th scope=col>Tissue</th><th scope=col>Non_effect_Allele_Freq</th><th scope=col>Effect_Allele_Freq</th><th scope=col>Effect_Size</th><th scope=col>P_value</th><th scope=col>Standard_Error</th></tr>\n",
       "\t<tr><th></th><th scope=col>&lt;chr&gt;</th><th scope=col>&lt;chr&gt;</th><th scope=col>&lt;chr&gt;</th><th scope=col>&lt;chr&gt;</th><th scope=col>&lt;chr&gt;</th><th scope=col>&lt;chr&gt;</th><th scope=col>&lt;chr&gt;</th><th scope=col>&lt;chr&gt;</th><th scope=col>&lt;chr&gt;</th><th scope=col>&lt;chr&gt;</th><th scope=col>&lt;dbl&gt;</th><th scope=col>&lt;dbl&gt;</th><th scope=col>&lt;dbl&gt;</th></tr>\n",
       "</thead>\n",
       "<tbody>\n",
       "\t<tr><th scope=row>6</th><td>rs7529220</td><td>rs113029877</td><td>chr1:21856457</td><td>0.128229538121059</td><td>0.59869829939114 </td><td>ECE1 </td><td>ENSG00000117298.14</td><td>Heart - Atrial Appendage           </td><td>A=0.945</td><td>G=0.055</td><td>-0.326773</td><td>8.09240e-05</td><td>0.08290265</td></tr>\n",
       "\t<tr><th scope=row>7</th><td>rs7529220</td><td>rs2290497  </td><td>chr1:21872462</td><td>0.132183444920385</td><td>0.522604321553988</td><td>C1QC </td><td>ENSG00000159189.11</td><td>Esophagus - Mucosa                 </td><td>G=0.927</td><td>A=0.073</td><td>-0.179315</td><td>5.91353e-05</td><td>0.04464754</td></tr>\n",
       "\t<tr><th scope=row>8</th><td>rs7529220</td><td>rs2290497  </td><td>chr1:21872462</td><td>0.132183444920385</td><td>0.522604321553988</td><td>C1QA </td><td>ENSG00000173372.16</td><td>Esophagus - Mucosa                 </td><td>G=0.927</td><td>A=0.073</td><td>-0.194500</td><td>3.49603e-05</td><td>0.04699785</td></tr>\n",
       "\t<tr><th scope=row>9</th><td>rs7529220</td><td>rs59420797 </td><td>chr1:21873328</td><td>0.120191178039954</td><td>0.348131656337747</td><td>HSPG2</td><td>ENSG00000142798.17</td><td>Esophagus - Muscularis             </td><td>G=0.138</td><td>A=0.862</td><td>-0.129096</td><td>1.82241e-05</td><td>0.03012315</td></tr>\n",
       "\t<tr><th scope=row>10</th><td>rs7529220</td><td>rs59420797 </td><td>chr1:21873328</td><td>0.120191178039954</td><td>0.348131656337747</td><td>HSPG2</td><td>ENSG00000142798.17</td><td>Skin - Not Sun Exposed (Suprapubic)</td><td>G=0.138</td><td>A=0.862</td><td>-0.133889</td><td>1.10671e-04</td><td>0.03463315</td></tr>\n",
       "\t<tr><th scope=row>11</th><td>rs7529220</td><td>rs59420797 </td><td>chr1:21873328</td><td>0.120191178039954</td><td>0.348131656337747</td><td>HSPG2</td><td>ENSG00000142798.17</td><td>Nerve - Tibial                     </td><td>G=0.138</td><td>A=0.862</td><td>-0.212789</td><td>2.79692e-07</td><td>0.04142571</td></tr>\n",
       "</tbody>\n",
       "</table>\n"
      ],
      "text/latex": [
       "A data.frame: 6 x 13\n",
       "\\begin{tabular}{r|lllllllllllll}\n",
       "  & Query & RS\\_ID & Position\\_grch38 & R2 & D' & Gene\\_Symbol & Gencode\\_ID & Tissue & Non\\_effect\\_Allele\\_Freq & Effect\\_Allele\\_Freq & Effect\\_Size & P\\_value & Standard\\_Error\\\\\n",
       "  & <chr> & <chr> & <chr> & <chr> & <chr> & <chr> & <chr> & <chr> & <chr> & <chr> & <dbl> & <dbl> & <dbl>\\\\\n",
       "\\hline\n",
       "\t6 & rs7529220 & rs113029877 & chr1:21856457 & 0.128229538121059 & 0.59869829939114  & ECE1  & ENSG00000117298.14 & Heart - Atrial Appendage            & A=0.945 & G=0.055 & -0.326773 & 8.09240e-05 & 0.08290265\\\\\n",
       "\t7 & rs7529220 & rs2290497   & chr1:21872462 & 0.132183444920385 & 0.522604321553988 & C1QC  & ENSG00000159189.11 & Esophagus - Mucosa                  & G=0.927 & A=0.073 & -0.179315 & 5.91353e-05 & 0.04464754\\\\\n",
       "\t8 & rs7529220 & rs2290497   & chr1:21872462 & 0.132183444920385 & 0.522604321553988 & C1QA  & ENSG00000173372.16 & Esophagus - Mucosa                  & G=0.927 & A=0.073 & -0.194500 & 3.49603e-05 & 0.04699785\\\\\n",
       "\t9 & rs7529220 & rs59420797  & chr1:21873328 & 0.120191178039954 & 0.348131656337747 & HSPG2 & ENSG00000142798.17 & Esophagus - Muscularis              & G=0.138 & A=0.862 & -0.129096 & 1.82241e-05 & 0.03012315\\\\\n",
       "\t10 & rs7529220 & rs59420797  & chr1:21873328 & 0.120191178039954 & 0.348131656337747 & HSPG2 & ENSG00000142798.17 & Skin - Not Sun Exposed (Suprapubic) & G=0.138 & A=0.862 & -0.133889 & 1.10671e-04 & 0.03463315\\\\\n",
       "\t11 & rs7529220 & rs59420797  & chr1:21873328 & 0.120191178039954 & 0.348131656337747 & HSPG2 & ENSG00000142798.17 & Nerve - Tibial                      & G=0.138 & A=0.862 & -0.212789 & 2.79692e-07 & 0.04142571\\\\\n",
       "\\end{tabular}\n"
      ],
      "text/markdown": [
       "\n",
       "A data.frame: 6 x 13\n",
       "\n",
       "| <!--/--> | Query &lt;chr&gt; | RS_ID &lt;chr&gt; | Position_grch38 &lt;chr&gt; | R2 &lt;chr&gt; | D' &lt;chr&gt; | Gene_Symbol &lt;chr&gt; | Gencode_ID &lt;chr&gt; | Tissue &lt;chr&gt; | Non_effect_Allele_Freq &lt;chr&gt; | Effect_Allele_Freq &lt;chr&gt; | Effect_Size &lt;dbl&gt; | P_value &lt;dbl&gt; | Standard_Error &lt;dbl&gt; |\n",
       "|---|---|---|---|---|---|---|---|---|---|---|---|---|---|\n",
       "| 6 | rs7529220 | rs113029877 | chr1:21856457 | 0.128229538121059 | 0.59869829939114  | ECE1  | ENSG00000117298.14 | Heart - Atrial Appendage            | A=0.945 | G=0.055 | -0.326773 | 8.09240e-05 | 0.08290265 |\n",
       "| 7 | rs7529220 | rs2290497   | chr1:21872462 | 0.132183444920385 | 0.522604321553988 | C1QC  | ENSG00000159189.11 | Esophagus - Mucosa                  | G=0.927 | A=0.073 | -0.179315 | 5.91353e-05 | 0.04464754 |\n",
       "| 8 | rs7529220 | rs2290497   | chr1:21872462 | 0.132183444920385 | 0.522604321553988 | C1QA  | ENSG00000173372.16 | Esophagus - Mucosa                  | G=0.927 | A=0.073 | -0.194500 | 3.49603e-05 | 0.04699785 |\n",
       "| 9 | rs7529220 | rs59420797  | chr1:21873328 | 0.120191178039954 | 0.348131656337747 | HSPG2 | ENSG00000142798.17 | Esophagus - Muscularis              | G=0.138 | A=0.862 | -0.129096 | 1.82241e-05 | 0.03012315 |\n",
       "| 10 | rs7529220 | rs59420797  | chr1:21873328 | 0.120191178039954 | 0.348131656337747 | HSPG2 | ENSG00000142798.17 | Skin - Not Sun Exposed (Suprapubic) | G=0.138 | A=0.862 | -0.133889 | 1.10671e-04 | 0.03463315 |\n",
       "| 11 | rs7529220 | rs59420797  | chr1:21873328 | 0.120191178039954 | 0.348131656337747 | HSPG2 | ENSG00000142798.17 | Nerve - Tibial                      | G=0.138 | A=0.862 | -0.212789 | 2.79692e-07 | 0.04142571 |\n",
       "\n"
      ],
      "text/plain": [
       "   Query     RS_ID       Position_grch38 R2                D'               \n",
       "6  rs7529220 rs113029877 chr1:21856457   0.128229538121059 0.59869829939114 \n",
       "7  rs7529220 rs2290497   chr1:21872462   0.132183444920385 0.522604321553988\n",
       "8  rs7529220 rs2290497   chr1:21872462   0.132183444920385 0.522604321553988\n",
       "9  rs7529220 rs59420797  chr1:21873328   0.120191178039954 0.348131656337747\n",
       "10 rs7529220 rs59420797  chr1:21873328   0.120191178039954 0.348131656337747\n",
       "11 rs7529220 rs59420797  chr1:21873328   0.120191178039954 0.348131656337747\n",
       "   Gene_Symbol Gencode_ID         Tissue                             \n",
       "6  ECE1        ENSG00000117298.14 Heart - Atrial Appendage           \n",
       "7  C1QC        ENSG00000159189.11 Esophagus - Mucosa                 \n",
       "8  C1QA        ENSG00000173372.16 Esophagus - Mucosa                 \n",
       "9  HSPG2       ENSG00000142798.17 Esophagus - Muscularis             \n",
       "10 HSPG2       ENSG00000142798.17 Skin - Not Sun Exposed (Suprapubic)\n",
       "11 HSPG2       ENSG00000142798.17 Nerve - Tibial                     \n",
       "   Non_effect_Allele_Freq Effect_Allele_Freq Effect_Size P_value    \n",
       "6  A=0.945                G=0.055            -0.326773   8.09240e-05\n",
       "7  G=0.927                A=0.073            -0.179315   5.91353e-05\n",
       "8  G=0.927                A=0.073            -0.194500   3.49603e-05\n",
       "9  G=0.138                A=0.862            -0.129096   1.82241e-05\n",
       "10 G=0.138                A=0.862            -0.133889   1.10671e-04\n",
       "11 G=0.138                A=0.862            -0.212789   2.79692e-07\n",
       "   Standard_Error\n",
       "6  0.08290265    \n",
       "7  0.04464754    \n",
       "8  0.04699785    \n",
       "9  0.03012315    \n",
       "10 0.03463315    \n",
       "11 0.04142571    "
      ]
     },
     "metadata": {},
     "output_type": "display_data"
    }
   ],
   "source": [
    "head(subset_credible_variant_set)"
   ]
  },
  {
   "cell_type": "code",
   "execution_count": 35,
   "id": "3791ca7a-c8b4-4510-a870-a44c640e147e",
   "metadata": {
    "vscode": {
     "languageId": "r"
    }
   },
   "outputs": [],
   "source": [
    "# TODO: For each query rsID compute approximate bayes factor\n",
    "abf_values <- calculate_abf_vectorized(subset_credible_variant_set$Effect_Size,\n",
    "                         subset_credible_variant_set$Standard_Error, \n",
    "                         summary_stats_df[summary_stats_df$rsID == 'rs7529220',]$sigma2)"
   ]
  },
  {
   "cell_type": "code",
   "execution_count": 36,
   "id": "1ed8eae8-def2-43b5-a14d-0ff50c63acd2",
   "metadata": {
    "vscode": {
     "languageId": "r"
    }
   },
   "outputs": [
    {
     "data": {
      "text/html": [
       "0.139797628752433"
      ],
      "text/latex": [
       "0.139797628752433"
      ],
      "text/markdown": [
       "0.139797628752433"
      ],
      "text/plain": [
       "[1] 0.1397976"
      ]
     },
     "metadata": {},
     "output_type": "display_data"
    }
   ],
   "source": [
    "sum(abf_values[!is.nan(abf_values) & !is.infinite(abf_values)])"
   ]
  },
  {
   "cell_type": "code",
   "execution_count": 37,
   "id": "54d563ad-19cc-42fc-8ca2-ddf4ed3c6508",
   "metadata": {
    "vscode": {
     "languageId": "r"
    }
   },
   "outputs": [],
   "source": [
    "subset_credible_variant_set$ABF <- abf_values"
   ]
  },
  {
   "cell_type": "code",
   "execution_count": 38,
   "id": "66992313-a263-4193-9e86-2f87e62ed8a6",
   "metadata": {
    "vscode": {
     "languageId": "r"
    }
   },
   "outputs": [
    {
     "data": {
      "text/html": [
       "<style>\n",
       ".list-inline {list-style: none; margin:0; padding: 0}\n",
       ".list-inline>li {display: inline-block}\n",
       ".list-inline>li:not(:last-child)::after {content: \"\\00b7\"; padding: 0 .5ex}\n",
       "</style>\n",
       "<ol class=list-inline><li>1089</li><li>14</li></ol>\n"
      ],
      "text/latex": [
       "\\begin{enumerate*}\n",
       "\\item 1089\n",
       "\\item 14\n",
       "\\end{enumerate*}\n"
      ],
      "text/markdown": [
       "1. 1089\n",
       "2. 14\n",
       "\n",
       "\n"
      ],
      "text/plain": [
       "[1] 1089   14"
      ]
     },
     "metadata": {},
     "output_type": "display_data"
    }
   ],
   "source": [
    "dim(subset_credible_variant_set)"
   ]
  },
  {
   "cell_type": "code",
   "execution_count": 39,
   "id": "d1648ec2-73ad-49cb-9655-ee1103003302",
   "metadata": {
    "vscode": {
     "languageId": "r"
    }
   },
   "outputs": [],
   "source": [
    "subset_credible_variant_set <- subset_credible_variant_set[!is.nan(subset_credible_variant_set$ABF)\n",
    "                                                           & !is.infinite(subset_credible_variant_set$ABF), ]"
   ]
  },
  {
   "cell_type": "code",
   "execution_count": 40,
   "id": "c0244b09-1cdd-4fc7-a0b3-7f08d9b086cc",
   "metadata": {
    "vscode": {
     "languageId": "r"
    }
   },
   "outputs": [
    {
     "data": {
      "text/html": [
       "<style>\n",
       ".list-inline {list-style: none; margin:0; padding: 0}\n",
       ".list-inline>li {display: inline-block}\n",
       ".list-inline>li:not(:last-child)::after {content: \"\\00b7\"; padding: 0 .5ex}\n",
       "</style>\n",
       "<ol class=list-inline><li>1028</li><li>14</li></ol>\n"
      ],
      "text/latex": [
       "\\begin{enumerate*}\n",
       "\\item 1028\n",
       "\\item 14\n",
       "\\end{enumerate*}\n"
      ],
      "text/markdown": [
       "1. 1028\n",
       "2. 14\n",
       "\n",
       "\n"
      ],
      "text/plain": [
       "[1] 1028   14"
      ]
     },
     "metadata": {},
     "output_type": "display_data"
    }
   ],
   "source": [
    "# removed 61 variants that had low PPA estimates\n",
    "dim(subset_credible_variant_set)"
   ]
  },
  {
   "cell_type": "markdown",
   "id": "f9917cca-96f2-4e4b-9d23-3124b48b5646",
   "metadata": {},
   "source": [
    "# Calculate Prior Probability Association Estimates (PPA) by Dividing the ABF by the Sum of ABF for all Variants within the Locus"
   ]
  },
  {
   "cell_type": "code",
   "execution_count": 41,
   "id": "bb2aa892-f30d-4a4e-aa1c-e30e6cfded31",
   "metadata": {
    "vscode": {
     "languageId": "r"
    }
   },
   "outputs": [],
   "source": [
    "ppa <- subset_credible_variant_set$ABF / sum(subset_credible_variant_set$ABF)"
   ]
  },
  {
   "cell_type": "code",
   "execution_count": 42,
   "id": "e5c05e95-2af7-45cb-aa58-de1fd8c5ce03",
   "metadata": {
    "vscode": {
     "languageId": "r"
    }
   },
   "outputs": [],
   "source": [
    "subset_credible_variant_set$PPA <- ppa"
   ]
  },
  {
   "cell_type": "markdown",
   "id": "22b4cd70-c45e-424c-a347-e7f3bac507d5",
   "metadata": {},
   "source": [
    "# Define 99% Credible Sets by Sorting Variants by Descending PPA and Retaining Variants that Add Up to a Cumulative PPA"
   ]
  },
  {
   "cell_type": "code",
   "execution_count": 43,
   "id": "022ff529-79d8-4940-9f3c-e743355b0cf0",
   "metadata": {
    "vscode": {
     "languageId": "r"
    }
   },
   "outputs": [],
   "source": [
    "# Identify the point at which the cumulative sum reaches or exceeds 0.99 and filter to keep only the rows that contribute to reaching this cumulative sum\n",
    "subset_credible_variant_set_sorted <- subset_credible_variant_set[order(subset_credible_variant_set$PPA, decreasing = TRUE), ]\n",
    "subset_credible_variant_set_sorted$cumsum_value <- cumsum(subset_credible_variant_set_sorted$PPA)"
   ]
  },
  {
   "cell_type": "code",
   "execution_count": 44,
   "id": "2c9ae4ae-b2ca-42f7-8bb6-7e2ea3c53a86",
   "metadata": {
    "vscode": {
     "languageId": "r"
    }
   },
   "outputs": [
    {
     "data": {
      "text/html": [
       "1"
      ],
      "text/latex": [
       "1"
      ],
      "text/markdown": [
       "1"
      ],
      "text/plain": [
       "[1] 1"
      ]
     },
     "metadata": {},
     "output_type": "display_data"
    }
   ],
   "source": [
    "sum(subset_credible_variant_set_sorted$PPA)"
   ]
  },
  {
   "cell_type": "code",
   "execution_count": 45,
   "id": "55f8b758-d7a5-4a0f-89d2-cea6f761e8e8",
   "metadata": {
    "vscode": {
     "languageId": "r"
    }
   },
   "outputs": [],
   "source": [
    "subset_credible_variant_set_sorted_filtered <- subset_credible_variant_set_sorted[subset_credible_variant_set_sorted$cumsum_value <= 0.99,]"
   ]
  },
  {
   "cell_type": "code",
   "execution_count": 46,
   "id": "dbd0d409-7016-4f0d-89ff-e1a8b087bdc9",
   "metadata": {
    "vscode": {
     "languageId": "r"
    }
   },
   "outputs": [
    {
     "data": {
      "text/html": [
       "0.989978357272113"
      ],
      "text/latex": [
       "0.989978357272113"
      ],
      "text/markdown": [
       "0.989978357272113"
      ],
      "text/plain": [
       "[1] 0.9899784"
      ]
     },
     "metadata": {},
     "output_type": "display_data"
    }
   ],
   "source": [
    "sum(subset_credible_variant_set_sorted_filtered$PPA)"
   ]
  },
  {
   "cell_type": "code",
   "execution_count": 47,
   "id": "0cb081a6-a0a4-43ed-b7d6-ca20ab43f221",
   "metadata": {
    "vscode": {
     "languageId": "r"
    }
   },
   "outputs": [
    {
     "data": {
      "text/html": [
       "<style>\n",
       ".list-inline {list-style: none; margin:0; padding: 0}\n",
       ".list-inline>li {display: inline-block}\n",
       ".list-inline>li:not(:last-child)::after {content: \"\\00b7\"; padding: 0 .5ex}\n",
       "</style>\n",
       "<ol class=list-inline><li>480</li><li>16</li></ol>\n"
      ],
      "text/latex": [
       "\\begin{enumerate*}\n",
       "\\item 480\n",
       "\\item 16\n",
       "\\end{enumerate*}\n"
      ],
      "text/markdown": [
       "1. 480\n",
       "2. 16\n",
       "\n",
       "\n"
      ],
      "text/plain": [
       "[1] 480  16"
      ]
     },
     "metadata": {},
     "output_type": "display_data"
    }
   ],
   "source": [
    "dim(subset_credible_variant_set_sorted_filtered)"
   ]
  },
  {
   "cell_type": "code",
   "execution_count": 48,
   "id": "c3a8d8fc-c567-40a5-a72e-72e3f93d0850",
   "metadata": {
    "vscode": {
     "languageId": "r"
    }
   },
   "outputs": [
    {
     "data": {
      "text/html": [
       "<style>\n",
       ".list-inline {list-style: none; margin:0; padding: 0}\n",
       ".list-inline>li {display: inline-block}\n",
       ".list-inline>li:not(:last-child)::after {content: \"\\00b7\"; padding: 0 .5ex}\n",
       "</style>\n",
       "<ol class=list-inline><li>'USP48'</li><li>'WNT4'</li><li>'LINC00339'</li><li>'C1QC'</li><li>'HSPG2'</li><li>'ECE1'</li><li>'RP11-26H16.4'</li><li>'C1QA'</li><li>'RNU6-1022P'</li><li>'RNU6-776P'</li><li>'RN7SL186P'</li><li>'CELA3B'</li><li>'LINC01635'</li><li>'CELA3A'</li><li>'RP11-63N8.3'</li><li>'HS6ST1P1'</li><li>'RN7SL386P'</li><li>'CDC42'</li><li>'ALPL'</li></ol>\n"
      ],
      "text/latex": [
       "\\begin{enumerate*}\n",
       "\\item 'USP48'\n",
       "\\item 'WNT4'\n",
       "\\item 'LINC00339'\n",
       "\\item 'C1QC'\n",
       "\\item 'HSPG2'\n",
       "\\item 'ECE1'\n",
       "\\item 'RP11-26H16.4'\n",
       "\\item 'C1QA'\n",
       "\\item 'RNU6-1022P'\n",
       "\\item 'RNU6-776P'\n",
       "\\item 'RN7SL186P'\n",
       "\\item 'CELA3B'\n",
       "\\item 'LINC01635'\n",
       "\\item 'CELA3A'\n",
       "\\item 'RP11-63N8.3'\n",
       "\\item 'HS6ST1P1'\n",
       "\\item 'RN7SL386P'\n",
       "\\item 'CDC42'\n",
       "\\item 'ALPL'\n",
       "\\end{enumerate*}\n"
      ],
      "text/markdown": [
       "1. 'USP48'\n",
       "2. 'WNT4'\n",
       "3. 'LINC00339'\n",
       "4. 'C1QC'\n",
       "5. 'HSPG2'\n",
       "6. 'ECE1'\n",
       "7. 'RP11-26H16.4'\n",
       "8. 'C1QA'\n",
       "9. 'RNU6-1022P'\n",
       "10. 'RNU6-776P'\n",
       "11. 'RN7SL186P'\n",
       "12. 'CELA3B'\n",
       "13. 'LINC01635'\n",
       "14. 'CELA3A'\n",
       "15. 'RP11-63N8.3'\n",
       "16. 'HS6ST1P1'\n",
       "17. 'RN7SL386P'\n",
       "18. 'CDC42'\n",
       "19. 'ALPL'\n",
       "\n",
       "\n"
      ],
      "text/plain": [
       " [1] \"USP48\"        \"WNT4\"         \"LINC00339\"    \"C1QC\"         \"HSPG2\"       \n",
       " [6] \"ECE1\"         \"RP11-26H16.4\" \"C1QA\"         \"RNU6-1022P\"   \"RNU6-776P\"   \n",
       "[11] \"RN7SL186P\"    \"CELA3B\"       \"LINC01635\"    \"CELA3A\"       \"RP11-63N8.3\" \n",
       "[16] \"HS6ST1P1\"     \"RN7SL386P\"    \"CDC42\"        \"ALPL\"        "
      ]
     },
     "metadata": {},
     "output_type": "display_data"
    },
    {
     "name": "stdout",
     "output_type": "stream",
     "text": [
      "[1] 19\n"
     ]
    }
   ],
   "source": [
    "unique(subset_credible_variant_set_sorted_filtered$Gene_Symbol)\n",
    "print(length(unique(subset_credible_variant_set_sorted_filtered$Gene_Symbol)))"
   ]
  },
  {
   "cell_type": "code",
   "execution_count": 49,
   "id": "8c98e4a2-5efa-47e0-98f6-fafa0dba87c4",
   "metadata": {
    "vscode": {
     "languageId": "r"
    }
   },
   "outputs": [
    {
     "data": {
      "text/html": [
       "<style>\n",
       ".list-inline {list-style: none; margin:0; padding: 0}\n",
       ".list-inline>li {display: inline-block}\n",
       ".list-inline>li:not(:last-child)::after {content: \"\\00b7\"; padding: 0 .5ex}\n",
       "</style>\n",
       "<ol class=list-inline><li>'Skin - Sun Exposed (Lower leg)'</li><li>'Thyroid'</li><li>'Whole Blood'</li><li>'Esophagus - Mucosa'</li><li>'Skin - Not Sun Exposed (Suprapubic)'</li><li>'Muscle - Skeletal'</li><li>'Nerve - Tibial'</li><li>'Adipose - Visceral (Omentum)'</li><li>'Lung'</li><li>'Esophagus - Muscularis'</li><li>'Heart - Atrial Appendage'</li><li>'Pancreas'</li><li>'Artery - Tibial'</li><li>'Stomach'</li><li>'Colon - Sigmoid'</li><li>'Pituitary'</li><li>'Brain - Cerebellar Hemisphere'</li><li>'Small Intestine - Terminal Ileum'</li><li>'Breast - Mammary Tissue'</li><li>'Artery - Coronary'</li></ol>\n"
      ],
      "text/latex": [
       "\\begin{enumerate*}\n",
       "\\item 'Skin - Sun Exposed (Lower leg)'\n",
       "\\item 'Thyroid'\n",
       "\\item 'Whole Blood'\n",
       "\\item 'Esophagus - Mucosa'\n",
       "\\item 'Skin - Not Sun Exposed (Suprapubic)'\n",
       "\\item 'Muscle - Skeletal'\n",
       "\\item 'Nerve - Tibial'\n",
       "\\item 'Adipose - Visceral (Omentum)'\n",
       "\\item 'Lung'\n",
       "\\item 'Esophagus - Muscularis'\n",
       "\\item 'Heart - Atrial Appendage'\n",
       "\\item 'Pancreas'\n",
       "\\item 'Artery - Tibial'\n",
       "\\item 'Stomach'\n",
       "\\item 'Colon - Sigmoid'\n",
       "\\item 'Pituitary'\n",
       "\\item 'Brain - Cerebellar Hemisphere'\n",
       "\\item 'Small Intestine - Terminal Ileum'\n",
       "\\item 'Breast - Mammary Tissue'\n",
       "\\item 'Artery - Coronary'\n",
       "\\end{enumerate*}\n"
      ],
      "text/markdown": [
       "1. 'Skin - Sun Exposed (Lower leg)'\n",
       "2. 'Thyroid'\n",
       "3. 'Whole Blood'\n",
       "4. 'Esophagus - Mucosa'\n",
       "5. 'Skin - Not Sun Exposed (Suprapubic)'\n",
       "6. 'Muscle - Skeletal'\n",
       "7. 'Nerve - Tibial'\n",
       "8. 'Adipose - Visceral (Omentum)'\n",
       "9. 'Lung'\n",
       "10. 'Esophagus - Muscularis'\n",
       "11. 'Heart - Atrial Appendage'\n",
       "12. 'Pancreas'\n",
       "13. 'Artery - Tibial'\n",
       "14. 'Stomach'\n",
       "15. 'Colon - Sigmoid'\n",
       "16. 'Pituitary'\n",
       "17. 'Brain - Cerebellar Hemisphere'\n",
       "18. 'Small Intestine - Terminal Ileum'\n",
       "19. 'Breast - Mammary Tissue'\n",
       "20. 'Artery - Coronary'\n",
       "\n",
       "\n"
      ],
      "text/plain": [
       " [1] \"Skin - Sun Exposed (Lower leg)\"      \"Thyroid\"                            \n",
       " [3] \"Whole Blood\"                         \"Esophagus - Mucosa\"                 \n",
       " [5] \"Skin - Not Sun Exposed (Suprapubic)\" \"Muscle - Skeletal\"                  \n",
       " [7] \"Nerve - Tibial\"                      \"Adipose - Visceral (Omentum)\"       \n",
       " [9] \"Lung\"                                \"Esophagus - Muscularis\"             \n",
       "[11] \"Heart - Atrial Appendage\"            \"Pancreas\"                           \n",
       "[13] \"Artery - Tibial\"                     \"Stomach\"                            \n",
       "[15] \"Colon - Sigmoid\"                     \"Pituitary\"                          \n",
       "[17] \"Brain - Cerebellar Hemisphere\"       \"Small Intestine - Terminal Ileum\"   \n",
       "[19] \"Breast - Mammary Tissue\"             \"Artery - Coronary\"                  "
      ]
     },
     "metadata": {},
     "output_type": "display_data"
    },
    {
     "name": "stdout",
     "output_type": "stream",
     "text": [
      "[1] 20\n"
     ]
    }
   ],
   "source": [
    "unique(subset_credible_variant_set_sorted_filtered$Tissue)\n",
    "print(length(unique(subset_credible_variant_set_sorted_filtered$Tissue)))"
   ]
  },
  {
   "cell_type": "markdown",
   "id": "7918990e-958e-473c-8a6c-9f065baf1166",
   "metadata": {},
   "source": [
    "# Evaluate Credible Set ABF and PPA to Hocker et al., 2021 ABF and PPA "
   ]
  },
  {
   "cell_type": "code",
   "execution_count": 52,
   "id": "cc30f467-8203-4d65-a8ac-b9479cc2f2de",
   "metadata": {
    "vscode": {
     "languageId": "r"
    }
   },
   "outputs": [],
   "source": [
    "# Import Hocker et al., 2021 fine mapped Atrial Fibrillation credible set \n",
    "credible_AF_set <- read.table('99credset.AtrialFibrillation.tsv', sep='\\t', header=TRUE)"
   ]
  },
  {
   "cell_type": "code",
   "execution_count": 53,
   "id": "2d50ab13-4911-4ea8-ac54-03f2e66ef9dc",
   "metadata": {
    "vscode": {
     "languageId": "r"
    }
   },
   "outputs": [
    {
     "data": {
      "text/html": [
       "<table class=\"dataframe\">\n",
       "<caption>A data.frame: 6 x 10</caption>\n",
       "<thead>\n",
       "\t<tr><th></th><th scope=col>rsid</th><th scope=col>hg19_chr</th><th scope=col>hg19_start</th><th scope=col>hg19_end</th><th scope=col>hg19_index_var</th><th scope=col>hg38_chr</th><th scope=col>hg38_start</th><th scope=col>hg38_end</th><th scope=col>ABF</th><th scope=col>PPA</th></tr>\n",
       "\t<tr><th></th><th scope=col>&lt;chr&gt;</th><th scope=col>&lt;chr&gt;</th><th scope=col>&lt;int&gt;</th><th scope=col>&lt;int&gt;</th><th scope=col>&lt;chr&gt;</th><th scope=col>&lt;chr&gt;</th><th scope=col>&lt;int&gt;</th><th scope=col>&lt;int&gt;</th><th scope=col>&lt;dbl&gt;</th><th scope=col>&lt;dbl&gt;</th></tr>\n",
       "</thead>\n",
       "<tbody>\n",
       "\t<tr><th scope=row>1</th><td>rs166913  </td><td>chr1</td><td>10789633</td><td>10789634</td><td>1:10790797:C:A</td><td>chr1</td><td>10729576</td><td>10729577</td><td>13.03517</td><td>0.03117538</td></tr>\n",
       "\t<tr><th scope=row>2</th><td>rs284279  </td><td>chr1</td><td>10789696</td><td>10789697</td><td>1:10790797:C:A</td><td>chr1</td><td>10729639</td><td>10729640</td><td>14.45415</td><td>0.12884431</td></tr>\n",
       "\t<tr><th scope=row>3</th><td>rs284278  </td><td>chr1</td><td>10790535</td><td>10790536</td><td>1:10790797:C:A</td><td>chr1</td><td>10730478</td><td>10730479</td><td>15.14228</td><td>0.25640068</td></tr>\n",
       "\t<tr><th scope=row>4</th><td>rs284277  </td><td>chr1</td><td>10790796</td><td>10790797</td><td>1:10790797:C:A</td><td>chr1</td><td>10730739</td><td>10730740</td><td>15.31275</td><td>0.30405450</td></tr>\n",
       "\t<tr><th scope=row>5</th><td>rs17035646</td><td>chr1</td><td>10796546</td><td>10796547</td><td>1:10790797:C:A</td><td>chr1</td><td>10736489</td><td>10736490</td><td>13.61232</td><td>0.05552197</td></tr>\n",
       "\t<tr><th scope=row>6</th><td>rs880315  </td><td>chr1</td><td>10796865</td><td>10796866</td><td>1:10790797:C:A</td><td>chr1</td><td>10736808</td><td>10736809</td><td>14.03069</td><td>0.08436426</td></tr>\n",
       "</tbody>\n",
       "</table>\n"
      ],
      "text/latex": [
       "A data.frame: 6 x 10\n",
       "\\begin{tabular}{r|llllllllll}\n",
       "  & rsid & hg19\\_chr & hg19\\_start & hg19\\_end & hg19\\_index\\_var & hg38\\_chr & hg38\\_start & hg38\\_end & ABF & PPA\\\\\n",
       "  & <chr> & <chr> & <int> & <int> & <chr> & <chr> & <int> & <int> & <dbl> & <dbl>\\\\\n",
       "\\hline\n",
       "\t1 & rs166913   & chr1 & 10789633 & 10789634 & 1:10790797:C:A & chr1 & 10729576 & 10729577 & 13.03517 & 0.03117538\\\\\n",
       "\t2 & rs284279   & chr1 & 10789696 & 10789697 & 1:10790797:C:A & chr1 & 10729639 & 10729640 & 14.45415 & 0.12884431\\\\\n",
       "\t3 & rs284278   & chr1 & 10790535 & 10790536 & 1:10790797:C:A & chr1 & 10730478 & 10730479 & 15.14228 & 0.25640068\\\\\n",
       "\t4 & rs284277   & chr1 & 10790796 & 10790797 & 1:10790797:C:A & chr1 & 10730739 & 10730740 & 15.31275 & 0.30405450\\\\\n",
       "\t5 & rs17035646 & chr1 & 10796546 & 10796547 & 1:10790797:C:A & chr1 & 10736489 & 10736490 & 13.61232 & 0.05552197\\\\\n",
       "\t6 & rs880315   & chr1 & 10796865 & 10796866 & 1:10790797:C:A & chr1 & 10736808 & 10736809 & 14.03069 & 0.08436426\\\\\n",
       "\\end{tabular}\n"
      ],
      "text/markdown": [
       "\n",
       "A data.frame: 6 x 10\n",
       "\n",
       "| <!--/--> | rsid &lt;chr&gt; | hg19_chr &lt;chr&gt; | hg19_start &lt;int&gt; | hg19_end &lt;int&gt; | hg19_index_var &lt;chr&gt; | hg38_chr &lt;chr&gt; | hg38_start &lt;int&gt; | hg38_end &lt;int&gt; | ABF &lt;dbl&gt; | PPA &lt;dbl&gt; |\n",
       "|---|---|---|---|---|---|---|---|---|---|---|\n",
       "| 1 | rs166913   | chr1 | 10789633 | 10789634 | 1:10790797:C:A | chr1 | 10729576 | 10729577 | 13.03517 | 0.03117538 |\n",
       "| 2 | rs284279   | chr1 | 10789696 | 10789697 | 1:10790797:C:A | chr1 | 10729639 | 10729640 | 14.45415 | 0.12884431 |\n",
       "| 3 | rs284278   | chr1 | 10790535 | 10790536 | 1:10790797:C:A | chr1 | 10730478 | 10730479 | 15.14228 | 0.25640068 |\n",
       "| 4 | rs284277   | chr1 | 10790796 | 10790797 | 1:10790797:C:A | chr1 | 10730739 | 10730740 | 15.31275 | 0.30405450 |\n",
       "| 5 | rs17035646 | chr1 | 10796546 | 10796547 | 1:10790797:C:A | chr1 | 10736489 | 10736490 | 13.61232 | 0.05552197 |\n",
       "| 6 | rs880315   | chr1 | 10796865 | 10796866 | 1:10790797:C:A | chr1 | 10736808 | 10736809 | 14.03069 | 0.08436426 |\n",
       "\n"
      ],
      "text/plain": [
       "  rsid       hg19_chr hg19_start hg19_end hg19_index_var hg38_chr hg38_start\n",
       "1 rs166913   chr1     10789633   10789634 1:10790797:C:A chr1     10729576  \n",
       "2 rs284279   chr1     10789696   10789697 1:10790797:C:A chr1     10729639  \n",
       "3 rs284278   chr1     10790535   10790536 1:10790797:C:A chr1     10730478  \n",
       "4 rs284277   chr1     10790796   10790797 1:10790797:C:A chr1     10730739  \n",
       "5 rs17035646 chr1     10796546   10796547 1:10790797:C:A chr1     10736489  \n",
       "6 rs880315   chr1     10796865   10796866 1:10790797:C:A chr1     10736808  \n",
       "  hg38_end ABF      PPA       \n",
       "1 10729577 13.03517 0.03117538\n",
       "2 10729640 14.45415 0.12884431\n",
       "3 10730479 15.14228 0.25640068\n",
       "4 10730740 15.31275 0.30405450\n",
       "5 10736490 13.61232 0.05552197\n",
       "6 10736809 14.03069 0.08436426"
      ]
     },
     "metadata": {},
     "output_type": "display_data"
    }
   ],
   "source": [
    "head(credible_AF_set)"
   ]
  },
  {
   "cell_type": "code",
   "execution_count": 54,
   "id": "e17d00a1-ba85-47f3-a4ff-c4f9ed457cb5",
   "metadata": {
    "vscode": {
     "languageId": "r"
    }
   },
   "outputs": [
    {
     "data": {
      "text/html": [
       "108.289953763208"
      ],
      "text/latex": [
       "108.289953763208"
      ],
      "text/markdown": [
       "108.289953763208"
      ],
      "text/plain": [
       "[1] 108.29"
      ]
     },
     "metadata": {},
     "output_type": "display_data"
    }
   ],
   "source": [
    "sum(credible_AF_set$PPA)"
   ]
  },
  {
   "cell_type": "code",
   "execution_count": 55,
   "id": "d8294246-721f-4f06-9a77-b1cfd6fa7cc9",
   "metadata": {
    "vscode": {
     "languageId": "r"
    }
   },
   "outputs": [
    {
     "data": {
      "text/html": [
       "101577.061096608"
      ],
      "text/latex": [
       "101577.061096608"
      ],
      "text/markdown": [
       "101577.061096608"
      ],
      "text/plain": [
       "[1] 101577.1"
      ]
     },
     "metadata": {},
     "output_type": "display_data"
    }
   ],
   "source": [
    "sum(credible_AF_set$ABF)"
   ]
  },
  {
   "cell_type": "code",
   "execution_count": 56,
   "id": "7519e4c4-8e27-434a-b5d5-e269419b2b0c",
   "metadata": {
    "vscode": {
     "languageId": "r"
    }
   },
   "outputs": [
    {
     "data": {
      "text/html": [
       "<table class=\"dataframe\">\n",
       "<caption>A data.frame: 1 x 10</caption>\n",
       "<thead>\n",
       "\t<tr><th></th><th scope=col>rsid</th><th scope=col>hg19_chr</th><th scope=col>hg19_start</th><th scope=col>hg19_end</th><th scope=col>hg19_index_var</th><th scope=col>hg38_chr</th><th scope=col>hg38_start</th><th scope=col>hg38_end</th><th scope=col>ABF</th><th scope=col>PPA</th></tr>\n",
       "\t<tr><th></th><th scope=col>&lt;chr&gt;</th><th scope=col>&lt;chr&gt;</th><th scope=col>&lt;int&gt;</th><th scope=col>&lt;int&gt;</th><th scope=col>&lt;chr&gt;</th><th scope=col>&lt;chr&gt;</th><th scope=col>&lt;int&gt;</th><th scope=col>&lt;int&gt;</th><th scope=col>&lt;dbl&gt;</th><th scope=col>&lt;dbl&gt;</th></tr>\n",
       "</thead>\n",
       "<tbody>\n",
       "\t<tr><th scope=row>33</th><td>rs7529220</td><td>chr1</td><td>22282618</td><td>22282619</td><td>1:22282619:T:C</td><td>chr1</td><td>21956125</td><td>21956126</td><td>17.01188</td><td>0.57169</td></tr>\n",
       "</tbody>\n",
       "</table>\n"
      ],
      "text/latex": [
       "A data.frame: 1 x 10\n",
       "\\begin{tabular}{r|llllllllll}\n",
       "  & rsid & hg19\\_chr & hg19\\_start & hg19\\_end & hg19\\_index\\_var & hg38\\_chr & hg38\\_start & hg38\\_end & ABF & PPA\\\\\n",
       "  & <chr> & <chr> & <int> & <int> & <chr> & <chr> & <int> & <int> & <dbl> & <dbl>\\\\\n",
       "\\hline\n",
       "\t33 & rs7529220 & chr1 & 22282618 & 22282619 & 1:22282619:T:C & chr1 & 21956125 & 21956126 & 17.01188 & 0.57169\\\\\n",
       "\\end{tabular}\n"
      ],
      "text/markdown": [
       "\n",
       "A data.frame: 1 x 10\n",
       "\n",
       "| <!--/--> | rsid &lt;chr&gt; | hg19_chr &lt;chr&gt; | hg19_start &lt;int&gt; | hg19_end &lt;int&gt; | hg19_index_var &lt;chr&gt; | hg38_chr &lt;chr&gt; | hg38_start &lt;int&gt; | hg38_end &lt;int&gt; | ABF &lt;dbl&gt; | PPA &lt;dbl&gt; |\n",
       "|---|---|---|---|---|---|---|---|---|---|---|\n",
       "| 33 | rs7529220 | chr1 | 22282618 | 22282619 | 1:22282619:T:C | chr1 | 21956125 | 21956126 | 17.01188 | 0.57169 |\n",
       "\n"
      ],
      "text/plain": [
       "   rsid      hg19_chr hg19_start hg19_end hg19_index_var hg38_chr hg38_start\n",
       "33 rs7529220 chr1     22282618   22282619 1:22282619:T:C chr1     21956125  \n",
       "   hg38_end ABF      PPA    \n",
       "33 21956126 17.01188 0.57169"
      ]
     },
     "metadata": {},
     "output_type": "display_data"
    }
   ],
   "source": [
    "credible_AF_set[credible_AF_set$rsid == 'rs7529220',]"
   ]
  },
  {
   "cell_type": "code",
   "execution_count": 57,
   "id": "2c371f1c-5091-40ab-9cd6-15f15e9e2729",
   "metadata": {
    "vscode": {
     "languageId": "r"
    }
   },
   "outputs": [],
   "source": [
    "credible_AF_set_comparison <- credible_AF_set[credible_AF_set$rsid %in% subset_credible_variant_set_sorted_filtered$RS_ID,]"
   ]
  },
  {
   "cell_type": "code",
   "execution_count": 58,
   "id": "8a169106-03d6-4973-82c2-dec5e3fce9e5",
   "metadata": {
    "vscode": {
     "languageId": "r"
    }
   },
   "outputs": [
    {
     "data": {
      "text/html": [
       "<style>\n",
       ".list-inline {list-style: none; margin:0; padding: 0}\n",
       ".list-inline>li {display: inline-block}\n",
       ".list-inline>li:not(:last-child)::after {content: \"\\00b7\"; padding: 0 .5ex}\n",
       "</style>\n",
       "<ol class=list-inline><li>18</li><li>10</li></ol>\n"
      ],
      "text/latex": [
       "\\begin{enumerate*}\n",
       "\\item 18\n",
       "\\item 10\n",
       "\\end{enumerate*}\n"
      ],
      "text/markdown": [
       "1. 18\n",
       "2. 10\n",
       "\n",
       "\n"
      ],
      "text/plain": [
       "[1] 18 10"
      ]
     },
     "metadata": {},
     "output_type": "display_data"
    }
   ],
   "source": [
    "dim(credible_AF_set_comparison)"
   ]
  },
  {
   "cell_type": "code",
   "execution_count": 59,
   "id": "eeebd31d-9572-4a9c-a10f-6313ff9c4653",
   "metadata": {
    "vscode": {
     "languageId": "r"
    }
   },
   "outputs": [
    {
     "data": {
      "text/html": [
       "<table class=\"dataframe\">\n",
       "<caption>A data.frame: 18 x 10</caption>\n",
       "<thead>\n",
       "\t<tr><th></th><th scope=col>rsid</th><th scope=col>hg19_chr</th><th scope=col>hg19_start</th><th scope=col>hg19_end</th><th scope=col>hg19_index_var</th><th scope=col>hg38_chr</th><th scope=col>hg38_start</th><th scope=col>hg38_end</th><th scope=col>ABF</th><th scope=col>PPA</th></tr>\n",
       "\t<tr><th></th><th scope=col>&lt;chr&gt;</th><th scope=col>&lt;chr&gt;</th><th scope=col>&lt;int&gt;</th><th scope=col>&lt;int&gt;</th><th scope=col>&lt;chr&gt;</th><th scope=col>&lt;chr&gt;</th><th scope=col>&lt;int&gt;</th><th scope=col>&lt;int&gt;</th><th scope=col>&lt;dbl&gt;</th><th scope=col>&lt;dbl&gt;</th></tr>\n",
       "</thead>\n",
       "<tbody>\n",
       "\t<tr><th scope=row>13</th><td>rs12039740 </td><td>chr1</td><td>22245849</td><td>22245850</td><td>1:22282619:T:C</td><td>chr1</td><td>21919356</td><td>21919357</td><td>10.11671</td><td>0.0005789334</td></tr>\n",
       "\t<tr><th scope=row>14</th><td>rs10799719 </td><td>chr1</td><td>22248880</td><td>22248881</td><td>1:22282619:T:C</td><td>chr1</td><td>21922387</td><td>21922388</td><td>10.22956</td><td>0.0006480942</td></tr>\n",
       "\t<tr><th scope=row>17</th><td>rs78570036 </td><td>chr1</td><td>22262503</td><td>22262504</td><td>1:22282619:T:C</td><td>chr1</td><td>21936010</td><td>21936011</td><td>10.20779</td><td>0.0006341340</td></tr>\n",
       "\t<tr><th scope=row>18</th><td>rs79899643 </td><td>chr1</td><td>22265350</td><td>22265351</td><td>1:22282619:T:C</td><td>chr1</td><td>21938857</td><td>21938858</td><td>10.11671</td><td>0.0005789334</td></tr>\n",
       "\t<tr><th scope=row>19</th><td>rs111887321</td><td>chr1</td><td>22271578</td><td>22271579</td><td>1:22282619:T:C</td><td>chr1</td><td>21945085</td><td>21945086</td><td>10.66977</td><td>0.0010065078</td></tr>\n",
       "\t<tr><th scope=row>20</th><td>rs10917069 </td><td>chr1</td><td>22278425</td><td>22278426</td><td>1:22282619:T:C</td><td>chr1</td><td>21951932</td><td>21951933</td><td>13.14769</td><td>0.0119940046</td></tr>\n",
       "\t<tr><th scope=row>21</th><td>rs10917070 </td><td>chr1</td><td>22278789</td><td>22278790</td><td>1:22282619:T:C</td><td>chr1</td><td>21952296</td><td>21952297</td><td>12.98131</td><td>0.0101556359</td></tr>\n",
       "\t<tr><th scope=row>24</th><td>rs6426729  </td><td>chr1</td><td>22280381</td><td>22280382</td><td>1:22282619:T:C</td><td>chr1</td><td>21953888</td><td>21953889</td><td>13.20334</td><td>0.0126804065</td></tr>\n",
       "\t<tr><th scope=row>27</th><td>rs10917072 </td><td>chr1</td><td>22281663</td><td>22281664</td><td>1:22282619:T:C</td><td>chr1</td><td>21955170</td><td>21955171</td><td>13.93553</td><td>0.0263705073</td></tr>\n",
       "\t<tr><th scope=row>29</th><td>rs12140171 </td><td>chr1</td><td>22281717</td><td>22281718</td><td>1:22282619:T:C</td><td>chr1</td><td>21955224</td><td>21955225</td><td>13.99252</td><td>0.0279171022</td></tr>\n",
       "\t<tr><th scope=row>30</th><td>rs10917074 </td><td>chr1</td><td>22281758</td><td>22281759</td><td>1:22282619:T:C</td><td>chr1</td><td>21955265</td><td>21955266</td><td>14.10680</td><td>0.0312967287</td></tr>\n",
       "\t<tr><th scope=row>31</th><td>rs78538821 </td><td>chr1</td><td>22281926</td><td>22281927</td><td>1:22282619:T:C</td><td>chr1</td><td>21955433</td><td>21955434</td><td>10.20779</td><td>0.0006341340</td></tr>\n",
       "\t<tr><th scope=row>32</th><td>rs4406609  </td><td>chr1</td><td>22282116</td><td>22282117</td><td>1:22282619:T:C</td><td>chr1</td><td>21955623</td><td>21955624</td><td>12.92604</td><td>0.0096095864</td></tr>\n",
       "\t<tr><th scope=row>34</th><td>rs79932633 </td><td>chr1</td><td>22282823</td><td>22282824</td><td>1:22282619:T:C</td><td>chr1</td><td>21956330</td><td>21956331</td><td>10.81068</td><td>0.0011588136</td></tr>\n",
       "\t<tr><th scope=row>35</th><td>rs6662815  </td><td>chr1</td><td>22283171</td><td>22283172</td><td>1:22282619:T:C</td><td>chr1</td><td>21956678</td><td>21956679</td><td>12.52943</td><td>0.0064633429</td></tr>\n",
       "\t<tr><th scope=row>37</th><td>rs10917075 </td><td>chr1</td><td>22283670</td><td>22283671</td><td>1:22282619:T:C</td><td>chr1</td><td>21957177</td><td>21957178</td><td>11.54125</td><td>0.0024059929</td></tr>\n",
       "\t<tr><th scope=row>38</th><td>rs10917076 </td><td>chr1</td><td>22283734</td><td>22283735</td><td>1:22282619:T:C</td><td>chr1</td><td>21957241</td><td>21957242</td><td>11.54125</td><td>0.0024059929</td></tr>\n",
       "\t<tr><th scope=row>40</th><td>rs7539092  </td><td>chr1</td><td>22286060</td><td>22286061</td><td>1:22282619:T:C</td><td>chr1</td><td>21959567</td><td>21959568</td><td>11.43815</td><td>0.0021703073</td></tr>\n",
       "</tbody>\n",
       "</table>\n"
      ],
      "text/latex": [
       "A data.frame: 18 x 10\n",
       "\\begin{tabular}{r|llllllllll}\n",
       "  & rsid & hg19\\_chr & hg19\\_start & hg19\\_end & hg19\\_index\\_var & hg38\\_chr & hg38\\_start & hg38\\_end & ABF & PPA\\\\\n",
       "  & <chr> & <chr> & <int> & <int> & <chr> & <chr> & <int> & <int> & <dbl> & <dbl>\\\\\n",
       "\\hline\n",
       "\t13 & rs12039740  & chr1 & 22245849 & 22245850 & 1:22282619:T:C & chr1 & 21919356 & 21919357 & 10.11671 & 0.0005789334\\\\\n",
       "\t14 & rs10799719  & chr1 & 22248880 & 22248881 & 1:22282619:T:C & chr1 & 21922387 & 21922388 & 10.22956 & 0.0006480942\\\\\n",
       "\t17 & rs78570036  & chr1 & 22262503 & 22262504 & 1:22282619:T:C & chr1 & 21936010 & 21936011 & 10.20779 & 0.0006341340\\\\\n",
       "\t18 & rs79899643  & chr1 & 22265350 & 22265351 & 1:22282619:T:C & chr1 & 21938857 & 21938858 & 10.11671 & 0.0005789334\\\\\n",
       "\t19 & rs111887321 & chr1 & 22271578 & 22271579 & 1:22282619:T:C & chr1 & 21945085 & 21945086 & 10.66977 & 0.0010065078\\\\\n",
       "\t20 & rs10917069  & chr1 & 22278425 & 22278426 & 1:22282619:T:C & chr1 & 21951932 & 21951933 & 13.14769 & 0.0119940046\\\\\n",
       "\t21 & rs10917070  & chr1 & 22278789 & 22278790 & 1:22282619:T:C & chr1 & 21952296 & 21952297 & 12.98131 & 0.0101556359\\\\\n",
       "\t24 & rs6426729   & chr1 & 22280381 & 22280382 & 1:22282619:T:C & chr1 & 21953888 & 21953889 & 13.20334 & 0.0126804065\\\\\n",
       "\t27 & rs10917072  & chr1 & 22281663 & 22281664 & 1:22282619:T:C & chr1 & 21955170 & 21955171 & 13.93553 & 0.0263705073\\\\\n",
       "\t29 & rs12140171  & chr1 & 22281717 & 22281718 & 1:22282619:T:C & chr1 & 21955224 & 21955225 & 13.99252 & 0.0279171022\\\\\n",
       "\t30 & rs10917074  & chr1 & 22281758 & 22281759 & 1:22282619:T:C & chr1 & 21955265 & 21955266 & 14.10680 & 0.0312967287\\\\\n",
       "\t31 & rs78538821  & chr1 & 22281926 & 22281927 & 1:22282619:T:C & chr1 & 21955433 & 21955434 & 10.20779 & 0.0006341340\\\\\n",
       "\t32 & rs4406609   & chr1 & 22282116 & 22282117 & 1:22282619:T:C & chr1 & 21955623 & 21955624 & 12.92604 & 0.0096095864\\\\\n",
       "\t34 & rs79932633  & chr1 & 22282823 & 22282824 & 1:22282619:T:C & chr1 & 21956330 & 21956331 & 10.81068 & 0.0011588136\\\\\n",
       "\t35 & rs6662815   & chr1 & 22283171 & 22283172 & 1:22282619:T:C & chr1 & 21956678 & 21956679 & 12.52943 & 0.0064633429\\\\\n",
       "\t37 & rs10917075  & chr1 & 22283670 & 22283671 & 1:22282619:T:C & chr1 & 21957177 & 21957178 & 11.54125 & 0.0024059929\\\\\n",
       "\t38 & rs10917076  & chr1 & 22283734 & 22283735 & 1:22282619:T:C & chr1 & 21957241 & 21957242 & 11.54125 & 0.0024059929\\\\\n",
       "\t40 & rs7539092   & chr1 & 22286060 & 22286061 & 1:22282619:T:C & chr1 & 21959567 & 21959568 & 11.43815 & 0.0021703073\\\\\n",
       "\\end{tabular}\n"
      ],
      "text/markdown": [
       "\n",
       "A data.frame: 18 x 10\n",
       "\n",
       "| <!--/--> | rsid &lt;chr&gt; | hg19_chr &lt;chr&gt; | hg19_start &lt;int&gt; | hg19_end &lt;int&gt; | hg19_index_var &lt;chr&gt; | hg38_chr &lt;chr&gt; | hg38_start &lt;int&gt; | hg38_end &lt;int&gt; | ABF &lt;dbl&gt; | PPA &lt;dbl&gt; |\n",
       "|---|---|---|---|---|---|---|---|---|---|---|\n",
       "| 13 | rs12039740  | chr1 | 22245849 | 22245850 | 1:22282619:T:C | chr1 | 21919356 | 21919357 | 10.11671 | 0.0005789334 |\n",
       "| 14 | rs10799719  | chr1 | 22248880 | 22248881 | 1:22282619:T:C | chr1 | 21922387 | 21922388 | 10.22956 | 0.0006480942 |\n",
       "| 17 | rs78570036  | chr1 | 22262503 | 22262504 | 1:22282619:T:C | chr1 | 21936010 | 21936011 | 10.20779 | 0.0006341340 |\n",
       "| 18 | rs79899643  | chr1 | 22265350 | 22265351 | 1:22282619:T:C | chr1 | 21938857 | 21938858 | 10.11671 | 0.0005789334 |\n",
       "| 19 | rs111887321 | chr1 | 22271578 | 22271579 | 1:22282619:T:C | chr1 | 21945085 | 21945086 | 10.66977 | 0.0010065078 |\n",
       "| 20 | rs10917069  | chr1 | 22278425 | 22278426 | 1:22282619:T:C | chr1 | 21951932 | 21951933 | 13.14769 | 0.0119940046 |\n",
       "| 21 | rs10917070  | chr1 | 22278789 | 22278790 | 1:22282619:T:C | chr1 | 21952296 | 21952297 | 12.98131 | 0.0101556359 |\n",
       "| 24 | rs6426729   | chr1 | 22280381 | 22280382 | 1:22282619:T:C | chr1 | 21953888 | 21953889 | 13.20334 | 0.0126804065 |\n",
       "| 27 | rs10917072  | chr1 | 22281663 | 22281664 | 1:22282619:T:C | chr1 | 21955170 | 21955171 | 13.93553 | 0.0263705073 |\n",
       "| 29 | rs12140171  | chr1 | 22281717 | 22281718 | 1:22282619:T:C | chr1 | 21955224 | 21955225 | 13.99252 | 0.0279171022 |\n",
       "| 30 | rs10917074  | chr1 | 22281758 | 22281759 | 1:22282619:T:C | chr1 | 21955265 | 21955266 | 14.10680 | 0.0312967287 |\n",
       "| 31 | rs78538821  | chr1 | 22281926 | 22281927 | 1:22282619:T:C | chr1 | 21955433 | 21955434 | 10.20779 | 0.0006341340 |\n",
       "| 32 | rs4406609   | chr1 | 22282116 | 22282117 | 1:22282619:T:C | chr1 | 21955623 | 21955624 | 12.92604 | 0.0096095864 |\n",
       "| 34 | rs79932633  | chr1 | 22282823 | 22282824 | 1:22282619:T:C | chr1 | 21956330 | 21956331 | 10.81068 | 0.0011588136 |\n",
       "| 35 | rs6662815   | chr1 | 22283171 | 22283172 | 1:22282619:T:C | chr1 | 21956678 | 21956679 | 12.52943 | 0.0064633429 |\n",
       "| 37 | rs10917075  | chr1 | 22283670 | 22283671 | 1:22282619:T:C | chr1 | 21957177 | 21957178 | 11.54125 | 0.0024059929 |\n",
       "| 38 | rs10917076  | chr1 | 22283734 | 22283735 | 1:22282619:T:C | chr1 | 21957241 | 21957242 | 11.54125 | 0.0024059929 |\n",
       "| 40 | rs7539092   | chr1 | 22286060 | 22286061 | 1:22282619:T:C | chr1 | 21959567 | 21959568 | 11.43815 | 0.0021703073 |\n",
       "\n"
      ],
      "text/plain": [
       "   rsid        hg19_chr hg19_start hg19_end hg19_index_var hg38_chr hg38_start\n",
       "13 rs12039740  chr1     22245849   22245850 1:22282619:T:C chr1     21919356  \n",
       "14 rs10799719  chr1     22248880   22248881 1:22282619:T:C chr1     21922387  \n",
       "17 rs78570036  chr1     22262503   22262504 1:22282619:T:C chr1     21936010  \n",
       "18 rs79899643  chr1     22265350   22265351 1:22282619:T:C chr1     21938857  \n",
       "19 rs111887321 chr1     22271578   22271579 1:22282619:T:C chr1     21945085  \n",
       "20 rs10917069  chr1     22278425   22278426 1:22282619:T:C chr1     21951932  \n",
       "21 rs10917070  chr1     22278789   22278790 1:22282619:T:C chr1     21952296  \n",
       "24 rs6426729   chr1     22280381   22280382 1:22282619:T:C chr1     21953888  \n",
       "27 rs10917072  chr1     22281663   22281664 1:22282619:T:C chr1     21955170  \n",
       "29 rs12140171  chr1     22281717   22281718 1:22282619:T:C chr1     21955224  \n",
       "30 rs10917074  chr1     22281758   22281759 1:22282619:T:C chr1     21955265  \n",
       "31 rs78538821  chr1     22281926   22281927 1:22282619:T:C chr1     21955433  \n",
       "32 rs4406609   chr1     22282116   22282117 1:22282619:T:C chr1     21955623  \n",
       "34 rs79932633  chr1     22282823   22282824 1:22282619:T:C chr1     21956330  \n",
       "35 rs6662815   chr1     22283171   22283172 1:22282619:T:C chr1     21956678  \n",
       "37 rs10917075  chr1     22283670   22283671 1:22282619:T:C chr1     21957177  \n",
       "38 rs10917076  chr1     22283734   22283735 1:22282619:T:C chr1     21957241  \n",
       "40 rs7539092   chr1     22286060   22286061 1:22282619:T:C chr1     21959567  \n",
       "   hg38_end ABF      PPA         \n",
       "13 21919357 10.11671 0.0005789334\n",
       "14 21922388 10.22956 0.0006480942\n",
       "17 21936011 10.20779 0.0006341340\n",
       "18 21938858 10.11671 0.0005789334\n",
       "19 21945086 10.66977 0.0010065078\n",
       "20 21951933 13.14769 0.0119940046\n",
       "21 21952297 12.98131 0.0101556359\n",
       "24 21953889 13.20334 0.0126804065\n",
       "27 21955171 13.93553 0.0263705073\n",
       "29 21955225 13.99252 0.0279171022\n",
       "30 21955266 14.10680 0.0312967287\n",
       "31 21955434 10.20779 0.0006341340\n",
       "32 21955624 12.92604 0.0096095864\n",
       "34 21956331 10.81068 0.0011588136\n",
       "35 21956679 12.52943 0.0064633429\n",
       "37 21957178 11.54125 0.0024059929\n",
       "38 21957242 11.54125 0.0024059929\n",
       "40 21959568 11.43815 0.0021703073"
      ]
     },
     "metadata": {},
     "output_type": "display_data"
    }
   ],
   "source": [
    "credible_AF_set_comparison"
   ]
  },
  {
   "cell_type": "code",
   "execution_count": 60,
   "id": "6fed4a0f-7d6e-4801-a90e-a848cced6dfc",
   "metadata": {
    "vscode": {
     "languageId": "r"
    }
   },
   "outputs": [
    {
     "data": {
      "text/html": [
       "<style>\n",
       ".list-inline {list-style: none; margin:0; padding: 0}\n",
       ".list-inline>li {display: inline-block}\n",
       ".list-inline>li:not(:last-child)::after {content: \"\\00b7\"; padding: 0 .5ex}\n",
       "</style>\n",
       "<ol class=list-inline><li>480</li><li>16</li></ol>\n"
      ],
      "text/latex": [
       "\\begin{enumerate*}\n",
       "\\item 480\n",
       "\\item 16\n",
       "\\end{enumerate*}\n"
      ],
      "text/markdown": [
       "1. 480\n",
       "2. 16\n",
       "\n",
       "\n"
      ],
      "text/plain": [
       "[1] 480  16"
      ]
     },
     "metadata": {},
     "output_type": "display_data"
    }
   ],
   "source": [
    "dim(subset_credible_variant_set_sorted_filtered)"
   ]
  },
  {
   "cell_type": "code",
   "execution_count": 61,
   "id": "79ef57b2-94a4-4e26-b5e4-d39d77b7dbf9",
   "metadata": {
    "vscode": {
     "languageId": "r"
    }
   },
   "outputs": [],
   "source": [
    "rownames(subset_credible_variant_set_sorted_filtered) <- 1:nrow(subset_credible_variant_set_sorted_filtered)"
   ]
  },
  {
   "cell_type": "code",
   "execution_count": 62,
   "id": "2acd5100-d24b-4260-aaf9-75c8729178f0",
   "metadata": {
    "vscode": {
     "languageId": "r"
    }
   },
   "outputs": [
    {
     "data": {
      "text/html": [
       "<table class=\"dataframe\">\n",
       "<caption>A data.frame: 6 x 16</caption>\n",
       "<thead>\n",
       "\t<tr><th></th><th scope=col>Query</th><th scope=col>RS_ID</th><th scope=col>Position_grch38</th><th scope=col>R2</th><th scope=col>D'</th><th scope=col>Gene_Symbol</th><th scope=col>Gencode_ID</th><th scope=col>Tissue</th><th scope=col>Non_effect_Allele_Freq</th><th scope=col>Effect_Allele_Freq</th><th scope=col>Effect_Size</th><th scope=col>P_value</th><th scope=col>Standard_Error</th><th scope=col>ABF</th><th scope=col>PPA</th><th scope=col>cumsum_value</th></tr>\n",
       "\t<tr><th></th><th scope=col>&lt;chr&gt;</th><th scope=col>&lt;chr&gt;</th><th scope=col>&lt;chr&gt;</th><th scope=col>&lt;chr&gt;</th><th scope=col>&lt;chr&gt;</th><th scope=col>&lt;chr&gt;</th><th scope=col>&lt;chr&gt;</th><th scope=col>&lt;chr&gt;</th><th scope=col>&lt;chr&gt;</th><th scope=col>&lt;chr&gt;</th><th scope=col>&lt;dbl&gt;</th><th scope=col>&lt;dbl&gt;</th><th scope=col>&lt;dbl&gt;</th><th scope=col>&lt;dbl&gt;</th><th scope=col>&lt;dbl&gt;</th><th scope=col>&lt;dbl&gt;</th></tr>\n",
       "</thead>\n",
       "<tbody>\n",
       "\t<tr><th scope=row>1</th><td>rs7529220</td><td>rs7539859  </td><td>chr1:21969208</td><td>0.184614285168061</td><td>0.799468438538206</td><td>USP48</td><td>ENSG00000090686.15</td><td>Skin - Sun Exposed (Lower leg)</td><td>C=0.359</td><td>T=0.641</td><td>-0.0873424</td><td>0.000193269</td><td>0.02343092</td><td>0.002833910</td><td>0.02027152</td><td>0.02027152</td></tr>\n",
       "\t<tr><th scope=row>2</th><td>rs7529220</td><td>rs60471357 </td><td>chr1:21973972</td><td>0.18367570484697 </td><td>0.799157054125998</td><td>USP48</td><td>ENSG00000090686.15</td><td>Skin - Sun Exposed (Lower leg)</td><td>T=0.36 </td><td>A=0.64 </td><td>-0.0873098</td><td>0.000190755</td><td>0.02340146</td><td>0.002810825</td><td>0.02010639</td><td>0.04037791</td></tr>\n",
       "\t<tr><th scope=row>3</th><td>rs7529220</td><td>rs6671775  </td><td>chr1:21975220</td><td>0.18367570484697 </td><td>0.799157054125998</td><td>USP48</td><td>ENSG00000090686.15</td><td>Skin - Sun Exposed (Lower leg)</td><td>C=0.36 </td><td>T=0.64 </td><td>-0.0873098</td><td>0.000190755</td><td>0.02340146</td><td>0.002810825</td><td>0.02010639</td><td>0.06048429</td></tr>\n",
       "\t<tr><th scope=row>4</th><td>rs7529220</td><td>rs4233282  </td><td>chr1:21973163</td><td>0.18367570484697 </td><td>0.799157054125998</td><td>USP48</td><td>ENSG00000090686.15</td><td>Skin - Sun Exposed (Lower leg)</td><td>T=0.36 </td><td>G=0.64 </td><td>-0.0877835</td><td>0.000176215</td><td>0.02340344</td><td>0.002636816</td><td>0.01886166</td><td>0.07934596</td></tr>\n",
       "\t<tr><th scope=row>5</th><td>rs7529220</td><td>rs112193378</td><td>chr1:21985814</td><td>0.182303441859004</td><td>0.789307760141093</td><td>USP48</td><td>ENSG00000090686.15</td><td>Skin - Sun Exposed (Lower leg)</td><td>C=0.356</td><td>G=0.644</td><td>-0.0871091</td><td>0.000155751</td><td>0.02303428</td><td>0.002462175</td><td>0.01761242</td><td>0.09695838</td></tr>\n",
       "\t<tr><th scope=row>6</th><td>rs7529220</td><td>rs35389875 </td><td>chr1:21986124</td><td>0.182303441859004</td><td>0.789307760141093</td><td>USP48</td><td>ENSG00000090686.15</td><td>Skin - Sun Exposed (Lower leg)</td><td>T=0.356</td><td>G=0.644</td><td>-0.0870394</td><td>0.000150209</td><td>0.02296116</td><td>0.002406765</td><td>0.01721607</td><td>0.11417445</td></tr>\n",
       "</tbody>\n",
       "</table>\n"
      ],
      "text/latex": [
       "A data.frame: 6 x 16\n",
       "\\begin{tabular}{r|llllllllllllllll}\n",
       "  & Query & RS\\_ID & Position\\_grch38 & R2 & D' & Gene\\_Symbol & Gencode\\_ID & Tissue & Non\\_effect\\_Allele\\_Freq & Effect\\_Allele\\_Freq & Effect\\_Size & P\\_value & Standard\\_Error & ABF & PPA & cumsum\\_value\\\\\n",
       "  & <chr> & <chr> & <chr> & <chr> & <chr> & <chr> & <chr> & <chr> & <chr> & <chr> & <dbl> & <dbl> & <dbl> & <dbl> & <dbl> & <dbl>\\\\\n",
       "\\hline\n",
       "\t1 & rs7529220 & rs7539859   & chr1:21969208 & 0.184614285168061 & 0.799468438538206 & USP48 & ENSG00000090686.15 & Skin - Sun Exposed (Lower leg) & C=0.359 & T=0.641 & -0.0873424 & 0.000193269 & 0.02343092 & 0.002833910 & 0.02027152 & 0.02027152\\\\\n",
       "\t2 & rs7529220 & rs60471357  & chr1:21973972 & 0.18367570484697  & 0.799157054125998 & USP48 & ENSG00000090686.15 & Skin - Sun Exposed (Lower leg) & T=0.36  & A=0.64  & -0.0873098 & 0.000190755 & 0.02340146 & 0.002810825 & 0.02010639 & 0.04037791\\\\\n",
       "\t3 & rs7529220 & rs6671775   & chr1:21975220 & 0.18367570484697  & 0.799157054125998 & USP48 & ENSG00000090686.15 & Skin - Sun Exposed (Lower leg) & C=0.36  & T=0.64  & -0.0873098 & 0.000190755 & 0.02340146 & 0.002810825 & 0.02010639 & 0.06048429\\\\\n",
       "\t4 & rs7529220 & rs4233282   & chr1:21973163 & 0.18367570484697  & 0.799157054125998 & USP48 & ENSG00000090686.15 & Skin - Sun Exposed (Lower leg) & T=0.36  & G=0.64  & -0.0877835 & 0.000176215 & 0.02340344 & 0.002636816 & 0.01886166 & 0.07934596\\\\\n",
       "\t5 & rs7529220 & rs112193378 & chr1:21985814 & 0.182303441859004 & 0.789307760141093 & USP48 & ENSG00000090686.15 & Skin - Sun Exposed (Lower leg) & C=0.356 & G=0.644 & -0.0871091 & 0.000155751 & 0.02303428 & 0.002462175 & 0.01761242 & 0.09695838\\\\\n",
       "\t6 & rs7529220 & rs35389875  & chr1:21986124 & 0.182303441859004 & 0.789307760141093 & USP48 & ENSG00000090686.15 & Skin - Sun Exposed (Lower leg) & T=0.356 & G=0.644 & -0.0870394 & 0.000150209 & 0.02296116 & 0.002406765 & 0.01721607 & 0.11417445\\\\\n",
       "\\end{tabular}\n"
      ],
      "text/markdown": [
       "\n",
       "A data.frame: 6 x 16\n",
       "\n",
       "| <!--/--> | Query &lt;chr&gt; | RS_ID &lt;chr&gt; | Position_grch38 &lt;chr&gt; | R2 &lt;chr&gt; | D' &lt;chr&gt; | Gene_Symbol &lt;chr&gt; | Gencode_ID &lt;chr&gt; | Tissue &lt;chr&gt; | Non_effect_Allele_Freq &lt;chr&gt; | Effect_Allele_Freq &lt;chr&gt; | Effect_Size &lt;dbl&gt; | P_value &lt;dbl&gt; | Standard_Error &lt;dbl&gt; | ABF &lt;dbl&gt; | PPA &lt;dbl&gt; | cumsum_value &lt;dbl&gt; |\n",
       "|---|---|---|---|---|---|---|---|---|---|---|---|---|---|---|---|---|\n",
       "| 1 | rs7529220 | rs7539859   | chr1:21969208 | 0.184614285168061 | 0.799468438538206 | USP48 | ENSG00000090686.15 | Skin - Sun Exposed (Lower leg) | C=0.359 | T=0.641 | -0.0873424 | 0.000193269 | 0.02343092 | 0.002833910 | 0.02027152 | 0.02027152 |\n",
       "| 2 | rs7529220 | rs60471357  | chr1:21973972 | 0.18367570484697  | 0.799157054125998 | USP48 | ENSG00000090686.15 | Skin - Sun Exposed (Lower leg) | T=0.36  | A=0.64  | -0.0873098 | 0.000190755 | 0.02340146 | 0.002810825 | 0.02010639 | 0.04037791 |\n",
       "| 3 | rs7529220 | rs6671775   | chr1:21975220 | 0.18367570484697  | 0.799157054125998 | USP48 | ENSG00000090686.15 | Skin - Sun Exposed (Lower leg) | C=0.36  | T=0.64  | -0.0873098 | 0.000190755 | 0.02340146 | 0.002810825 | 0.02010639 | 0.06048429 |\n",
       "| 4 | rs7529220 | rs4233282   | chr1:21973163 | 0.18367570484697  | 0.799157054125998 | USP48 | ENSG00000090686.15 | Skin - Sun Exposed (Lower leg) | T=0.36  | G=0.64  | -0.0877835 | 0.000176215 | 0.02340344 | 0.002636816 | 0.01886166 | 0.07934596 |\n",
       "| 5 | rs7529220 | rs112193378 | chr1:21985814 | 0.182303441859004 | 0.789307760141093 | USP48 | ENSG00000090686.15 | Skin - Sun Exposed (Lower leg) | C=0.356 | G=0.644 | -0.0871091 | 0.000155751 | 0.02303428 | 0.002462175 | 0.01761242 | 0.09695838 |\n",
       "| 6 | rs7529220 | rs35389875  | chr1:21986124 | 0.182303441859004 | 0.789307760141093 | USP48 | ENSG00000090686.15 | Skin - Sun Exposed (Lower leg) | T=0.356 | G=0.644 | -0.0870394 | 0.000150209 | 0.02296116 | 0.002406765 | 0.01721607 | 0.11417445 |\n",
       "\n"
      ],
      "text/plain": [
       "  Query     RS_ID       Position_grch38 R2                D'               \n",
       "1 rs7529220 rs7539859   chr1:21969208   0.184614285168061 0.799468438538206\n",
       "2 rs7529220 rs60471357  chr1:21973972   0.18367570484697  0.799157054125998\n",
       "3 rs7529220 rs6671775   chr1:21975220   0.18367570484697  0.799157054125998\n",
       "4 rs7529220 rs4233282   chr1:21973163   0.18367570484697  0.799157054125998\n",
       "5 rs7529220 rs112193378 chr1:21985814   0.182303441859004 0.789307760141093\n",
       "6 rs7529220 rs35389875  chr1:21986124   0.182303441859004 0.789307760141093\n",
       "  Gene_Symbol Gencode_ID         Tissue                        \n",
       "1 USP48       ENSG00000090686.15 Skin - Sun Exposed (Lower leg)\n",
       "2 USP48       ENSG00000090686.15 Skin - Sun Exposed (Lower leg)\n",
       "3 USP48       ENSG00000090686.15 Skin - Sun Exposed (Lower leg)\n",
       "4 USP48       ENSG00000090686.15 Skin - Sun Exposed (Lower leg)\n",
       "5 USP48       ENSG00000090686.15 Skin - Sun Exposed (Lower leg)\n",
       "6 USP48       ENSG00000090686.15 Skin - Sun Exposed (Lower leg)\n",
       "  Non_effect_Allele_Freq Effect_Allele_Freq Effect_Size P_value    \n",
       "1 C=0.359                T=0.641            -0.0873424  0.000193269\n",
       "2 T=0.36                 A=0.64             -0.0873098  0.000190755\n",
       "3 C=0.36                 T=0.64             -0.0873098  0.000190755\n",
       "4 T=0.36                 G=0.64             -0.0877835  0.000176215\n",
       "5 C=0.356                G=0.644            -0.0871091  0.000155751\n",
       "6 T=0.356                G=0.644            -0.0870394  0.000150209\n",
       "  Standard_Error ABF         PPA        cumsum_value\n",
       "1 0.02343092     0.002833910 0.02027152 0.02027152  \n",
       "2 0.02340146     0.002810825 0.02010639 0.04037791  \n",
       "3 0.02340146     0.002810825 0.02010639 0.06048429  \n",
       "4 0.02340344     0.002636816 0.01886166 0.07934596  \n",
       "5 0.02303428     0.002462175 0.01761242 0.09695838  \n",
       "6 0.02296116     0.002406765 0.01721607 0.11417445  "
      ]
     },
     "metadata": {},
     "output_type": "display_data"
    }
   ],
   "source": [
    "head(subset_credible_variant_set_sorted_filtered)"
   ]
  },
  {
   "cell_type": "code",
   "execution_count": 63,
   "id": "d70f004b-ccfd-4c1b-84cb-e1507e29daae",
   "metadata": {
    "vscode": {
     "languageId": "r"
    }
   },
   "outputs": [],
   "source": [
    "subset_credible_variant_set_sorted_filtered_comparison <- subset_credible_variant_set_sorted_filtered[subset_credible_variant_set_sorted_filtered$RS_ID %in% credible_AF_set_comparison$rsid, ]"
   ]
  },
  {
   "cell_type": "code",
   "execution_count": 64,
   "id": "3eec7299-91fc-406c-a313-953101795cff",
   "metadata": {
    "vscode": {
     "languageId": "r"
    }
   },
   "outputs": [
    {
     "data": {
      "text/html": [
       "<table class=\"dataframe\">\n",
       "<caption>A data.frame: 54 x 16</caption>\n",
       "<thead>\n",
       "\t<tr><th></th><th scope=col>Query</th><th scope=col>RS_ID</th><th scope=col>Position_grch38</th><th scope=col>R2</th><th scope=col>D'</th><th scope=col>Gene_Symbol</th><th scope=col>Gencode_ID</th><th scope=col>Tissue</th><th scope=col>Non_effect_Allele_Freq</th><th scope=col>Effect_Allele_Freq</th><th scope=col>Effect_Size</th><th scope=col>P_value</th><th scope=col>Standard_Error</th><th scope=col>ABF</th><th scope=col>PPA</th><th scope=col>cumsum_value</th></tr>\n",
       "\t<tr><th></th><th scope=col>&lt;chr&gt;</th><th scope=col>&lt;chr&gt;</th><th scope=col>&lt;chr&gt;</th><th scope=col>&lt;chr&gt;</th><th scope=col>&lt;chr&gt;</th><th scope=col>&lt;chr&gt;</th><th scope=col>&lt;chr&gt;</th><th scope=col>&lt;chr&gt;</th><th scope=col>&lt;chr&gt;</th><th scope=col>&lt;chr&gt;</th><th scope=col>&lt;dbl&gt;</th><th scope=col>&lt;dbl&gt;</th><th scope=col>&lt;dbl&gt;</th><th scope=col>&lt;dbl&gt;</th><th scope=col>&lt;dbl&gt;</th><th scope=col>&lt;dbl&gt;</th></tr>\n",
       "</thead>\n",
       "<tbody>\n",
       "\t<tr><th scope=row>8</th><td>rs7529220</td><td>rs10917075 </td><td>chr1:21957178</td><td>0.285130573814177</td><td>1                </td><td>WNT4        </td><td>ENSG00000162552.14</td><td>Thyroid                         </td><td>C=0.362</td><td>T=0.638</td><td> 0.127382</td><td>1.59972e-04</td><td>0.03374308</td><td>1.430172e-03</td><td>0.0102303011</td><td>0.1372674</td></tr>\n",
       "\t<tr><th scope=row>16</th><td>rs7529220</td><td>rs10917076 </td><td>chr1:21957242</td><td>0.276700509826136</td><td>1                </td><td>USP48       </td><td>ENSG00000090686.15</td><td>Skin - Sun Exposed (Lower leg)  </td><td>C=0.369</td><td>T=0.631</td><td>-0.094770</td><td>6.56862e-05</td><td>0.02374359</td><td>1.153782e-03</td><td>0.0082532333</td><td>0.2082024</td></tr>\n",
       "\t<tr><th scope=row>31</th><td>rs7529220</td><td>rs10917076 </td><td>chr1:21957242</td><td>0.276700509826136</td><td>1                </td><td>WNT4        </td><td>ENSG00000162552.14</td><td>Thyroid                         </td><td>C=0.369</td><td>T=0.631</td><td> 0.132287</td><td>9.28774e-05</td><td>0.03384612</td><td>8.872070e-04</td><td>0.0063463664</td><td>0.3114929</td></tr>\n",
       "\t<tr><th scope=row>40</th><td>rs7529220</td><td>rs10917076 </td><td>chr1:21957242</td><td>0.276700509826136</td><td>1                </td><td>RP11-26H16.4</td><td>ENSG00000283234.1 </td><td>Lung                            </td><td>C=0.369</td><td>T=0.631</td><td> 0.152937</td><td>9.46354e-05</td><td>0.03917494</td><td>7.793646e-04</td><td>0.0055749484</td><td>0.3646633</td></tr>\n",
       "\t<tr><th scope=row>55</th><td>rs7529220</td><td>rs10917075 </td><td>chr1:21957178</td><td>0.285130573814177</td><td>1                </td><td>HSPG2       </td><td>ENSG00000142798.17</td><td>Adipose - Visceral (Omentum)    </td><td>C=0.362</td><td>T=0.638</td><td>-0.134667</td><td>6.69428e-05</td><td>0.03377739</td><td>6.678666e-04</td><td>0.0047773817</td><td>0.4421456</td></tr>\n",
       "\t<tr><th scope=row>76</th><td>rs7529220</td><td>rs10917076 </td><td>chr1:21957242</td><td>0.276700509826136</td><td>1                </td><td>LINC00339   </td><td>ENSG00000218510.6 </td><td>Esophagus - Muscularis          </td><td>C=0.369</td><td>T=0.631</td><td> 0.240939</td><td>9.14869e-05</td><td>0.06158773</td><td>5.769543e-04</td><td>0.0041270678</td><td>0.5384604</td></tr>\n",
       "\t<tr><th scope=row>79</th><td>rs7529220</td><td>rs7539092  </td><td>chr1:21959568</td><td>0.845457863449521</td><td>0.990555586849171</td><td>USP48       </td><td>ENSG00000090686.15</td><td>Esophagus - Mucosa              </td><td>A=0.122</td><td>G=0.878</td><td>-0.159331</td><td>6.36617e-05</td><td>0.03984460</td><td>5.389958e-04</td><td>0.0038555429</td><td>0.5503125</td></tr>\n",
       "\t<tr><th scope=row>87</th><td>rs7529220</td><td>rs10799719 </td><td>chr1:21922388</td><td>0.282689079872285</td><td>1                </td><td>HSPG2       </td><td>ENSG00000142798.17</td><td>Adipose - Visceral (Omentum)    </td><td>G=0.364</td><td>A=0.636</td><td>-0.137586</td><td>4.41637e-05</td><td>0.03368455</td><td>4.654655e-04</td><td>0.0033295664</td><td>0.5782665</td></tr>\n",
       "\t<tr><th scope=row>100</th><td>rs7529220</td><td>rs10917075 </td><td>chr1:21957178</td><td>0.285130573814177</td><td>1                </td><td>LINC00339   </td><td>ENSG00000218510.6 </td><td>Pancreas                        </td><td>C=0.362</td><td>T=0.638</td><td> 0.241598</td><td>6.16943e-05</td><td>0.06030550</td><td>4.044770e-04</td><td>0.0028933039</td><td>0.6189963</td></tr>\n",
       "\t<tr><th scope=row>147</th><td>rs7529220</td><td>rs10917069 </td><td>chr1:21951933</td><td>0.893726637412644</td><td>1                </td><td>CELA3B      </td><td>ENSG00000219073.7 </td><td>Stomach                         </td><td>C=0.126</td><td>T=0.874</td><td>-0.298132</td><td>4.44989e-05</td><td>0.07302170</td><td>2.792111e-04</td><td>0.0019972520</td><td>0.7367906</td></tr>\n",
       "\t<tr><th scope=row>148</th><td>rs7529220</td><td>rs10917070 </td><td>chr1:21952297</td><td>0.893726637412644</td><td>1                </td><td>CELA3B      </td><td>ENSG00000219073.7 </td><td>Stomach                         </td><td>G=0.126</td><td>A=0.874</td><td>-0.298132</td><td>4.44989e-05</td><td>0.07302170</td><td>2.792111e-04</td><td>0.0019972520</td><td>0.7387878</td></tr>\n",
       "\t<tr><th scope=row>151</th><td>rs7529220</td><td>rs6426729  </td><td>chr1:21953889</td><td>0.893726637412644</td><td>1                </td><td>CELA3B      </td><td>ENSG00000219073.7 </td><td>Stomach                         </td><td>T=0.126</td><td>C=0.874</td><td>-0.298132</td><td>4.44989e-05</td><td>0.07302170</td><td>2.792111e-04</td><td>0.0019972520</td><td>0.7447796</td></tr>\n",
       "\t<tr><th scope=row>154</th><td>rs7529220</td><td>rs10917072 </td><td>chr1:21955171</td><td>0.861418429239141</td><td>0.990706697459584</td><td>CELA3B      </td><td>ENSG00000219073.7 </td><td>Stomach                         </td><td>G=0.124</td><td>A=0.876</td><td>-0.298132</td><td>4.44989e-05</td><td>0.07302170</td><td>2.792111e-04</td><td>0.0019972520</td><td>0.7507714</td></tr>\n",
       "\t<tr><th scope=row>156</th><td>rs7529220</td><td>rs12140171 </td><td>chr1:21955225</td><td>0.861418429239141</td><td>0.990706697459584</td><td>CELA3B      </td><td>ENSG00000219073.7 </td><td>Stomach                         </td><td>T=0.124</td><td>A=0.876</td><td>-0.298132</td><td>4.44989e-05</td><td>0.07302170</td><td>2.792111e-04</td><td>0.0019972520</td><td>0.7547659</td></tr>\n",
       "\t<tr><th scope=row>157</th><td>rs7529220</td><td>rs10917074 </td><td>chr1:21955266</td><td>0.893726637412644</td><td>1                </td><td>CELA3B      </td><td>ENSG00000219073.7 </td><td>Stomach                         </td><td>G=0.126</td><td>A=0.874</td><td>-0.298132</td><td>4.44989e-05</td><td>0.07302170</td><td>2.792111e-04</td><td>0.0019972520</td><td>0.7567631</td></tr>\n",
       "\t<tr><th scope=row>158</th><td>rs7529220</td><td>rs4406609  </td><td>chr1:21955624</td><td>0.893726637412644</td><td>1                </td><td>CELA3B      </td><td>ENSG00000219073.7 </td><td>Stomach                         </td><td>C=0.126</td><td>A=0.874</td><td>-0.298132</td><td>4.44989e-05</td><td>0.07302170</td><td>2.792111e-04</td><td>0.0019972520</td><td>0.7587604</td></tr>\n",
       "\t<tr><th scope=row>174</th><td>rs7529220</td><td>rs78570036 </td><td>chr1:21936011</td><td>0.759406887755102</td><td>1                </td><td>HSPG2       </td><td>ENSG00000142798.17</td><td>Pituitary                       </td><td>G=0.891</td><td>A=0.109</td><td>-0.365402</td><td>4.13531e-05</td><td>0.08912707</td><td>2.481722e-04</td><td>0.0017752244</td><td>0.7885810</td></tr>\n",
       "\t<tr><th scope=row>175</th><td>rs7529220</td><td>rs79899643 </td><td>chr1:21938858</td><td>0.759406887755102</td><td>1                </td><td>HSPG2       </td><td>ENSG00000142798.17</td><td>Pituitary                       </td><td>G=0.891</td><td>A=0.109</td><td>-0.365402</td><td>4.13531e-05</td><td>0.08912707</td><td>2.481722e-04</td><td>0.0017752244</td><td>0.7903562</td></tr>\n",
       "\t<tr><th scope=row>203</th><td>rs7529220</td><td>rs12039740 </td><td>chr1:21919357</td><td>0.759406887755102</td><td>1                </td><td>HSPG2       </td><td>ENSG00000142798.17</td><td>Pituitary                       </td><td>C=0.891</td><td>T=0.109</td><td>-0.373498</td><td>3.64530e-05</td><td>0.09045982</td><td>2.198136e-04</td><td>0.0015723702</td><td>0.8366272</td></tr>\n",
       "\t<tr><th scope=row>206</th><td>rs7529220</td><td>rs10917076 </td><td>chr1:21957242</td><td>0.276700509826136</td><td>1                </td><td>RNU6-1022P  </td><td>ENSG00000201919.1 </td><td>Pancreas                        </td><td>C=0.369</td><td>T=0.631</td><td>-0.216236</td><td>2.90222e-05</td><td>0.05171865</td><td>2.180857e-04</td><td>0.0015600102</td><td>0.8413143</td></tr>\n",
       "\t<tr><th scope=row>212</th><td>rs7529220</td><td>rs6662815  </td><td>chr1:21956679</td><td>0.853684550743374</td><td>1                </td><td>USP48       </td><td>ENSG00000090686.15</td><td>Esophagus - Mucosa              </td><td>C=0.121</td><td>T=0.879</td><td>-0.175770</td><td>2.30549e-05</td><td>0.04152331</td><td>2.083990e-04</td><td>0.0014907189</td><td>0.8503839</td></tr>\n",
       "\t<tr><th scope=row>226</th><td>rs7529220</td><td>rs10917076 </td><td>chr1:21957242</td><td>0.276700509826136</td><td>1                </td><td>RN7SL186P   </td><td>ENSG00000278124.1 </td><td>Pancreas                        </td><td>C=0.369</td><td>T=0.631</td><td> 0.206063</td><td>2.27228e-05</td><td>0.04864215</td><td>1.812489e-04</td><td>0.0012965090</td><td>0.8695612</td></tr>\n",
       "\t<tr><th scope=row>228</th><td>rs7529220</td><td>rs79932633 </td><td>chr1:21956331</td><td>0.743126692917197</td><td>0.979256021115144</td><td>HSPG2       </td><td>ENSG00000142798.17</td><td>Pituitary                       </td><td>C=0.889</td><td>A=0.111</td><td>-0.364025</td><td>2.91823e-05</td><td>0.08709242</td><td>1.798040e-04</td><td>0.0012861738</td><td>0.8721354</td></tr>\n",
       "\t<tr><th scope=row>244</th><td>rs7529220</td><td>rs7539092  </td><td>chr1:21959568</td><td>0.845457863449521</td><td>0.990555586849171</td><td>CELA3A      </td><td>ENSG00000142789.19</td><td>Pancreas                        </td><td>A=0.122</td><td>G=0.878</td><td> 0.242235</td><td>1.98795e-05</td><td>0.05677951</td><td>1.460029e-04</td><td>0.0010443875</td><td>0.8901770</td></tr>\n",
       "\t<tr><th scope=row>279</th><td>rs7529220</td><td>rs4406609  </td><td>chr1:21955624</td><td>0.893726637412644</td><td>1                </td><td>USP48       </td><td>ENSG00000090686.15</td><td>Esophagus - Mucosa              </td><td>C=0.126</td><td>A=0.874</td><td>-0.173911</td><td>1.01537e-05</td><td>0.03940099</td><td>1.048183e-04</td><td>0.0007497861</td><td>0.9211095</td></tr>\n",
       "\t<tr><th scope=row>308</th><td>rs7529220</td><td>rs10917069 </td><td>chr1:21951933</td><td>0.893726637412644</td><td>1                </td><td>USP48       </td><td>ENSG00000090686.15</td><td>Esophagus - Mucosa              </td><td>C=0.126</td><td>T=0.874</td><td>-0.174847</td><td>8.22640e-06</td><td>0.03921035</td><td>8.717088e-05</td><td>0.0006235505</td><td>0.9402266</td></tr>\n",
       "\t<tr><th scope=row>309</th><td>rs7529220</td><td>rs10917070 </td><td>chr1:21952297</td><td>0.893726637412644</td><td>1                </td><td>USP48       </td><td>ENSG00000090686.15</td><td>Esophagus - Mucosa              </td><td>G=0.126</td><td>A=0.874</td><td>-0.174847</td><td>8.22640e-06</td><td>0.03921035</td><td>8.717088e-05</td><td>0.0006235505</td><td>0.9408501</td></tr>\n",
       "\t<tr><th scope=row>312</th><td>rs7529220</td><td>rs6426729  </td><td>chr1:21953889</td><td>0.893726637412644</td><td>1                </td><td>USP48       </td><td>ENSG00000090686.15</td><td>Esophagus - Mucosa              </td><td>T=0.126</td><td>C=0.874</td><td>-0.174847</td><td>8.22640e-06</td><td>0.03921035</td><td>8.717088e-05</td><td>0.0006235505</td><td>0.9427208</td></tr>\n",
       "\t<tr><th scope=row>326</th><td>rs7529220</td><td>rs10917072 </td><td>chr1:21955171</td><td>0.861418429239141</td><td>0.990706697459584</td><td>USP48       </td><td>ENSG00000090686.15</td><td>Esophagus - Mucosa              </td><td>G=0.124</td><td>A=0.876</td><td>-0.177265</td><td>7.23518e-06</td><td>0.03950943</td><td>7.697775e-05</td><td>0.0005506371</td><td>0.9509779</td></tr>\n",
       "\t<tr><th scope=row>328</th><td>rs7529220</td><td>rs12140171 </td><td>chr1:21955225</td><td>0.861418429239141</td><td>0.990706697459584</td><td>USP48       </td><td>ENSG00000090686.15</td><td>Esophagus - Mucosa              </td><td>T=0.124</td><td>A=0.876</td><td>-0.177265</td><td>7.23518e-06</td><td>0.03950943</td><td>7.697775e-05</td><td>0.0005506371</td><td>0.9520792</td></tr>\n",
       "\t<tr><th scope=row>329</th><td>rs7529220</td><td>rs10917074 </td><td>chr1:21955266</td><td>0.893726637412644</td><td>1                </td><td>USP48       </td><td>ENSG00000090686.15</td><td>Esophagus - Mucosa              </td><td>G=0.126</td><td>A=0.874</td><td>-0.177265</td><td>7.23518e-06</td><td>0.03950943</td><td>7.697775e-05</td><td>0.0005506371</td><td>0.9526299</td></tr>\n",
       "\t<tr><th scope=row>336</th><td>rs7529220</td><td>rs10917076 </td><td>chr1:21957242</td><td>0.276700509826136</td><td>1                </td><td>LINC00339   </td><td>ENSG00000218510.6 </td><td>Small Intestine - Terminal Ileum</td><td>C=0.369</td><td>T=0.631</td><td> 0.353299</td><td>1.07500e-05</td><td>0.08026768</td><td>7.176472e-05</td><td>0.0005133472</td><td>0.9562912</td></tr>\n",
       "\t<tr><th scope=row>341</th><td>rs7529220</td><td>rs10917075 </td><td>chr1:21957178</td><td>0.285130573814177</td><td>1                </td><td>RP11-26H16.4</td><td>ENSG00000283234.1 </td><td>Lung                            </td><td>C=0.362</td><td>T=0.638</td><td> 0.175654</td><td>6.00043e-06</td><td>0.03880678</td><td>6.637510e-05</td><td>0.0004747942</td><td>0.9587582</td></tr>\n",
       "\t<tr><th scope=row>349</th><td>rs7529220</td><td>rs10917076 </td><td>chr1:21957242</td><td>0.276700509826136</td><td>1                </td><td>LINC00339   </td><td>ENSG00000218510.6 </td><td>Adipose - Visceral (Omentum)    </td><td>C=0.369</td><td>T=0.631</td><td> 0.249415</td><td>7.38932e-06</td><td>0.05564623</td><td>5.898952e-05</td><td>0.0004219637</td><td>0.9624075</td></tr>\n",
       "\t<tr><th scope=row>362</th><td>rs7529220</td><td>rs6426729  </td><td>chr1:21953889</td><td>0.893726637412644</td><td>1                </td><td>RP11-26H16.4</td><td>ENSG00000283234.1 </td><td>Lung                            </td><td>T=0.126</td><td>C=0.874</td><td> 0.246531</td><td>5.90992e-06</td><td>0.05442682</td><td>4.859921e-05</td><td>0.0003476398</td><td>0.9673510</td></tr>\n",
       "\t<tr><th scope=row>363</th><td>rs7529220</td><td>rs10917069 </td><td>chr1:21951933</td><td>0.893726637412644</td><td>1                </td><td>RP11-26H16.4</td><td>ENSG00000283234.1 </td><td>Lung                            </td><td>C=0.126</td><td>T=0.874</td><td> 0.246708</td><td>5.90688e-06</td><td>0.05446459</td><td>4.855467e-05</td><td>0.0003473211</td><td>0.9676983</td></tr>\n",
       "\t<tr><th scope=row>364</th><td>rs7529220</td><td>rs10917070 </td><td>chr1:21952297</td><td>0.893726637412644</td><td>1                </td><td>RP11-26H16.4</td><td>ENSG00000283234.1 </td><td>Lung                            </td><td>G=0.126</td><td>A=0.874</td><td> 0.246708</td><td>5.90688e-06</td><td>0.05446459</td><td>4.855467e-05</td><td>0.0003473211</td><td>0.9680457</td></tr>\n",
       "\t<tr><th scope=row>388</th><td>rs7529220</td><td>rs78570036 </td><td>chr1:21936011</td><td>0.759406887755102</td><td>1                </td><td>RNU6-1022P  </td><td>ENSG00000201919.1 </td><td>Pancreas                        </td><td>G=0.891</td><td>A=0.109</td><td> 0.405199</td><td>4.91882e-06</td><td>0.08869952</td><td>3.339983e-05</td><td>0.0002389156</td><td>0.9749200</td></tr>\n",
       "\t<tr><th scope=row>389</th><td>rs7529220</td><td>rs79899643 </td><td>chr1:21938858</td><td>0.759406887755102</td><td>1                </td><td>RNU6-1022P  </td><td>ENSG00000201919.1 </td><td>Pancreas                        </td><td>G=0.891</td><td>A=0.109</td><td> 0.405199</td><td>4.91882e-06</td><td>0.08869952</td><td>3.339983e-05</td><td>0.0002389156</td><td>0.9751589</td></tr>\n",
       "\t<tr><th scope=row>393</th><td>rs7529220</td><td>rs111887321</td><td>chr1:21945086</td><td>0.759406887755102</td><td>1                </td><td>RNU6-1022P  </td><td>ENSG00000201919.1 </td><td>Pancreas                        </td><td>C=0.891</td><td>T=0.109</td><td> 0.405199</td><td>4.91882e-06</td><td>0.08869952</td><td>3.339983e-05</td><td>0.0002389156</td><td>0.9761146</td></tr>\n",
       "\t<tr><th scope=row>401</th><td>rs7529220</td><td>rs10917072 </td><td>chr1:21955171</td><td>0.861418429239141</td><td>0.990706697459584</td><td>RP11-26H16.4</td><td>ENSG00000283234.1 </td><td>Lung                            </td><td>G=0.124</td><td>A=0.876</td><td> 0.254279</td><td>3.77468e-06</td><td>0.05499806</td><td>3.182975e-05</td><td>0.0002276845</td><td>0.9779787</td></tr>\n",
       "\t<tr><th scope=row>403</th><td>rs7529220</td><td>rs12140171 </td><td>chr1:21955225</td><td>0.861418429239141</td><td>0.990706697459584</td><td>RP11-26H16.4</td><td>ENSG00000283234.1 </td><td>Lung                            </td><td>T=0.124</td><td>A=0.876</td><td> 0.254279</td><td>3.77468e-06</td><td>0.05499806</td><td>3.182975e-05</td><td>0.0002276845</td><td>0.9784341</td></tr>\n",
       "\t<tr><th scope=row>404</th><td>rs7529220</td><td>rs10917074 </td><td>chr1:21955266</td><td>0.893726637412644</td><td>1                </td><td>RP11-26H16.4</td><td>ENSG00000283234.1 </td><td>Lung                            </td><td>G=0.126</td><td>A=0.874</td><td> 0.254279</td><td>3.77468e-06</td><td>0.05499806</td><td>3.182975e-05</td><td>0.0002276845</td><td>0.9786618</td></tr>\n",
       "\t<tr><th scope=row>406</th><td>rs7529220</td><td>rs4406609  </td><td>chr1:21955624</td><td>0.893726637412644</td><td>1                </td><td>RP11-26H16.4</td><td>ENSG00000283234.1 </td><td>Lung                            </td><td>C=0.126</td><td>A=0.874</td><td> 0.254224</td><td>3.68549e-06</td><td>0.05492729</td><td>3.115562e-05</td><td>0.0002228623</td><td>0.9791080</td></tr>\n",
       "\t<tr><th scope=row>410</th><td>rs7529220</td><td>rs12039740 </td><td>chr1:21919357</td><td>0.759406887755102</td><td>1                </td><td>RNU6-1022P  </td><td>ENSG00000201919.1 </td><td>Pancreas                        </td><td>C=0.891</td><td>T=0.109</td><td> 0.417458</td><td>4.50398e-06</td><td>0.09101573</td><td>3.053151e-05</td><td>0.0002183979</td><td>0.9799871</td></tr>\n",
       "\t<tr><th scope=row>431</th><td>rs7529220</td><td>rs10917076 </td><td>chr1:21957242</td><td>0.276700509826136</td><td>1                </td><td>LINC00339   </td><td>ENSG00000218510.6 </td><td>Colon - Sigmoid                 </td><td>C=0.369</td><td>T=0.631</td><td> 0.378962</td><td>2.81652e-06</td><td>0.08090968</td><td>2.022374e-05</td><td>0.0001446644</td><td>0.9838554</td></tr>\n",
       "\t<tr><th scope=row>437</th><td>rs7529220</td><td>rs78538821 </td><td>chr1:21955434</td><td>0.751193361718863</td><td>0.989534569211244</td><td>RNU6-1022P  </td><td>ENSG00000201919.1 </td><td>Pancreas                        </td><td>C=0.89 </td><td>T=0.11 </td><td> 0.412833</td><td>2.66026e-06</td><td>0.08792200</td><td>1.869927e-05</td><td>0.0001337595</td><td>0.9846821</td></tr>\n",
       "\t<tr><th scope=row>440</th><td>rs7529220</td><td>rs10917069 </td><td>chr1:21951933</td><td>0.893726637412644</td><td>1                </td><td>CELA3A      </td><td>ENSG00000142789.19</td><td>Pancreas                        </td><td>C=0.126</td><td>T=0.874</td><td> 0.265478</td><td>2.08943e-06</td><td>0.05595399</td><td>1.814244e-05</td><td>0.0001297765</td><td>0.9850784</td></tr>\n",
       "\t<tr><th scope=row>441</th><td>rs7529220</td><td>rs10917070 </td><td>chr1:21952297</td><td>0.893726637412644</td><td>1                </td><td>CELA3A      </td><td>ENSG00000142789.19</td><td>Pancreas                        </td><td>G=0.126</td><td>A=0.874</td><td> 0.265478</td><td>2.08943e-06</td><td>0.05595399</td><td>1.814244e-05</td><td>0.0001297765</td><td>0.9852081</td></tr>\n",
       "\t<tr><th scope=row>444</th><td>rs7529220</td><td>rs6426729  </td><td>chr1:21953889</td><td>0.893726637412644</td><td>1                </td><td>CELA3A      </td><td>ENSG00000142789.19</td><td>Pancreas                        </td><td>T=0.126</td><td>C=0.874</td><td> 0.265478</td><td>2.08943e-06</td><td>0.05595399</td><td>1.814244e-05</td><td>0.0001297765</td><td>0.9855975</td></tr>\n",
       "\t<tr><th scope=row>447</th><td>rs7529220</td><td>rs10917072 </td><td>chr1:21955171</td><td>0.861418429239141</td><td>0.990706697459584</td><td>CELA3A      </td><td>ENSG00000142789.19</td><td>Pancreas                        </td><td>G=0.124</td><td>A=0.876</td><td> 0.265478</td><td>2.08943e-06</td><td>0.05595399</td><td>1.814244e-05</td><td>0.0001297765</td><td>0.9859868</td></tr>\n",
       "\t<tr><th scope=row>449</th><td>rs7529220</td><td>rs12140171 </td><td>chr1:21955225</td><td>0.861418429239141</td><td>0.990706697459584</td><td>CELA3A      </td><td>ENSG00000142789.19</td><td>Pancreas                        </td><td>T=0.124</td><td>A=0.876</td><td> 0.265478</td><td>2.08943e-06</td><td>0.05595399</td><td>1.814244e-05</td><td>0.0001297765</td><td>0.9862464</td></tr>\n",
       "\t<tr><th scope=row>450</th><td>rs7529220</td><td>rs10917074 </td><td>chr1:21955266</td><td>0.893726637412644</td><td>1                </td><td>CELA3A      </td><td>ENSG00000142789.19</td><td>Pancreas                        </td><td>G=0.126</td><td>A=0.874</td><td> 0.265478</td><td>2.08943e-06</td><td>0.05595399</td><td>1.814244e-05</td><td>0.0001297765</td><td>0.9863761</td></tr>\n",
       "\t<tr><th scope=row>464</th><td>rs7529220</td><td>rs4406609  </td><td>chr1:21955624</td><td>0.893726637412644</td><td>1                </td><td>CELA3A      </td><td>ENSG00000142789.19</td><td>Pancreas                        </td><td>C=0.126</td><td>A=0.874</td><td> 0.264984</td><td>1.87486e-06</td><td>0.05559340</td><td>1.646883e-05</td><td>0.0001178048</td><td>0.9881016</td></tr>\n",
       "</tbody>\n",
       "</table>\n"
      ],
      "text/latex": [
       "A data.frame: 54 x 16\n",
       "\\begin{tabular}{r|llllllllllllllll}\n",
       "  & Query & RS\\_ID & Position\\_grch38 & R2 & D' & Gene\\_Symbol & Gencode\\_ID & Tissue & Non\\_effect\\_Allele\\_Freq & Effect\\_Allele\\_Freq & Effect\\_Size & P\\_value & Standard\\_Error & ABF & PPA & cumsum\\_value\\\\\n",
       "  & <chr> & <chr> & <chr> & <chr> & <chr> & <chr> & <chr> & <chr> & <chr> & <chr> & <dbl> & <dbl> & <dbl> & <dbl> & <dbl> & <dbl>\\\\\n",
       "\\hline\n",
       "\t8 & rs7529220 & rs10917075  & chr1:21957178 & 0.285130573814177 & 1                 & WNT4         & ENSG00000162552.14 & Thyroid                          & C=0.362 & T=0.638 &  0.127382 & 1.59972e-04 & 0.03374308 & 1.430172e-03 & 0.0102303011 & 0.1372674\\\\\n",
       "\t16 & rs7529220 & rs10917076  & chr1:21957242 & 0.276700509826136 & 1                 & USP48        & ENSG00000090686.15 & Skin - Sun Exposed (Lower leg)   & C=0.369 & T=0.631 & -0.094770 & 6.56862e-05 & 0.02374359 & 1.153782e-03 & 0.0082532333 & 0.2082024\\\\\n",
       "\t31 & rs7529220 & rs10917076  & chr1:21957242 & 0.276700509826136 & 1                 & WNT4         & ENSG00000162552.14 & Thyroid                          & C=0.369 & T=0.631 &  0.132287 & 9.28774e-05 & 0.03384612 & 8.872070e-04 & 0.0063463664 & 0.3114929\\\\\n",
       "\t40 & rs7529220 & rs10917076  & chr1:21957242 & 0.276700509826136 & 1                 & RP11-26H16.4 & ENSG00000283234.1  & Lung                             & C=0.369 & T=0.631 &  0.152937 & 9.46354e-05 & 0.03917494 & 7.793646e-04 & 0.0055749484 & 0.3646633\\\\\n",
       "\t55 & rs7529220 & rs10917075  & chr1:21957178 & 0.285130573814177 & 1                 & HSPG2        & ENSG00000142798.17 & Adipose - Visceral (Omentum)     & C=0.362 & T=0.638 & -0.134667 & 6.69428e-05 & 0.03377739 & 6.678666e-04 & 0.0047773817 & 0.4421456\\\\\n",
       "\t76 & rs7529220 & rs10917076  & chr1:21957242 & 0.276700509826136 & 1                 & LINC00339    & ENSG00000218510.6  & Esophagus - Muscularis           & C=0.369 & T=0.631 &  0.240939 & 9.14869e-05 & 0.06158773 & 5.769543e-04 & 0.0041270678 & 0.5384604\\\\\n",
       "\t79 & rs7529220 & rs7539092   & chr1:21959568 & 0.845457863449521 & 0.990555586849171 & USP48        & ENSG00000090686.15 & Esophagus - Mucosa               & A=0.122 & G=0.878 & -0.159331 & 6.36617e-05 & 0.03984460 & 5.389958e-04 & 0.0038555429 & 0.5503125\\\\\n",
       "\t87 & rs7529220 & rs10799719  & chr1:21922388 & 0.282689079872285 & 1                 & HSPG2        & ENSG00000142798.17 & Adipose - Visceral (Omentum)     & G=0.364 & A=0.636 & -0.137586 & 4.41637e-05 & 0.03368455 & 4.654655e-04 & 0.0033295664 & 0.5782665\\\\\n",
       "\t100 & rs7529220 & rs10917075  & chr1:21957178 & 0.285130573814177 & 1                 & LINC00339    & ENSG00000218510.6  & Pancreas                         & C=0.362 & T=0.638 &  0.241598 & 6.16943e-05 & 0.06030550 & 4.044770e-04 & 0.0028933039 & 0.6189963\\\\\n",
       "\t147 & rs7529220 & rs10917069  & chr1:21951933 & 0.893726637412644 & 1                 & CELA3B       & ENSG00000219073.7  & Stomach                          & C=0.126 & T=0.874 & -0.298132 & 4.44989e-05 & 0.07302170 & 2.792111e-04 & 0.0019972520 & 0.7367906\\\\\n",
       "\t148 & rs7529220 & rs10917070  & chr1:21952297 & 0.893726637412644 & 1                 & CELA3B       & ENSG00000219073.7  & Stomach                          & G=0.126 & A=0.874 & -0.298132 & 4.44989e-05 & 0.07302170 & 2.792111e-04 & 0.0019972520 & 0.7387878\\\\\n",
       "\t151 & rs7529220 & rs6426729   & chr1:21953889 & 0.893726637412644 & 1                 & CELA3B       & ENSG00000219073.7  & Stomach                          & T=0.126 & C=0.874 & -0.298132 & 4.44989e-05 & 0.07302170 & 2.792111e-04 & 0.0019972520 & 0.7447796\\\\\n",
       "\t154 & rs7529220 & rs10917072  & chr1:21955171 & 0.861418429239141 & 0.990706697459584 & CELA3B       & ENSG00000219073.7  & Stomach                          & G=0.124 & A=0.876 & -0.298132 & 4.44989e-05 & 0.07302170 & 2.792111e-04 & 0.0019972520 & 0.7507714\\\\\n",
       "\t156 & rs7529220 & rs12140171  & chr1:21955225 & 0.861418429239141 & 0.990706697459584 & CELA3B       & ENSG00000219073.7  & Stomach                          & T=0.124 & A=0.876 & -0.298132 & 4.44989e-05 & 0.07302170 & 2.792111e-04 & 0.0019972520 & 0.7547659\\\\\n",
       "\t157 & rs7529220 & rs10917074  & chr1:21955266 & 0.893726637412644 & 1                 & CELA3B       & ENSG00000219073.7  & Stomach                          & G=0.126 & A=0.874 & -0.298132 & 4.44989e-05 & 0.07302170 & 2.792111e-04 & 0.0019972520 & 0.7567631\\\\\n",
       "\t158 & rs7529220 & rs4406609   & chr1:21955624 & 0.893726637412644 & 1                 & CELA3B       & ENSG00000219073.7  & Stomach                          & C=0.126 & A=0.874 & -0.298132 & 4.44989e-05 & 0.07302170 & 2.792111e-04 & 0.0019972520 & 0.7587604\\\\\n",
       "\t174 & rs7529220 & rs78570036  & chr1:21936011 & 0.759406887755102 & 1                 & HSPG2        & ENSG00000142798.17 & Pituitary                        & G=0.891 & A=0.109 & -0.365402 & 4.13531e-05 & 0.08912707 & 2.481722e-04 & 0.0017752244 & 0.7885810\\\\\n",
       "\t175 & rs7529220 & rs79899643  & chr1:21938858 & 0.759406887755102 & 1                 & HSPG2        & ENSG00000142798.17 & Pituitary                        & G=0.891 & A=0.109 & -0.365402 & 4.13531e-05 & 0.08912707 & 2.481722e-04 & 0.0017752244 & 0.7903562\\\\\n",
       "\t203 & rs7529220 & rs12039740  & chr1:21919357 & 0.759406887755102 & 1                 & HSPG2        & ENSG00000142798.17 & Pituitary                        & C=0.891 & T=0.109 & -0.373498 & 3.64530e-05 & 0.09045982 & 2.198136e-04 & 0.0015723702 & 0.8366272\\\\\n",
       "\t206 & rs7529220 & rs10917076  & chr1:21957242 & 0.276700509826136 & 1                 & RNU6-1022P   & ENSG00000201919.1  & Pancreas                         & C=0.369 & T=0.631 & -0.216236 & 2.90222e-05 & 0.05171865 & 2.180857e-04 & 0.0015600102 & 0.8413143\\\\\n",
       "\t212 & rs7529220 & rs6662815   & chr1:21956679 & 0.853684550743374 & 1                 & USP48        & ENSG00000090686.15 & Esophagus - Mucosa               & C=0.121 & T=0.879 & -0.175770 & 2.30549e-05 & 0.04152331 & 2.083990e-04 & 0.0014907189 & 0.8503839\\\\\n",
       "\t226 & rs7529220 & rs10917076  & chr1:21957242 & 0.276700509826136 & 1                 & RN7SL186P    & ENSG00000278124.1  & Pancreas                         & C=0.369 & T=0.631 &  0.206063 & 2.27228e-05 & 0.04864215 & 1.812489e-04 & 0.0012965090 & 0.8695612\\\\\n",
       "\t228 & rs7529220 & rs79932633  & chr1:21956331 & 0.743126692917197 & 0.979256021115144 & HSPG2        & ENSG00000142798.17 & Pituitary                        & C=0.889 & A=0.111 & -0.364025 & 2.91823e-05 & 0.08709242 & 1.798040e-04 & 0.0012861738 & 0.8721354\\\\\n",
       "\t244 & rs7529220 & rs7539092   & chr1:21959568 & 0.845457863449521 & 0.990555586849171 & CELA3A       & ENSG00000142789.19 & Pancreas                         & A=0.122 & G=0.878 &  0.242235 & 1.98795e-05 & 0.05677951 & 1.460029e-04 & 0.0010443875 & 0.8901770\\\\\n",
       "\t279 & rs7529220 & rs4406609   & chr1:21955624 & 0.893726637412644 & 1                 & USP48        & ENSG00000090686.15 & Esophagus - Mucosa               & C=0.126 & A=0.874 & -0.173911 & 1.01537e-05 & 0.03940099 & 1.048183e-04 & 0.0007497861 & 0.9211095\\\\\n",
       "\t308 & rs7529220 & rs10917069  & chr1:21951933 & 0.893726637412644 & 1                 & USP48        & ENSG00000090686.15 & Esophagus - Mucosa               & C=0.126 & T=0.874 & -0.174847 & 8.22640e-06 & 0.03921035 & 8.717088e-05 & 0.0006235505 & 0.9402266\\\\\n",
       "\t309 & rs7529220 & rs10917070  & chr1:21952297 & 0.893726637412644 & 1                 & USP48        & ENSG00000090686.15 & Esophagus - Mucosa               & G=0.126 & A=0.874 & -0.174847 & 8.22640e-06 & 0.03921035 & 8.717088e-05 & 0.0006235505 & 0.9408501\\\\\n",
       "\t312 & rs7529220 & rs6426729   & chr1:21953889 & 0.893726637412644 & 1                 & USP48        & ENSG00000090686.15 & Esophagus - Mucosa               & T=0.126 & C=0.874 & -0.174847 & 8.22640e-06 & 0.03921035 & 8.717088e-05 & 0.0006235505 & 0.9427208\\\\\n",
       "\t326 & rs7529220 & rs10917072  & chr1:21955171 & 0.861418429239141 & 0.990706697459584 & USP48        & ENSG00000090686.15 & Esophagus - Mucosa               & G=0.124 & A=0.876 & -0.177265 & 7.23518e-06 & 0.03950943 & 7.697775e-05 & 0.0005506371 & 0.9509779\\\\\n",
       "\t328 & rs7529220 & rs12140171  & chr1:21955225 & 0.861418429239141 & 0.990706697459584 & USP48        & ENSG00000090686.15 & Esophagus - Mucosa               & T=0.124 & A=0.876 & -0.177265 & 7.23518e-06 & 0.03950943 & 7.697775e-05 & 0.0005506371 & 0.9520792\\\\\n",
       "\t329 & rs7529220 & rs10917074  & chr1:21955266 & 0.893726637412644 & 1                 & USP48        & ENSG00000090686.15 & Esophagus - Mucosa               & G=0.126 & A=0.874 & -0.177265 & 7.23518e-06 & 0.03950943 & 7.697775e-05 & 0.0005506371 & 0.9526299\\\\\n",
       "\t336 & rs7529220 & rs10917076  & chr1:21957242 & 0.276700509826136 & 1                 & LINC00339    & ENSG00000218510.6  & Small Intestine - Terminal Ileum & C=0.369 & T=0.631 &  0.353299 & 1.07500e-05 & 0.08026768 & 7.176472e-05 & 0.0005133472 & 0.9562912\\\\\n",
       "\t341 & rs7529220 & rs10917075  & chr1:21957178 & 0.285130573814177 & 1                 & RP11-26H16.4 & ENSG00000283234.1  & Lung                             & C=0.362 & T=0.638 &  0.175654 & 6.00043e-06 & 0.03880678 & 6.637510e-05 & 0.0004747942 & 0.9587582\\\\\n",
       "\t349 & rs7529220 & rs10917076  & chr1:21957242 & 0.276700509826136 & 1                 & LINC00339    & ENSG00000218510.6  & Adipose - Visceral (Omentum)     & C=0.369 & T=0.631 &  0.249415 & 7.38932e-06 & 0.05564623 & 5.898952e-05 & 0.0004219637 & 0.9624075\\\\\n",
       "\t362 & rs7529220 & rs6426729   & chr1:21953889 & 0.893726637412644 & 1                 & RP11-26H16.4 & ENSG00000283234.1  & Lung                             & T=0.126 & C=0.874 &  0.246531 & 5.90992e-06 & 0.05442682 & 4.859921e-05 & 0.0003476398 & 0.9673510\\\\\n",
       "\t363 & rs7529220 & rs10917069  & chr1:21951933 & 0.893726637412644 & 1                 & RP11-26H16.4 & ENSG00000283234.1  & Lung                             & C=0.126 & T=0.874 &  0.246708 & 5.90688e-06 & 0.05446459 & 4.855467e-05 & 0.0003473211 & 0.9676983\\\\\n",
       "\t364 & rs7529220 & rs10917070  & chr1:21952297 & 0.893726637412644 & 1                 & RP11-26H16.4 & ENSG00000283234.1  & Lung                             & G=0.126 & A=0.874 &  0.246708 & 5.90688e-06 & 0.05446459 & 4.855467e-05 & 0.0003473211 & 0.9680457\\\\\n",
       "\t388 & rs7529220 & rs78570036  & chr1:21936011 & 0.759406887755102 & 1                 & RNU6-1022P   & ENSG00000201919.1  & Pancreas                         & G=0.891 & A=0.109 &  0.405199 & 4.91882e-06 & 0.08869952 & 3.339983e-05 & 0.0002389156 & 0.9749200\\\\\n",
       "\t389 & rs7529220 & rs79899643  & chr1:21938858 & 0.759406887755102 & 1                 & RNU6-1022P   & ENSG00000201919.1  & Pancreas                         & G=0.891 & A=0.109 &  0.405199 & 4.91882e-06 & 0.08869952 & 3.339983e-05 & 0.0002389156 & 0.9751589\\\\\n",
       "\t393 & rs7529220 & rs111887321 & chr1:21945086 & 0.759406887755102 & 1                 & RNU6-1022P   & ENSG00000201919.1  & Pancreas                         & C=0.891 & T=0.109 &  0.405199 & 4.91882e-06 & 0.08869952 & 3.339983e-05 & 0.0002389156 & 0.9761146\\\\\n",
       "\t401 & rs7529220 & rs10917072  & chr1:21955171 & 0.861418429239141 & 0.990706697459584 & RP11-26H16.4 & ENSG00000283234.1  & Lung                             & G=0.124 & A=0.876 &  0.254279 & 3.77468e-06 & 0.05499806 & 3.182975e-05 & 0.0002276845 & 0.9779787\\\\\n",
       "\t403 & rs7529220 & rs12140171  & chr1:21955225 & 0.861418429239141 & 0.990706697459584 & RP11-26H16.4 & ENSG00000283234.1  & Lung                             & T=0.124 & A=0.876 &  0.254279 & 3.77468e-06 & 0.05499806 & 3.182975e-05 & 0.0002276845 & 0.9784341\\\\\n",
       "\t404 & rs7529220 & rs10917074  & chr1:21955266 & 0.893726637412644 & 1                 & RP11-26H16.4 & ENSG00000283234.1  & Lung                             & G=0.126 & A=0.874 &  0.254279 & 3.77468e-06 & 0.05499806 & 3.182975e-05 & 0.0002276845 & 0.9786618\\\\\n",
       "\t406 & rs7529220 & rs4406609   & chr1:21955624 & 0.893726637412644 & 1                 & RP11-26H16.4 & ENSG00000283234.1  & Lung                             & C=0.126 & A=0.874 &  0.254224 & 3.68549e-06 & 0.05492729 & 3.115562e-05 & 0.0002228623 & 0.9791080\\\\\n",
       "\t410 & rs7529220 & rs12039740  & chr1:21919357 & 0.759406887755102 & 1                 & RNU6-1022P   & ENSG00000201919.1  & Pancreas                         & C=0.891 & T=0.109 &  0.417458 & 4.50398e-06 & 0.09101573 & 3.053151e-05 & 0.0002183979 & 0.9799871\\\\\n",
       "\t431 & rs7529220 & rs10917076  & chr1:21957242 & 0.276700509826136 & 1                 & LINC00339    & ENSG00000218510.6  & Colon - Sigmoid                  & C=0.369 & T=0.631 &  0.378962 & 2.81652e-06 & 0.08090968 & 2.022374e-05 & 0.0001446644 & 0.9838554\\\\\n",
       "\t437 & rs7529220 & rs78538821  & chr1:21955434 & 0.751193361718863 & 0.989534569211244 & RNU6-1022P   & ENSG00000201919.1  & Pancreas                         & C=0.89  & T=0.11  &  0.412833 & 2.66026e-06 & 0.08792200 & 1.869927e-05 & 0.0001337595 & 0.9846821\\\\\n",
       "\t440 & rs7529220 & rs10917069  & chr1:21951933 & 0.893726637412644 & 1                 & CELA3A       & ENSG00000142789.19 & Pancreas                         & C=0.126 & T=0.874 &  0.265478 & 2.08943e-06 & 0.05595399 & 1.814244e-05 & 0.0001297765 & 0.9850784\\\\\n",
       "\t441 & rs7529220 & rs10917070  & chr1:21952297 & 0.893726637412644 & 1                 & CELA3A       & ENSG00000142789.19 & Pancreas                         & G=0.126 & A=0.874 &  0.265478 & 2.08943e-06 & 0.05595399 & 1.814244e-05 & 0.0001297765 & 0.9852081\\\\\n",
       "\t444 & rs7529220 & rs6426729   & chr1:21953889 & 0.893726637412644 & 1                 & CELA3A       & ENSG00000142789.19 & Pancreas                         & T=0.126 & C=0.874 &  0.265478 & 2.08943e-06 & 0.05595399 & 1.814244e-05 & 0.0001297765 & 0.9855975\\\\\n",
       "\t447 & rs7529220 & rs10917072  & chr1:21955171 & 0.861418429239141 & 0.990706697459584 & CELA3A       & ENSG00000142789.19 & Pancreas                         & G=0.124 & A=0.876 &  0.265478 & 2.08943e-06 & 0.05595399 & 1.814244e-05 & 0.0001297765 & 0.9859868\\\\\n",
       "\t449 & rs7529220 & rs12140171  & chr1:21955225 & 0.861418429239141 & 0.990706697459584 & CELA3A       & ENSG00000142789.19 & Pancreas                         & T=0.124 & A=0.876 &  0.265478 & 2.08943e-06 & 0.05595399 & 1.814244e-05 & 0.0001297765 & 0.9862464\\\\\n",
       "\t450 & rs7529220 & rs10917074  & chr1:21955266 & 0.893726637412644 & 1                 & CELA3A       & ENSG00000142789.19 & Pancreas                         & G=0.126 & A=0.874 &  0.265478 & 2.08943e-06 & 0.05595399 & 1.814244e-05 & 0.0001297765 & 0.9863761\\\\\n",
       "\t464 & rs7529220 & rs4406609   & chr1:21955624 & 0.893726637412644 & 1                 & CELA3A       & ENSG00000142789.19 & Pancreas                         & C=0.126 & A=0.874 &  0.264984 & 1.87486e-06 & 0.05559340 & 1.646883e-05 & 0.0001178048 & 0.9881016\\\\\n",
       "\\end{tabular}\n"
      ],
      "text/markdown": [
       "\n",
       "A data.frame: 54 x 16\n",
       "\n",
       "| <!--/--> | Query &lt;chr&gt; | RS_ID &lt;chr&gt; | Position_grch38 &lt;chr&gt; | R2 &lt;chr&gt; | D' &lt;chr&gt; | Gene_Symbol &lt;chr&gt; | Gencode_ID &lt;chr&gt; | Tissue &lt;chr&gt; | Non_effect_Allele_Freq &lt;chr&gt; | Effect_Allele_Freq &lt;chr&gt; | Effect_Size &lt;dbl&gt; | P_value &lt;dbl&gt; | Standard_Error &lt;dbl&gt; | ABF &lt;dbl&gt; | PPA &lt;dbl&gt; | cumsum_value &lt;dbl&gt; |\n",
       "|---|---|---|---|---|---|---|---|---|---|---|---|---|---|---|---|---|\n",
       "| 8 | rs7529220 | rs10917075  | chr1:21957178 | 0.285130573814177 | 1                 | WNT4         | ENSG00000162552.14 | Thyroid                          | C=0.362 | T=0.638 |  0.127382 | 1.59972e-04 | 0.03374308 | 1.430172e-03 | 0.0102303011 | 0.1372674 |\n",
       "| 16 | rs7529220 | rs10917076  | chr1:21957242 | 0.276700509826136 | 1                 | USP48        | ENSG00000090686.15 | Skin - Sun Exposed (Lower leg)   | C=0.369 | T=0.631 | -0.094770 | 6.56862e-05 | 0.02374359 | 1.153782e-03 | 0.0082532333 | 0.2082024 |\n",
       "| 31 | rs7529220 | rs10917076  | chr1:21957242 | 0.276700509826136 | 1                 | WNT4         | ENSG00000162552.14 | Thyroid                          | C=0.369 | T=0.631 |  0.132287 | 9.28774e-05 | 0.03384612 | 8.872070e-04 | 0.0063463664 | 0.3114929 |\n",
       "| 40 | rs7529220 | rs10917076  | chr1:21957242 | 0.276700509826136 | 1                 | RP11-26H16.4 | ENSG00000283234.1  | Lung                             | C=0.369 | T=0.631 |  0.152937 | 9.46354e-05 | 0.03917494 | 7.793646e-04 | 0.0055749484 | 0.3646633 |\n",
       "| 55 | rs7529220 | rs10917075  | chr1:21957178 | 0.285130573814177 | 1                 | HSPG2        | ENSG00000142798.17 | Adipose - Visceral (Omentum)     | C=0.362 | T=0.638 | -0.134667 | 6.69428e-05 | 0.03377739 | 6.678666e-04 | 0.0047773817 | 0.4421456 |\n",
       "| 76 | rs7529220 | rs10917076  | chr1:21957242 | 0.276700509826136 | 1                 | LINC00339    | ENSG00000218510.6  | Esophagus - Muscularis           | C=0.369 | T=0.631 |  0.240939 | 9.14869e-05 | 0.06158773 | 5.769543e-04 | 0.0041270678 | 0.5384604 |\n",
       "| 79 | rs7529220 | rs7539092   | chr1:21959568 | 0.845457863449521 | 0.990555586849171 | USP48        | ENSG00000090686.15 | Esophagus - Mucosa               | A=0.122 | G=0.878 | -0.159331 | 6.36617e-05 | 0.03984460 | 5.389958e-04 | 0.0038555429 | 0.5503125 |\n",
       "| 87 | rs7529220 | rs10799719  | chr1:21922388 | 0.282689079872285 | 1                 | HSPG2        | ENSG00000142798.17 | Adipose - Visceral (Omentum)     | G=0.364 | A=0.636 | -0.137586 | 4.41637e-05 | 0.03368455 | 4.654655e-04 | 0.0033295664 | 0.5782665 |\n",
       "| 100 | rs7529220 | rs10917075  | chr1:21957178 | 0.285130573814177 | 1                 | LINC00339    | ENSG00000218510.6  | Pancreas                         | C=0.362 | T=0.638 |  0.241598 | 6.16943e-05 | 0.06030550 | 4.044770e-04 | 0.0028933039 | 0.6189963 |\n",
       "| 147 | rs7529220 | rs10917069  | chr1:21951933 | 0.893726637412644 | 1                 | CELA3B       | ENSG00000219073.7  | Stomach                          | C=0.126 | T=0.874 | -0.298132 | 4.44989e-05 | 0.07302170 | 2.792111e-04 | 0.0019972520 | 0.7367906 |\n",
       "| 148 | rs7529220 | rs10917070  | chr1:21952297 | 0.893726637412644 | 1                 | CELA3B       | ENSG00000219073.7  | Stomach                          | G=0.126 | A=0.874 | -0.298132 | 4.44989e-05 | 0.07302170 | 2.792111e-04 | 0.0019972520 | 0.7387878 |\n",
       "| 151 | rs7529220 | rs6426729   | chr1:21953889 | 0.893726637412644 | 1                 | CELA3B       | ENSG00000219073.7  | Stomach                          | T=0.126 | C=0.874 | -0.298132 | 4.44989e-05 | 0.07302170 | 2.792111e-04 | 0.0019972520 | 0.7447796 |\n",
       "| 154 | rs7529220 | rs10917072  | chr1:21955171 | 0.861418429239141 | 0.990706697459584 | CELA3B       | ENSG00000219073.7  | Stomach                          | G=0.124 | A=0.876 | -0.298132 | 4.44989e-05 | 0.07302170 | 2.792111e-04 | 0.0019972520 | 0.7507714 |\n",
       "| 156 | rs7529220 | rs12140171  | chr1:21955225 | 0.861418429239141 | 0.990706697459584 | CELA3B       | ENSG00000219073.7  | Stomach                          | T=0.124 | A=0.876 | -0.298132 | 4.44989e-05 | 0.07302170 | 2.792111e-04 | 0.0019972520 | 0.7547659 |\n",
       "| 157 | rs7529220 | rs10917074  | chr1:21955266 | 0.893726637412644 | 1                 | CELA3B       | ENSG00000219073.7  | Stomach                          | G=0.126 | A=0.874 | -0.298132 | 4.44989e-05 | 0.07302170 | 2.792111e-04 | 0.0019972520 | 0.7567631 |\n",
       "| 158 | rs7529220 | rs4406609   | chr1:21955624 | 0.893726637412644 | 1                 | CELA3B       | ENSG00000219073.7  | Stomach                          | C=0.126 | A=0.874 | -0.298132 | 4.44989e-05 | 0.07302170 | 2.792111e-04 | 0.0019972520 | 0.7587604 |\n",
       "| 174 | rs7529220 | rs78570036  | chr1:21936011 | 0.759406887755102 | 1                 | HSPG2        | ENSG00000142798.17 | Pituitary                        | G=0.891 | A=0.109 | -0.365402 | 4.13531e-05 | 0.08912707 | 2.481722e-04 | 0.0017752244 | 0.7885810 |\n",
       "| 175 | rs7529220 | rs79899643  | chr1:21938858 | 0.759406887755102 | 1                 | HSPG2        | ENSG00000142798.17 | Pituitary                        | G=0.891 | A=0.109 | -0.365402 | 4.13531e-05 | 0.08912707 | 2.481722e-04 | 0.0017752244 | 0.7903562 |\n",
       "| 203 | rs7529220 | rs12039740  | chr1:21919357 | 0.759406887755102 | 1                 | HSPG2        | ENSG00000142798.17 | Pituitary                        | C=0.891 | T=0.109 | -0.373498 | 3.64530e-05 | 0.09045982 | 2.198136e-04 | 0.0015723702 | 0.8366272 |\n",
       "| 206 | rs7529220 | rs10917076  | chr1:21957242 | 0.276700509826136 | 1                 | RNU6-1022P   | ENSG00000201919.1  | Pancreas                         | C=0.369 | T=0.631 | -0.216236 | 2.90222e-05 | 0.05171865 | 2.180857e-04 | 0.0015600102 | 0.8413143 |\n",
       "| 212 | rs7529220 | rs6662815   | chr1:21956679 | 0.853684550743374 | 1                 | USP48        | ENSG00000090686.15 | Esophagus - Mucosa               | C=0.121 | T=0.879 | -0.175770 | 2.30549e-05 | 0.04152331 | 2.083990e-04 | 0.0014907189 | 0.8503839 |\n",
       "| 226 | rs7529220 | rs10917076  | chr1:21957242 | 0.276700509826136 | 1                 | RN7SL186P    | ENSG00000278124.1  | Pancreas                         | C=0.369 | T=0.631 |  0.206063 | 2.27228e-05 | 0.04864215 | 1.812489e-04 | 0.0012965090 | 0.8695612 |\n",
       "| 228 | rs7529220 | rs79932633  | chr1:21956331 | 0.743126692917197 | 0.979256021115144 | HSPG2        | ENSG00000142798.17 | Pituitary                        | C=0.889 | A=0.111 | -0.364025 | 2.91823e-05 | 0.08709242 | 1.798040e-04 | 0.0012861738 | 0.8721354 |\n",
       "| 244 | rs7529220 | rs7539092   | chr1:21959568 | 0.845457863449521 | 0.990555586849171 | CELA3A       | ENSG00000142789.19 | Pancreas                         | A=0.122 | G=0.878 |  0.242235 | 1.98795e-05 | 0.05677951 | 1.460029e-04 | 0.0010443875 | 0.8901770 |\n",
       "| 279 | rs7529220 | rs4406609   | chr1:21955624 | 0.893726637412644 | 1                 | USP48        | ENSG00000090686.15 | Esophagus - Mucosa               | C=0.126 | A=0.874 | -0.173911 | 1.01537e-05 | 0.03940099 | 1.048183e-04 | 0.0007497861 | 0.9211095 |\n",
       "| 308 | rs7529220 | rs10917069  | chr1:21951933 | 0.893726637412644 | 1                 | USP48        | ENSG00000090686.15 | Esophagus - Mucosa               | C=0.126 | T=0.874 | -0.174847 | 8.22640e-06 | 0.03921035 | 8.717088e-05 | 0.0006235505 | 0.9402266 |\n",
       "| 309 | rs7529220 | rs10917070  | chr1:21952297 | 0.893726637412644 | 1                 | USP48        | ENSG00000090686.15 | Esophagus - Mucosa               | G=0.126 | A=0.874 | -0.174847 | 8.22640e-06 | 0.03921035 | 8.717088e-05 | 0.0006235505 | 0.9408501 |\n",
       "| 312 | rs7529220 | rs6426729   | chr1:21953889 | 0.893726637412644 | 1                 | USP48        | ENSG00000090686.15 | Esophagus - Mucosa               | T=0.126 | C=0.874 | -0.174847 | 8.22640e-06 | 0.03921035 | 8.717088e-05 | 0.0006235505 | 0.9427208 |\n",
       "| 326 | rs7529220 | rs10917072  | chr1:21955171 | 0.861418429239141 | 0.990706697459584 | USP48        | ENSG00000090686.15 | Esophagus - Mucosa               | G=0.124 | A=0.876 | -0.177265 | 7.23518e-06 | 0.03950943 | 7.697775e-05 | 0.0005506371 | 0.9509779 |\n",
       "| 328 | rs7529220 | rs12140171  | chr1:21955225 | 0.861418429239141 | 0.990706697459584 | USP48        | ENSG00000090686.15 | Esophagus - Mucosa               | T=0.124 | A=0.876 | -0.177265 | 7.23518e-06 | 0.03950943 | 7.697775e-05 | 0.0005506371 | 0.9520792 |\n",
       "| 329 | rs7529220 | rs10917074  | chr1:21955266 | 0.893726637412644 | 1                 | USP48        | ENSG00000090686.15 | Esophagus - Mucosa               | G=0.126 | A=0.874 | -0.177265 | 7.23518e-06 | 0.03950943 | 7.697775e-05 | 0.0005506371 | 0.9526299 |\n",
       "| 336 | rs7529220 | rs10917076  | chr1:21957242 | 0.276700509826136 | 1                 | LINC00339    | ENSG00000218510.6  | Small Intestine - Terminal Ileum | C=0.369 | T=0.631 |  0.353299 | 1.07500e-05 | 0.08026768 | 7.176472e-05 | 0.0005133472 | 0.9562912 |\n",
       "| 341 | rs7529220 | rs10917075  | chr1:21957178 | 0.285130573814177 | 1                 | RP11-26H16.4 | ENSG00000283234.1  | Lung                             | C=0.362 | T=0.638 |  0.175654 | 6.00043e-06 | 0.03880678 | 6.637510e-05 | 0.0004747942 | 0.9587582 |\n",
       "| 349 | rs7529220 | rs10917076  | chr1:21957242 | 0.276700509826136 | 1                 | LINC00339    | ENSG00000218510.6  | Adipose - Visceral (Omentum)     | C=0.369 | T=0.631 |  0.249415 | 7.38932e-06 | 0.05564623 | 5.898952e-05 | 0.0004219637 | 0.9624075 |\n",
       "| 362 | rs7529220 | rs6426729   | chr1:21953889 | 0.893726637412644 | 1                 | RP11-26H16.4 | ENSG00000283234.1  | Lung                             | T=0.126 | C=0.874 |  0.246531 | 5.90992e-06 | 0.05442682 | 4.859921e-05 | 0.0003476398 | 0.9673510 |\n",
       "| 363 | rs7529220 | rs10917069  | chr1:21951933 | 0.893726637412644 | 1                 | RP11-26H16.4 | ENSG00000283234.1  | Lung                             | C=0.126 | T=0.874 |  0.246708 | 5.90688e-06 | 0.05446459 | 4.855467e-05 | 0.0003473211 | 0.9676983 |\n",
       "| 364 | rs7529220 | rs10917070  | chr1:21952297 | 0.893726637412644 | 1                 | RP11-26H16.4 | ENSG00000283234.1  | Lung                             | G=0.126 | A=0.874 |  0.246708 | 5.90688e-06 | 0.05446459 | 4.855467e-05 | 0.0003473211 | 0.9680457 |\n",
       "| 388 | rs7529220 | rs78570036  | chr1:21936011 | 0.759406887755102 | 1                 | RNU6-1022P   | ENSG00000201919.1  | Pancreas                         | G=0.891 | A=0.109 |  0.405199 | 4.91882e-06 | 0.08869952 | 3.339983e-05 | 0.0002389156 | 0.9749200 |\n",
       "| 389 | rs7529220 | rs79899643  | chr1:21938858 | 0.759406887755102 | 1                 | RNU6-1022P   | ENSG00000201919.1  | Pancreas                         | G=0.891 | A=0.109 |  0.405199 | 4.91882e-06 | 0.08869952 | 3.339983e-05 | 0.0002389156 | 0.9751589 |\n",
       "| 393 | rs7529220 | rs111887321 | chr1:21945086 | 0.759406887755102 | 1                 | RNU6-1022P   | ENSG00000201919.1  | Pancreas                         | C=0.891 | T=0.109 |  0.405199 | 4.91882e-06 | 0.08869952 | 3.339983e-05 | 0.0002389156 | 0.9761146 |\n",
       "| 401 | rs7529220 | rs10917072  | chr1:21955171 | 0.861418429239141 | 0.990706697459584 | RP11-26H16.4 | ENSG00000283234.1  | Lung                             | G=0.124 | A=0.876 |  0.254279 | 3.77468e-06 | 0.05499806 | 3.182975e-05 | 0.0002276845 | 0.9779787 |\n",
       "| 403 | rs7529220 | rs12140171  | chr1:21955225 | 0.861418429239141 | 0.990706697459584 | RP11-26H16.4 | ENSG00000283234.1  | Lung                             | T=0.124 | A=0.876 |  0.254279 | 3.77468e-06 | 0.05499806 | 3.182975e-05 | 0.0002276845 | 0.9784341 |\n",
       "| 404 | rs7529220 | rs10917074  | chr1:21955266 | 0.893726637412644 | 1                 | RP11-26H16.4 | ENSG00000283234.1  | Lung                             | G=0.126 | A=0.874 |  0.254279 | 3.77468e-06 | 0.05499806 | 3.182975e-05 | 0.0002276845 | 0.9786618 |\n",
       "| 406 | rs7529220 | rs4406609   | chr1:21955624 | 0.893726637412644 | 1                 | RP11-26H16.4 | ENSG00000283234.1  | Lung                             | C=0.126 | A=0.874 |  0.254224 | 3.68549e-06 | 0.05492729 | 3.115562e-05 | 0.0002228623 | 0.9791080 |\n",
       "| 410 | rs7529220 | rs12039740  | chr1:21919357 | 0.759406887755102 | 1                 | RNU6-1022P   | ENSG00000201919.1  | Pancreas                         | C=0.891 | T=0.109 |  0.417458 | 4.50398e-06 | 0.09101573 | 3.053151e-05 | 0.0002183979 | 0.9799871 |\n",
       "| 431 | rs7529220 | rs10917076  | chr1:21957242 | 0.276700509826136 | 1                 | LINC00339    | ENSG00000218510.6  | Colon - Sigmoid                  | C=0.369 | T=0.631 |  0.378962 | 2.81652e-06 | 0.08090968 | 2.022374e-05 | 0.0001446644 | 0.9838554 |\n",
       "| 437 | rs7529220 | rs78538821  | chr1:21955434 | 0.751193361718863 | 0.989534569211244 | RNU6-1022P   | ENSG00000201919.1  | Pancreas                         | C=0.89  | T=0.11  |  0.412833 | 2.66026e-06 | 0.08792200 | 1.869927e-05 | 0.0001337595 | 0.9846821 |\n",
       "| 440 | rs7529220 | rs10917069  | chr1:21951933 | 0.893726637412644 | 1                 | CELA3A       | ENSG00000142789.19 | Pancreas                         | C=0.126 | T=0.874 |  0.265478 | 2.08943e-06 | 0.05595399 | 1.814244e-05 | 0.0001297765 | 0.9850784 |\n",
       "| 441 | rs7529220 | rs10917070  | chr1:21952297 | 0.893726637412644 | 1                 | CELA3A       | ENSG00000142789.19 | Pancreas                         | G=0.126 | A=0.874 |  0.265478 | 2.08943e-06 | 0.05595399 | 1.814244e-05 | 0.0001297765 | 0.9852081 |\n",
       "| 444 | rs7529220 | rs6426729   | chr1:21953889 | 0.893726637412644 | 1                 | CELA3A       | ENSG00000142789.19 | Pancreas                         | T=0.126 | C=0.874 |  0.265478 | 2.08943e-06 | 0.05595399 | 1.814244e-05 | 0.0001297765 | 0.9855975 |\n",
       "| 447 | rs7529220 | rs10917072  | chr1:21955171 | 0.861418429239141 | 0.990706697459584 | CELA3A       | ENSG00000142789.19 | Pancreas                         | G=0.124 | A=0.876 |  0.265478 | 2.08943e-06 | 0.05595399 | 1.814244e-05 | 0.0001297765 | 0.9859868 |\n",
       "| 449 | rs7529220 | rs12140171  | chr1:21955225 | 0.861418429239141 | 0.990706697459584 | CELA3A       | ENSG00000142789.19 | Pancreas                         | T=0.124 | A=0.876 |  0.265478 | 2.08943e-06 | 0.05595399 | 1.814244e-05 | 0.0001297765 | 0.9862464 |\n",
       "| 450 | rs7529220 | rs10917074  | chr1:21955266 | 0.893726637412644 | 1                 | CELA3A       | ENSG00000142789.19 | Pancreas                         | G=0.126 | A=0.874 |  0.265478 | 2.08943e-06 | 0.05595399 | 1.814244e-05 | 0.0001297765 | 0.9863761 |\n",
       "| 464 | rs7529220 | rs4406609   | chr1:21955624 | 0.893726637412644 | 1                 | CELA3A       | ENSG00000142789.19 | Pancreas                         | C=0.126 | A=0.874 |  0.264984 | 1.87486e-06 | 0.05559340 | 1.646883e-05 | 0.0001178048 | 0.9881016 |\n",
       "\n"
      ],
      "text/plain": [
       "    Query     RS_ID       Position_grch38 R2                D'               \n",
       "8   rs7529220 rs10917075  chr1:21957178   0.285130573814177 1                \n",
       "16  rs7529220 rs10917076  chr1:21957242   0.276700509826136 1                \n",
       "31  rs7529220 rs10917076  chr1:21957242   0.276700509826136 1                \n",
       "40  rs7529220 rs10917076  chr1:21957242   0.276700509826136 1                \n",
       "55  rs7529220 rs10917075  chr1:21957178   0.285130573814177 1                \n",
       "76  rs7529220 rs10917076  chr1:21957242   0.276700509826136 1                \n",
       "79  rs7529220 rs7539092   chr1:21959568   0.845457863449521 0.990555586849171\n",
       "87  rs7529220 rs10799719  chr1:21922388   0.282689079872285 1                \n",
       "100 rs7529220 rs10917075  chr1:21957178   0.285130573814177 1                \n",
       "147 rs7529220 rs10917069  chr1:21951933   0.893726637412644 1                \n",
       "148 rs7529220 rs10917070  chr1:21952297   0.893726637412644 1                \n",
       "151 rs7529220 rs6426729   chr1:21953889   0.893726637412644 1                \n",
       "154 rs7529220 rs10917072  chr1:21955171   0.861418429239141 0.990706697459584\n",
       "156 rs7529220 rs12140171  chr1:21955225   0.861418429239141 0.990706697459584\n",
       "157 rs7529220 rs10917074  chr1:21955266   0.893726637412644 1                \n",
       "158 rs7529220 rs4406609   chr1:21955624   0.893726637412644 1                \n",
       "174 rs7529220 rs78570036  chr1:21936011   0.759406887755102 1                \n",
       "175 rs7529220 rs79899643  chr1:21938858   0.759406887755102 1                \n",
       "203 rs7529220 rs12039740  chr1:21919357   0.759406887755102 1                \n",
       "206 rs7529220 rs10917076  chr1:21957242   0.276700509826136 1                \n",
       "212 rs7529220 rs6662815   chr1:21956679   0.853684550743374 1                \n",
       "226 rs7529220 rs10917076  chr1:21957242   0.276700509826136 1                \n",
       "228 rs7529220 rs79932633  chr1:21956331   0.743126692917197 0.979256021115144\n",
       "244 rs7529220 rs7539092   chr1:21959568   0.845457863449521 0.990555586849171\n",
       "279 rs7529220 rs4406609   chr1:21955624   0.893726637412644 1                \n",
       "308 rs7529220 rs10917069  chr1:21951933   0.893726637412644 1                \n",
       "309 rs7529220 rs10917070  chr1:21952297   0.893726637412644 1                \n",
       "312 rs7529220 rs6426729   chr1:21953889   0.893726637412644 1                \n",
       "326 rs7529220 rs10917072  chr1:21955171   0.861418429239141 0.990706697459584\n",
       "328 rs7529220 rs12140171  chr1:21955225   0.861418429239141 0.990706697459584\n",
       "329 rs7529220 rs10917074  chr1:21955266   0.893726637412644 1                \n",
       "336 rs7529220 rs10917076  chr1:21957242   0.276700509826136 1                \n",
       "341 rs7529220 rs10917075  chr1:21957178   0.285130573814177 1                \n",
       "349 rs7529220 rs10917076  chr1:21957242   0.276700509826136 1                \n",
       "362 rs7529220 rs6426729   chr1:21953889   0.893726637412644 1                \n",
       "363 rs7529220 rs10917069  chr1:21951933   0.893726637412644 1                \n",
       "364 rs7529220 rs10917070  chr1:21952297   0.893726637412644 1                \n",
       "388 rs7529220 rs78570036  chr1:21936011   0.759406887755102 1                \n",
       "389 rs7529220 rs79899643  chr1:21938858   0.759406887755102 1                \n",
       "393 rs7529220 rs111887321 chr1:21945086   0.759406887755102 1                \n",
       "401 rs7529220 rs10917072  chr1:21955171   0.861418429239141 0.990706697459584\n",
       "403 rs7529220 rs12140171  chr1:21955225   0.861418429239141 0.990706697459584\n",
       "404 rs7529220 rs10917074  chr1:21955266   0.893726637412644 1                \n",
       "406 rs7529220 rs4406609   chr1:21955624   0.893726637412644 1                \n",
       "410 rs7529220 rs12039740  chr1:21919357   0.759406887755102 1                \n",
       "431 rs7529220 rs10917076  chr1:21957242   0.276700509826136 1                \n",
       "437 rs7529220 rs78538821  chr1:21955434   0.751193361718863 0.989534569211244\n",
       "440 rs7529220 rs10917069  chr1:21951933   0.893726637412644 1                \n",
       "441 rs7529220 rs10917070  chr1:21952297   0.893726637412644 1                \n",
       "444 rs7529220 rs6426729   chr1:21953889   0.893726637412644 1                \n",
       "447 rs7529220 rs10917072  chr1:21955171   0.861418429239141 0.990706697459584\n",
       "449 rs7529220 rs12140171  chr1:21955225   0.861418429239141 0.990706697459584\n",
       "450 rs7529220 rs10917074  chr1:21955266   0.893726637412644 1                \n",
       "464 rs7529220 rs4406609   chr1:21955624   0.893726637412644 1                \n",
       "    Gene_Symbol  Gencode_ID         Tissue                          \n",
       "8   WNT4         ENSG00000162552.14 Thyroid                         \n",
       "16  USP48        ENSG00000090686.15 Skin - Sun Exposed (Lower leg)  \n",
       "31  WNT4         ENSG00000162552.14 Thyroid                         \n",
       "40  RP11-26H16.4 ENSG00000283234.1  Lung                            \n",
       "55  HSPG2        ENSG00000142798.17 Adipose - Visceral (Omentum)    \n",
       "76  LINC00339    ENSG00000218510.6  Esophagus - Muscularis          \n",
       "79  USP48        ENSG00000090686.15 Esophagus - Mucosa              \n",
       "87  HSPG2        ENSG00000142798.17 Adipose - Visceral (Omentum)    \n",
       "100 LINC00339    ENSG00000218510.6  Pancreas                        \n",
       "147 CELA3B       ENSG00000219073.7  Stomach                         \n",
       "148 CELA3B       ENSG00000219073.7  Stomach                         \n",
       "151 CELA3B       ENSG00000219073.7  Stomach                         \n",
       "154 CELA3B       ENSG00000219073.7  Stomach                         \n",
       "156 CELA3B       ENSG00000219073.7  Stomach                         \n",
       "157 CELA3B       ENSG00000219073.7  Stomach                         \n",
       "158 CELA3B       ENSG00000219073.7  Stomach                         \n",
       "174 HSPG2        ENSG00000142798.17 Pituitary                       \n",
       "175 HSPG2        ENSG00000142798.17 Pituitary                       \n",
       "203 HSPG2        ENSG00000142798.17 Pituitary                       \n",
       "206 RNU6-1022P   ENSG00000201919.1  Pancreas                        \n",
       "212 USP48        ENSG00000090686.15 Esophagus - Mucosa              \n",
       "226 RN7SL186P    ENSG00000278124.1  Pancreas                        \n",
       "228 HSPG2        ENSG00000142798.17 Pituitary                       \n",
       "244 CELA3A       ENSG00000142789.19 Pancreas                        \n",
       "279 USP48        ENSG00000090686.15 Esophagus - Mucosa              \n",
       "308 USP48        ENSG00000090686.15 Esophagus - Mucosa              \n",
       "309 USP48        ENSG00000090686.15 Esophagus - Mucosa              \n",
       "312 USP48        ENSG00000090686.15 Esophagus - Mucosa              \n",
       "326 USP48        ENSG00000090686.15 Esophagus - Mucosa              \n",
       "328 USP48        ENSG00000090686.15 Esophagus - Mucosa              \n",
       "329 USP48        ENSG00000090686.15 Esophagus - Mucosa              \n",
       "336 LINC00339    ENSG00000218510.6  Small Intestine - Terminal Ileum\n",
       "341 RP11-26H16.4 ENSG00000283234.1  Lung                            \n",
       "349 LINC00339    ENSG00000218510.6  Adipose - Visceral (Omentum)    \n",
       "362 RP11-26H16.4 ENSG00000283234.1  Lung                            \n",
       "363 RP11-26H16.4 ENSG00000283234.1  Lung                            \n",
       "364 RP11-26H16.4 ENSG00000283234.1  Lung                            \n",
       "388 RNU6-1022P   ENSG00000201919.1  Pancreas                        \n",
       "389 RNU6-1022P   ENSG00000201919.1  Pancreas                        \n",
       "393 RNU6-1022P   ENSG00000201919.1  Pancreas                        \n",
       "401 RP11-26H16.4 ENSG00000283234.1  Lung                            \n",
       "403 RP11-26H16.4 ENSG00000283234.1  Lung                            \n",
       "404 RP11-26H16.4 ENSG00000283234.1  Lung                            \n",
       "406 RP11-26H16.4 ENSG00000283234.1  Lung                            \n",
       "410 RNU6-1022P   ENSG00000201919.1  Pancreas                        \n",
       "431 LINC00339    ENSG00000218510.6  Colon - Sigmoid                 \n",
       "437 RNU6-1022P   ENSG00000201919.1  Pancreas                        \n",
       "440 CELA3A       ENSG00000142789.19 Pancreas                        \n",
       "441 CELA3A       ENSG00000142789.19 Pancreas                        \n",
       "444 CELA3A       ENSG00000142789.19 Pancreas                        \n",
       "447 CELA3A       ENSG00000142789.19 Pancreas                        \n",
       "449 CELA3A       ENSG00000142789.19 Pancreas                        \n",
       "450 CELA3A       ENSG00000142789.19 Pancreas                        \n",
       "464 CELA3A       ENSG00000142789.19 Pancreas                        \n",
       "    Non_effect_Allele_Freq Effect_Allele_Freq Effect_Size P_value    \n",
       "8   C=0.362                T=0.638             0.127382   1.59972e-04\n",
       "16  C=0.369                T=0.631            -0.094770   6.56862e-05\n",
       "31  C=0.369                T=0.631             0.132287   9.28774e-05\n",
       "40  C=0.369                T=0.631             0.152937   9.46354e-05\n",
       "55  C=0.362                T=0.638            -0.134667   6.69428e-05\n",
       "76  C=0.369                T=0.631             0.240939   9.14869e-05\n",
       "79  A=0.122                G=0.878            -0.159331   6.36617e-05\n",
       "87  G=0.364                A=0.636            -0.137586   4.41637e-05\n",
       "100 C=0.362                T=0.638             0.241598   6.16943e-05\n",
       "147 C=0.126                T=0.874            -0.298132   4.44989e-05\n",
       "148 G=0.126                A=0.874            -0.298132   4.44989e-05\n",
       "151 T=0.126                C=0.874            -0.298132   4.44989e-05\n",
       "154 G=0.124                A=0.876            -0.298132   4.44989e-05\n",
       "156 T=0.124                A=0.876            -0.298132   4.44989e-05\n",
       "157 G=0.126                A=0.874            -0.298132   4.44989e-05\n",
       "158 C=0.126                A=0.874            -0.298132   4.44989e-05\n",
       "174 G=0.891                A=0.109            -0.365402   4.13531e-05\n",
       "175 G=0.891                A=0.109            -0.365402   4.13531e-05\n",
       "203 C=0.891                T=0.109            -0.373498   3.64530e-05\n",
       "206 C=0.369                T=0.631            -0.216236   2.90222e-05\n",
       "212 C=0.121                T=0.879            -0.175770   2.30549e-05\n",
       "226 C=0.369                T=0.631             0.206063   2.27228e-05\n",
       "228 C=0.889                A=0.111            -0.364025   2.91823e-05\n",
       "244 A=0.122                G=0.878             0.242235   1.98795e-05\n",
       "279 C=0.126                A=0.874            -0.173911   1.01537e-05\n",
       "308 C=0.126                T=0.874            -0.174847   8.22640e-06\n",
       "309 G=0.126                A=0.874            -0.174847   8.22640e-06\n",
       "312 T=0.126                C=0.874            -0.174847   8.22640e-06\n",
       "326 G=0.124                A=0.876            -0.177265   7.23518e-06\n",
       "328 T=0.124                A=0.876            -0.177265   7.23518e-06\n",
       "329 G=0.126                A=0.874            -0.177265   7.23518e-06\n",
       "336 C=0.369                T=0.631             0.353299   1.07500e-05\n",
       "341 C=0.362                T=0.638             0.175654   6.00043e-06\n",
       "349 C=0.369                T=0.631             0.249415   7.38932e-06\n",
       "362 T=0.126                C=0.874             0.246531   5.90992e-06\n",
       "363 C=0.126                T=0.874             0.246708   5.90688e-06\n",
       "364 G=0.126                A=0.874             0.246708   5.90688e-06\n",
       "388 G=0.891                A=0.109             0.405199   4.91882e-06\n",
       "389 G=0.891                A=0.109             0.405199   4.91882e-06\n",
       "393 C=0.891                T=0.109             0.405199   4.91882e-06\n",
       "401 G=0.124                A=0.876             0.254279   3.77468e-06\n",
       "403 T=0.124                A=0.876             0.254279   3.77468e-06\n",
       "404 G=0.126                A=0.874             0.254279   3.77468e-06\n",
       "406 C=0.126                A=0.874             0.254224   3.68549e-06\n",
       "410 C=0.891                T=0.109             0.417458   4.50398e-06\n",
       "431 C=0.369                T=0.631             0.378962   2.81652e-06\n",
       "437 C=0.89                 T=0.11              0.412833   2.66026e-06\n",
       "440 C=0.126                T=0.874             0.265478   2.08943e-06\n",
       "441 G=0.126                A=0.874             0.265478   2.08943e-06\n",
       "444 T=0.126                C=0.874             0.265478   2.08943e-06\n",
       "447 G=0.124                A=0.876             0.265478   2.08943e-06\n",
       "449 T=0.124                A=0.876             0.265478   2.08943e-06\n",
       "450 G=0.126                A=0.874             0.265478   2.08943e-06\n",
       "464 C=0.126                A=0.874             0.264984   1.87486e-06\n",
       "    Standard_Error ABF          PPA          cumsum_value\n",
       "8   0.03374308     1.430172e-03 0.0102303011 0.1372674   \n",
       "16  0.02374359     1.153782e-03 0.0082532333 0.2082024   \n",
       "31  0.03384612     8.872070e-04 0.0063463664 0.3114929   \n",
       "40  0.03917494     7.793646e-04 0.0055749484 0.3646633   \n",
       "55  0.03377739     6.678666e-04 0.0047773817 0.4421456   \n",
       "76  0.06158773     5.769543e-04 0.0041270678 0.5384604   \n",
       "79  0.03984460     5.389958e-04 0.0038555429 0.5503125   \n",
       "87  0.03368455     4.654655e-04 0.0033295664 0.5782665   \n",
       "100 0.06030550     4.044770e-04 0.0028933039 0.6189963   \n",
       "147 0.07302170     2.792111e-04 0.0019972520 0.7367906   \n",
       "148 0.07302170     2.792111e-04 0.0019972520 0.7387878   \n",
       "151 0.07302170     2.792111e-04 0.0019972520 0.7447796   \n",
       "154 0.07302170     2.792111e-04 0.0019972520 0.7507714   \n",
       "156 0.07302170     2.792111e-04 0.0019972520 0.7547659   \n",
       "157 0.07302170     2.792111e-04 0.0019972520 0.7567631   \n",
       "158 0.07302170     2.792111e-04 0.0019972520 0.7587604   \n",
       "174 0.08912707     2.481722e-04 0.0017752244 0.7885810   \n",
       "175 0.08912707     2.481722e-04 0.0017752244 0.7903562   \n",
       "203 0.09045982     2.198136e-04 0.0015723702 0.8366272   \n",
       "206 0.05171865     2.180857e-04 0.0015600102 0.8413143   \n",
       "212 0.04152331     2.083990e-04 0.0014907189 0.8503839   \n",
       "226 0.04864215     1.812489e-04 0.0012965090 0.8695612   \n",
       "228 0.08709242     1.798040e-04 0.0012861738 0.8721354   \n",
       "244 0.05677951     1.460029e-04 0.0010443875 0.8901770   \n",
       "279 0.03940099     1.048183e-04 0.0007497861 0.9211095   \n",
       "308 0.03921035     8.717088e-05 0.0006235505 0.9402266   \n",
       "309 0.03921035     8.717088e-05 0.0006235505 0.9408501   \n",
       "312 0.03921035     8.717088e-05 0.0006235505 0.9427208   \n",
       "326 0.03950943     7.697775e-05 0.0005506371 0.9509779   \n",
       "328 0.03950943     7.697775e-05 0.0005506371 0.9520792   \n",
       "329 0.03950943     7.697775e-05 0.0005506371 0.9526299   \n",
       "336 0.08026768     7.176472e-05 0.0005133472 0.9562912   \n",
       "341 0.03880678     6.637510e-05 0.0004747942 0.9587582   \n",
       "349 0.05564623     5.898952e-05 0.0004219637 0.9624075   \n",
       "362 0.05442682     4.859921e-05 0.0003476398 0.9673510   \n",
       "363 0.05446459     4.855467e-05 0.0003473211 0.9676983   \n",
       "364 0.05446459     4.855467e-05 0.0003473211 0.9680457   \n",
       "388 0.08869952     3.339983e-05 0.0002389156 0.9749200   \n",
       "389 0.08869952     3.339983e-05 0.0002389156 0.9751589   \n",
       "393 0.08869952     3.339983e-05 0.0002389156 0.9761146   \n",
       "401 0.05499806     3.182975e-05 0.0002276845 0.9779787   \n",
       "403 0.05499806     3.182975e-05 0.0002276845 0.9784341   \n",
       "404 0.05499806     3.182975e-05 0.0002276845 0.9786618   \n",
       "406 0.05492729     3.115562e-05 0.0002228623 0.9791080   \n",
       "410 0.09101573     3.053151e-05 0.0002183979 0.9799871   \n",
       "431 0.08090968     2.022374e-05 0.0001446644 0.9838554   \n",
       "437 0.08792200     1.869927e-05 0.0001337595 0.9846821   \n",
       "440 0.05595399     1.814244e-05 0.0001297765 0.9850784   \n",
       "441 0.05595399     1.814244e-05 0.0001297765 0.9852081   \n",
       "444 0.05595399     1.814244e-05 0.0001297765 0.9855975   \n",
       "447 0.05595399     1.814244e-05 0.0001297765 0.9859868   \n",
       "449 0.05595399     1.814244e-05 0.0001297765 0.9862464   \n",
       "450 0.05595399     1.814244e-05 0.0001297765 0.9863761   \n",
       "464 0.05559340     1.646883e-05 0.0001178048 0.9881016   "
      ]
     },
     "metadata": {},
     "output_type": "display_data"
    }
   ],
   "source": [
    "subset_credible_variant_set_sorted_filtered_comparison"
   ]
  },
  {
   "cell_type": "code",
   "execution_count": 65,
   "id": "1907c6ce-eca7-4d56-b9db-257519ee3336",
   "metadata": {
    "vscode": {
     "languageId": "r"
    }
   },
   "outputs": [
    {
     "data": {
      "text/html": [
       "18"
      ],
      "text/latex": [
       "18"
      ],
      "text/markdown": [
       "18"
      ],
      "text/plain": [
       "[1] 18"
      ]
     },
     "metadata": {},
     "output_type": "display_data"
    }
   ],
   "source": [
    "length(unique(subset_credible_variant_set_sorted_filtered_comparison$RS_ID))"
   ]
  }
 ],
 "metadata": {
  "kernelspec": {
   "display_name": "R",
   "language": "R",
   "name": "ir"
  },
  "language_info": {
   "codemirror_mode": "r",
   "file_extension": ".r",
   "mimetype": "text/x-r-source",
   "name": "R",
   "pygments_lexer": "r",
   "version": "4.3.3"
  }
 },
 "nbformat": 4,
 "nbformat_minor": 5
}
